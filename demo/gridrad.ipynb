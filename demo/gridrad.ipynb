{
 "cells": [
  {
   "cell_type": "code",
   "execution_count": 1,
   "metadata": {},
   "outputs": [
    {
     "name": "stdout",
     "output_type": "stream",
     "text": [
      "\n",
      "## You are using the Python ARM Radar Toolkit (Py-ART), an open source\n",
      "## library for working with weather radar data. Py-ART is partly\n",
      "## supported by the U.S. Department of Energy as part of the Atmospheric\n",
      "## Radiation Measurement (ARM) Climate Research Facility, an Office of\n",
      "## Science user facility.\n",
      "##\n",
      "## If you use this software to prepare a publication, please cite:\n",
      "##\n",
      "##     JJ Helmus and SM Collis, JORS 2016, doi: 10.5334/jors.119\n",
      "\n"
     ]
    }
   ],
   "source": [
    "%load_ext autoreload\n",
    "%autoreload 2\n",
    "from pathlib import Path\n",
    "import shutil\n",
    "import thor.data as data\n",
    "import thor.data.dispatch as dispatch\n",
    "import thor.grid as grid\n",
    "import thor.track as track\n",
    "import thor.option as option\n",
    "import thor.visualize as visualize\n",
    "\n",
    "notebook_name = \"gridrad_demo.ipynb\""
   ]
  },
  {
   "cell_type": "code",
   "execution_count": 2,
   "metadata": {},
   "outputs": [
    {
     "name": "stderr",
     "output_type": "stream",
     "text": [
      "2024-09-23 12:19:41,933 - thor.data.era5 - WARNING - No longitude range provided. Setting to [-90, 90].\n",
      "2024-09-23 12:19:41,943 - thor.data.era5 - WARNING - No longitude range provided. Setting to [-180, 180].\n",
      "2024-09-23 12:19:41,944 - thor.data.era5 - WARNING - No longitude range provided. Setting to [-90, 90].\n",
      "2024-09-23 12:19:41,945 - thor.data.era5 - WARNING - No longitude range provided. Setting to [-180, 180].\n",
      "2024-09-23 12:19:41,947 - thor.option - DEBUG - Saving options to /home/ewan/THOR_output/options/data_options/gridrad_era5.yaml\n",
      "2024-09-23 12:19:41,956 - thor.grid - WARNING - Shape not specified. Will attempt to infer from input.\n",
      "2024-09-23 12:19:41,958 - thor.option - DEBUG - Saving options to /home/ewan/THOR_output/options/grid_options/gridrad_geographic.yaml\n",
      "2024-09-23 12:19:41,961 - thor.option - DEBUG - Saving options to /home/ewan/THOR_output/options/track_options/gridrad_mcs.yaml\n",
      "2024-09-23 12:19:42,002 - thor.option - DEBUG - Saving options to /home/ewan/THOR_output/options/visualize_options/runtime_mcs.yaml\n"
     ]
    }
   ],
   "source": [
    "# Parent directory for saving outputs\n",
    "base_local = Path.home() / \"THOR_output\"\n",
    "start = \"2010-01-20T18:00:00\"\n",
    "end = \"2010-01-20T19:00:00\"\n",
    "\n",
    "# Create the data_options dictionary\n",
    "converted_options = {\"save\": True, \"load\": False, \"parent_converted\": None}\n",
    "gridrad_options = data.gridrad.gridrad_data_options(\n",
    "    start=start, end=end, converted_options=converted_options\n",
    ")\n",
    "era5_pl_options = data.era5.data_options(start=start, end=end)\n",
    "era5_sl_options = data.era5.data_options(\n",
    "    start=start, end=end, data_format=\"single-levels\"\n",
    ")\n",
    "data_options = option.consolidate_options(\n",
    "    [gridrad_options, era5_pl_options, era5_sl_options]\n",
    ")\n",
    "\n",
    "dispatch.check_data_options(data_options)\n",
    "data.option.save_data_options(data_options, filename=\"gridrad_era5\")\n",
    "\n",
    "# Create the grid_options dictionary using the first file in the cpol dataset\n",
    "grid_options = grid.create_options(\n",
    "    name=\"geographic\", regrid=False, altitude_spacing=None, geographic_spacing=None\n",
    ")\n",
    "grid.check_options(grid_options)\n",
    "grid.save_grid_options(grid_options, filename=\"gridrad_geographic\")\n",
    "\n",
    "# Create the track_options dictionary\n",
    "track_options = option.mcs(\n",
    "    dataset=\"gridrad\",\n",
    "    global_flow_margin=70,\n",
    "    unique_global_flow=False,\n",
    ")\n",
    "# Disable tracking/matching for cell and anvil objects\n",
    "track_options[0][\"cell\"][\"tracking\"] = {\"method\": None}\n",
    "track_options[0][\"anvil\"][\"tracking\"] = {\"method\": None}\n",
    "option.check_options(track_options)\n",
    "option.save_track_options(track_options, filename=\"gridrad_mcs\")\n",
    "\n",
    "# Create the display_options dictionary\n",
    "# cell_vis_options = visualize.option.runtime_options(\n",
    "#     \"cell\", save=True, style=\"presentation\", figure_types=[\"mask\"]\n",
    "# )\n",
    "# anvil_vis_options = visualize.option.runtime_options(\n",
    "#     \"anvil\", save=True, style=\"presentation\", figure_types=[\"mask\"]\n",
    "# )\n",
    "# mcs_vis_options = visualize.option.runtime_options(\n",
    "#     \"mcs\", save=True, style=\"presentation\", figure_types=[\"mask\", \"match\"]\n",
    "# )\n",
    "# visualize_options = {\n",
    "#     \"cell\": cell_vis_options,\n",
    "#     \"anvil\": anvil_vis_options,\n",
    "#     \"mcs\": mcs_vis_options,\n",
    "# }\n",
    "visualize_options = None\n",
    "visualize.option.save_display_options(visualize_options, filename=\"runtime_mcs\")"
   ]
  },
  {
   "cell_type": "code",
   "execution_count": 1,
   "metadata": {},
   "outputs": [
    {
     "ename": "NameError",
     "evalue": "name 'base_local' is not defined",
     "output_type": "error",
     "traceback": [
      "\u001b[0;31m---------------------------------------------------------------------------\u001b[0m",
      "\u001b[0;31mNameError\u001b[0m                                 Traceback (most recent call last)",
      "Cell \u001b[0;32mIn[1], line 3\u001b[0m\n\u001b[1;32m      1\u001b[0m tag_options \u001b[38;5;241m=\u001b[39m \u001b[38;5;28;01mNone\u001b[39;00m\n\u001b[0;32m----> 3\u001b[0m output_directory \u001b[38;5;241m=\u001b[39m \u001b[43mbase_local\u001b[49m \u001b[38;5;241m/\u001b[39m \u001b[38;5;124m\"\u001b[39m\u001b[38;5;124mruns/gridrad_demo\u001b[39m\u001b[38;5;124m\"\u001b[39m\n\u001b[1;32m      4\u001b[0m \u001b[38;5;28;01mif\u001b[39;00m output_directory\u001b[38;5;241m.\u001b[39mexists():\n\u001b[1;32m      5\u001b[0m     shutil\u001b[38;5;241m.\u001b[39mrmtree(output_directory)\n",
      "\u001b[0;31mNameError\u001b[0m: name 'base_local' is not defined"
     ]
    }
   ],
   "source": [
    "tag_options = None\n",
    "\n",
    "output_directory = base_local / \"runs/gridrad_demo\"\n",
    "if output_directory.exists():\n",
    "    shutil.rmtree(output_directory)\n",
    "times = data.utils.generate_times(data_options[\"gridrad\"])\n",
    "tracks = track.simultaneous_track(\n",
    "    times,\n",
    "    data_options,\n",
    "    grid_options,\n",
    "    track_options,\n",
    "    visualize_options,\n",
    "    output_directory=base_local / \"runs/gridrad_demo\",\n",
    ")\n"
   ]
  }
 ],
 "metadata": {
  "kernelspec": {
   "display_name": "THOR",
   "language": "python",
   "name": "python3"
  },
  "language_info": {
   "codemirror_mode": {
    "name": "ipython",
    "version": 3
   },
   "file_extension": ".py",
   "mimetype": "text/x-python",
   "name": "python",
   "nbconvert_exporter": "python",
   "pygments_lexer": "ipython3",
   "version": "3.10.14"
  }
 },
 "nbformat": 4,
 "nbformat_minor": 2
}
