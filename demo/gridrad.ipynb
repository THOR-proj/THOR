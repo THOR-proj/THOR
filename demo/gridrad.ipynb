{
 "cells": [
  {
   "cell_type": "code",
   "execution_count": 3,
   "metadata": {},
   "outputs": [
    {
     "name": "stdout",
     "output_type": "stream",
     "text": [
      "The autoreload extension is already loaded. To reload it, use:\n",
      "  %reload_ext autoreload\n"
     ]
    }
   ],
   "source": [
    "%load_ext autoreload\n",
    "%autoreload 2\n",
    "from pathlib import Path\n",
    "import shutil\n",
    "import thor.data as data\n",
    "import thor.data.dispatch as dispatch\n",
    "import thor.grid as grid\n",
    "import thor.track as track\n",
    "import thor.option as option\n",
    "import thor.visualize as visualize\n",
    "\n",
    "notebook_name = \"gridrad_demo.ipynb\""
   ]
  },
  {
   "cell_type": "code",
   "execution_count": 2,
   "metadata": {},
   "outputs": [
    {
     "name": "stderr",
     "output_type": "stream",
     "text": [
      "2024-10-07 18:25:19,290 - thor.option - DEBUG - Saving options to /home/ewan/THOR_output/options/data/gridrad_era5.yml\n",
      "2024-10-07 18:25:19,302 - thor.grid - WARNING - Shape not specified. Will attempt to infer from input.\n",
      "2024-10-07 18:25:19,304 - thor.option - DEBUG - Saving options to /home/ewan/THOR_output/options/grid/gridrad_geographic.yml\n",
      "2024-10-07 18:25:19,308 - thor.option - DEBUG - Saving options to /home/ewan/THOR_output/options/track/gridrad_mcs.yml\n",
      "2024-10-07 18:25:19,318 - thor.option - DEBUG - Saving options to /home/ewan/THOR_output/options/visualize/runtime_mcs.yml\n"
     ]
    }
   ],
   "source": [
    "# Parent directory for saving outputs\n",
    "base_local = Path.home() / \"THOR_output\"\n",
    "start = \"2010-01-20T18:00:00\"\n",
    "end = \"2010-01-20T19:00:00\"\n",
    "\n",
    "# Create the data_options dictionary\n",
    "converted_options = {\"save\": True, \"load\": False, \"parent_converted\": None}\n",
    "gridrad_options = data.gridrad.gridrad_data_options(\n",
    "    start=start, end=end, converted_options=converted_options\n",
    ")\n",
    "\n",
    "lon_range = [129, 133]\n",
    "lat_range = [-14, -10]\n",
    "era5_pl_options = data.era5.data_options(\n",
    "    start=start, end=end, longitude_range=lon_range, latitude_range=lat_range\n",
    ")\n",
    "args_dict = {\"start\": start, \"end\": end, \"data_format\": \"single-levels\"}\n",
    "args_dict.update({\"longitude_range\": lon_range, \"latitude_range\": lat_range})\n",
    "era5_sl_options = data.era5.data_options(**args_dict)\n",
    "\n",
    "data_options = option.consolidate_options(\n",
    "    [gridrad_options, era5_pl_options, era5_sl_options]\n",
    ")\n",
    "\n",
    "dispatch.check_data_options(data_options)\n",
    "data.option.save_data_options(data_options, filename=\"gridrad_era5\")\n",
    "\n",
    "# Create the grid_options dictionary using the first file in the cpol dataset\n",
    "grid_options = grid.create_options(\n",
    "    name=\"geographic\", regrid=False, altitude_spacing=None, geographic_spacing=None\n",
    ")\n",
    "grid.check_options(grid_options)\n",
    "grid.save_grid_options(grid_options, filename=\"gridrad_geographic\")\n",
    "\n",
    "# Create the track_options dictionary\n",
    "track_options = option.mcs(\n",
    "    dataset=\"gridrad\",\n",
    "    global_flow_margin=70,\n",
    "    unique_global_flow=False,\n",
    ")\n",
    "# Disable tracking/matching for cell and anvil objects\n",
    "track_options[0][\"cell\"][\"tracking\"] = {\"method\": None}\n",
    "track_options[0][\"anvil\"][\"tracking\"] = {\"method\": None}\n",
    "option.check_options(track_options)\n",
    "option.save_track_options(track_options, filename=\"gridrad_mcs\")\n",
    "\n",
    "# Create the display_options dictionary\n",
    "# cell_vis_options = visualize.option.runtime_options(\n",
    "#     \"cell\", save=True, style=\"presentation\", figure_types=[\"mask\"]\n",
    "# )\n",
    "# anvil_vis_options = visualize.option.runtime_options(\n",
    "#     \"anvil\", save=True, style=\"presentation\", figure_types=[\"mask\"]\n",
    "# )\n",
    "# mcs_vis_options = visualize.option.runtime_options(\n",
    "#     \"mcs\", save=True, style=\"presentation\", figure_types=[\"mask\", \"match\"]\n",
    "# )\n",
    "# visualize_options = {\n",
    "#     \"cell\": cell_vis_options,\n",
    "#     \"anvil\": anvil_vis_options,\n",
    "#     \"mcs\": mcs_vis_options,\n",
    "# }\n",
    "visualize_options = None\n",
    "visualize.option.save_display_options(visualize_options, filename=\"runtime_mcs\")"
   ]
  },
  {
   "cell_type": "code",
   "execution_count": 12,
   "metadata": {},
   "outputs": [
    {
     "name": "stderr",
     "output_type": "stream",
     "text": [
      "2024-10-07 18:14:09,045 - thor.track - INFO - Beginning thor run. Saving output to /home/ewan/THOR_output/runs/gridrad_demo.\n",
      "2024-10-07 18:14:09,047 - thor.track - INFO - Beginning simultaneous tracking.\n",
      "2024-10-07 18:14:09,096 - thor.track - INFO - Processing 2010-01-20T18:00:00.\n",
      "2024-10-07 18:14:09,098 - thor.data.gridrad - INFO - Updating gridrad dataset for 2010-01-20T18:00:00.\n",
      "2024-10-07 18:14:09,099 - thor.data.gridrad - INFO - Converting gridrad data from nexrad_3d_v4_2_20100120T180000Z.nc\n",
      "2024-10-07 18:14:09,180 - thor.data.gridrad - DEBUG - Filtering GridRad data\n",
      "2024-10-07 18:14:09,729 - thor.data.gridrad - DEBUG - Removing clutter from the GridRad data\n",
      "2024-10-07 18:14:09,788 - thor.data.gridrad - DEBUG - Removing speckles from the GridRad data\n",
      "2024-10-07 18:14:10,018 - thor.data.gridrad - DEBUG - Removing low level clutter from the GridRad data\n",
      "2024-10-07 18:14:10,253 - thor.data.gridrad - DEBUG - Removing speckles from the GridRad data\n",
      "2024-10-07 18:14:10,480 - thor.data.gridrad - DEBUG - Restructuring GridRad dataset.\n",
      "2024-10-07 18:14:11,228 - thor.track - INFO - Processing hierarchy level 0.\n",
      "2024-10-07 18:14:11,229 - thor.track - INFO - Tracking cell.\n",
      "2024-10-07 18:14:25,353 - thor.track - INFO - Tracking middle_echo.\n",
      "2024-10-07 18:14:25,412 - thor.track - INFO - Tracking anvil.\n",
      "2024-10-07 18:14:25,459 - thor.track - INFO - Processing hierarchy level 1.\n",
      "2024-10-07 18:14:25,460 - thor.track - INFO - Tracking mcs.\n",
      "2024-10-07 18:14:25,658 - thor.match.match - INFO - Matching mcs objects.\n",
      "2024-10-07 18:14:25,662 - thor.match.match - INFO - No previous mask, or no objects in previous mask.\n",
      "2024-10-07 18:14:25,759 - thor.track - INFO - Processing 2010-01-20T18:10:00.\n",
      "2024-10-07 18:14:25,763 - thor.data.gridrad - INFO - Updating gridrad dataset for 2010-01-20T18:10:00.\n",
      "2024-10-07 18:14:25,765 - thor.data.gridrad - INFO - Converting gridrad data from nexrad_3d_v4_2_20100120T181000Z.nc\n",
      "2024-10-07 18:14:25,928 - thor.data.gridrad - DEBUG - Filtering GridRad data\n",
      "2024-10-07 18:14:26,940 - thor.data.gridrad - DEBUG - Removing clutter from the GridRad data\n",
      "2024-10-07 18:14:27,008 - thor.data.gridrad - DEBUG - Removing speckles from the GridRad data\n",
      "2024-10-07 18:14:27,270 - thor.data.gridrad - DEBUG - Removing low level clutter from the GridRad data\n",
      "2024-10-07 18:14:27,526 - thor.data.gridrad - DEBUG - Removing speckles from the GridRad data\n",
      "2024-10-07 18:14:27,767 - thor.data.gridrad - DEBUG - Restructuring GridRad dataset.\n",
      "2024-10-07 18:14:28,270 - thor.data.era5 - INFO - Updating era5_pl dataset for 2010-01-20T18:00:00.\n",
      "2024-10-07 18:14:28,272 - thor.data.era5 - WARNING - One or more filepaths do not exist; attempting download.\n",
      "2024-10-07 18:14:31,406 WARNING [2024-10-07T07:09:56.475248] You are using a deprecated API endpoint. If you are using cdsapi, please upgrade to the latest version.\n",
      "2024-10-07 18:14:31,409 INFO Request ID is b341c78f-0d9b-4604-9b60-9667f7108df7\n",
      "2024-10-07 18:14:31,727 INFO status has been updated to accepted\n"
     ]
    },
    {
     "ename": "KeyboardInterrupt",
     "evalue": "",
     "output_type": "error",
     "traceback": [
      "\u001b[0;31m---------------------------------------------------------------------------\u001b[0m",
      "\u001b[0;31mKeyboardInterrupt\u001b[0m                         Traceback (most recent call last)",
      "Cell \u001b[0;32mIn[12], line 5\u001b[0m\n\u001b[1;32m      3\u001b[0m     shutil\u001b[38;5;241m.\u001b[39mrmtree(output_directory)\n\u001b[1;32m      4\u001b[0m times \u001b[38;5;241m=\u001b[39m data\u001b[38;5;241m.\u001b[39mutils\u001b[38;5;241m.\u001b[39mgenerate_times(data_options[\u001b[38;5;124m\"\u001b[39m\u001b[38;5;124mgridrad\u001b[39m\u001b[38;5;124m\"\u001b[39m])\n\u001b[0;32m----> 5\u001b[0m tracks \u001b[38;5;241m=\u001b[39m \u001b[43mtrack\u001b[49m\u001b[38;5;241;43m.\u001b[39;49m\u001b[43msimultaneous_track\u001b[49m\u001b[43m(\u001b[49m\n\u001b[1;32m      6\u001b[0m \u001b[43m    \u001b[49m\u001b[43mtimes\u001b[49m\u001b[43m,\u001b[49m\n\u001b[1;32m      7\u001b[0m \u001b[43m    \u001b[49m\u001b[43mdata_options\u001b[49m\u001b[43m,\u001b[49m\n\u001b[1;32m      8\u001b[0m \u001b[43m    \u001b[49m\u001b[43mgrid_options\u001b[49m\u001b[43m,\u001b[49m\n\u001b[1;32m      9\u001b[0m \u001b[43m    \u001b[49m\u001b[43mtrack_options\u001b[49m\u001b[43m,\u001b[49m\n\u001b[1;32m     10\u001b[0m \u001b[43m    \u001b[49m\u001b[43mvisualize_options\u001b[49m\u001b[43m,\u001b[49m\n\u001b[1;32m     11\u001b[0m \u001b[43m    \u001b[49m\u001b[43moutput_directory\u001b[49m\u001b[38;5;241;43m=\u001b[39;49m\u001b[43mbase_local\u001b[49m\u001b[43m \u001b[49m\u001b[38;5;241;43m/\u001b[39;49m\u001b[43m \u001b[49m\u001b[38;5;124;43m\"\u001b[39;49m\u001b[38;5;124;43mruns/gridrad_demo\u001b[39;49m\u001b[38;5;124;43m\"\u001b[39;49m\u001b[43m,\u001b[49m\n\u001b[1;32m     12\u001b[0m \u001b[43m)\u001b[49m\n",
      "File \u001b[0;32m~/Documents/THOR/thor/track.py:229\u001b[0m, in \u001b[0;36msimultaneous_track\u001b[0;34m(times, data_options, grid_options, track_options, visualize_options, output_directory)\u001b[0m\n\u001b[1;32m    227\u001b[0m args \u001b[38;5;241m=\u001b[39m [previous_time, input_records[\u001b[38;5;124m\"\u001b[39m\u001b[38;5;124mtag\u001b[39m\u001b[38;5;124m\"\u001b[39m], track_options, data_options]\n\u001b[1;32m    228\u001b[0m args \u001b[38;5;241m+\u001b[39m\u001b[38;5;241m=\u001b[39m [grid_options]\n\u001b[0;32m--> 229\u001b[0m \u001b[43mdispatch\u001b[49m\u001b[38;5;241;43m.\u001b[39;49m\u001b[43mupdate_tag_input_records\u001b[49m\u001b[43m(\u001b[49m\u001b[38;5;241;43m*\u001b[39;49m\u001b[43margs\u001b[49m\u001b[43m)\u001b[49m\n\u001b[1;32m    230\u001b[0m \u001b[38;5;66;03m# loop over levels\u001b[39;00m\n\u001b[1;32m    231\u001b[0m \u001b[38;5;28;01mfor\u001b[39;00m level_index \u001b[38;5;129;01min\u001b[39;00m \u001b[38;5;28mrange\u001b[39m(\u001b[38;5;28mlen\u001b[39m(track_options)):\n",
      "File \u001b[0;32m~/Documents/THOR/thor/data/dispatch.py:166\u001b[0m, in \u001b[0;36mupdate_tag_input_records\u001b[0;34m(time, tag_input_records, track_options, data_options, grid_options)\u001b[0m\n\u001b[1;32m    164\u001b[0m \u001b[38;5;28;01mfor\u001b[39;00m name \u001b[38;5;129;01min\u001b[39;00m tag_input_records\u001b[38;5;241m.\u001b[39mkeys():\n\u001b[1;32m    165\u001b[0m     input_record \u001b[38;5;241m=\u001b[39m tag_input_records[name]\n\u001b[0;32m--> 166\u001b[0m     \u001b[43mboilerplate_update\u001b[49m\u001b[43m(\u001b[49m\n\u001b[1;32m    167\u001b[0m \u001b[43m        \u001b[49m\u001b[43mtime\u001b[49m\u001b[43m,\u001b[49m\u001b[43m \u001b[49m\u001b[43minput_record\u001b[49m\u001b[43m,\u001b[49m\u001b[43m \u001b[49m\u001b[43mtrack_options\u001b[49m\u001b[43m,\u001b[49m\u001b[43m \u001b[49m\u001b[43mdata_options\u001b[49m\u001b[43m[\u001b[49m\u001b[43mname\u001b[49m\u001b[43m]\u001b[49m\u001b[43m,\u001b[49m\u001b[43m \u001b[49m\u001b[43mgrid_options\u001b[49m\n\u001b[1;32m    168\u001b[0m \u001b[43m    \u001b[49m\u001b[43m)\u001b[49m\n",
      "File \u001b[0;32m~/Documents/THOR/thor/data/dispatch.py:120\u001b[0m, in \u001b[0;36mboilerplate_update\u001b[0;34m(time, input_record, track_options, dataset_options, grid_options)\u001b[0m\n\u001b[1;32m    118\u001b[0m \u001b[38;5;250m\u001b[39m\u001b[38;5;124;03m\"\"\"Update the dataset.\"\"\"\u001b[39;00m\n\u001b[1;32m    119\u001b[0m \u001b[38;5;28;01mif\u001b[39;00m \u001b[38;5;129;01mnot\u001b[39;00m time_in_dataset_range(time, input_record[\u001b[38;5;124m\"\u001b[39m\u001b[38;5;124mdataset\u001b[39m\u001b[38;5;124m\"\u001b[39m]):\n\u001b[0;32m--> 120\u001b[0m     \u001b[43mupdate_dataset\u001b[49m\u001b[43m(\u001b[49m\u001b[43mtime\u001b[49m\u001b[43m,\u001b[49m\u001b[43m \u001b[49m\u001b[43minput_record\u001b[49m\u001b[43m,\u001b[49m\u001b[43m \u001b[49m\u001b[43mtrack_options\u001b[49m\u001b[43m,\u001b[49m\u001b[43m \u001b[49m\u001b[43mdataset_options\u001b[49m\u001b[43m,\u001b[49m\u001b[43m \u001b[49m\u001b[43mgrid_options\u001b[49m\u001b[43m)\u001b[49m\n",
      "File \u001b[0;32m~/Documents/THOR/thor/data/dispatch.py:177\u001b[0m, in \u001b[0;36mupdate_dataset\u001b[0;34m(time, input_record, track_options, dataset_options, grid_options)\u001b[0m\n\u001b[1;32m    175\u001b[0m \u001b[38;5;28;01mif\u001b[39;00m updt_dataset \u001b[38;5;129;01mis\u001b[39;00m \u001b[38;5;28;01mNone\u001b[39;00m:\n\u001b[1;32m    176\u001b[0m     \u001b[38;5;28;01mraise\u001b[39;00m \u001b[38;5;167;01mKeyError\u001b[39;00m(\u001b[38;5;124mf\u001b[39m\u001b[38;5;124m\"\u001b[39m\u001b[38;5;124mDataset updater for \u001b[39m\u001b[38;5;132;01m{\u001b[39;00mdataset_options[\u001b[38;5;124m'\u001b[39m\u001b[38;5;124mname\u001b[39m\u001b[38;5;124m'\u001b[39m]\u001b[38;5;132;01m}\u001b[39;00m\u001b[38;5;124m not found.\u001b[39m\u001b[38;5;124m\"\u001b[39m)\n\u001b[0;32m--> 177\u001b[0m \u001b[43mupdt_dataset\u001b[49m\u001b[43m(\u001b[49m\u001b[43mtime\u001b[49m\u001b[43m,\u001b[49m\u001b[43m \u001b[49m\u001b[43minput_record\u001b[49m\u001b[43m,\u001b[49m\u001b[43m \u001b[49m\u001b[43mtrack_options\u001b[49m\u001b[43m,\u001b[49m\u001b[43m \u001b[49m\u001b[43mdataset_options\u001b[49m\u001b[43m,\u001b[49m\u001b[43m \u001b[49m\u001b[43mgrid_options\u001b[49m\u001b[43m)\u001b[49m\n",
      "File \u001b[0;32m~/Documents/THOR/thor/data/era5.py:483\u001b[0m, in \u001b[0;36mupdate_dataset\u001b[0;34m(time, input_record, track_options, dataset_options, grid_options)\u001b[0m\n\u001b[1;32m    481\u001b[0m     logger\u001b[38;5;241m.\u001b[39mwarning(\u001b[38;5;124m\"\u001b[39m\u001b[38;5;124mOne or more filepaths do not exist; attempting download.\u001b[39m\u001b[38;5;124m\"\u001b[39m)\n\u001b[1;32m    482\u001b[0m     cds_name, requests, local_paths \u001b[38;5;241m=\u001b[39m generate_cdsapi_requests(dataset_options)\n\u001b[0;32m--> 483\u001b[0m     \u001b[43missue_cdsapi_requests\u001b[49m\u001b[43m(\u001b[49m\u001b[43mcds_name\u001b[49m\u001b[43m,\u001b[49m\u001b[43m \u001b[49m\u001b[43mrequests\u001b[49m\u001b[43m,\u001b[49m\u001b[43m \u001b[49m\u001b[43mlocal_paths\u001b[49m\u001b[43m)\u001b[49m\n\u001b[1;32m    484\u001b[0m     \u001b[38;5;28;01mpass\u001b[39;00m\n\u001b[1;32m    486\u001b[0m lat \u001b[38;5;241m=\u001b[39m np\u001b[38;5;241m.\u001b[39marray(grid_options[\u001b[38;5;124m\"\u001b[39m\u001b[38;5;124mlatitude\u001b[39m\u001b[38;5;124m\"\u001b[39m])\n",
      "File \u001b[0;32m~/Documents/THOR/thor/data/era5.py:451\u001b[0m, in \u001b[0;36missue_cdsapi_requests\u001b[0;34m(cds_name, requests, local_paths, enforce_timeout, timeout)\u001b[0m\n\u001b[1;32m    449\u001b[0m \u001b[38;5;28;01mfor\u001b[39;00m field \u001b[38;5;129;01min\u001b[39;00m requests\u001b[38;5;241m.\u001b[39mkeys():\n\u001b[1;32m    450\u001b[0m     \u001b[38;5;28;01mfor\u001b[39;00m i \u001b[38;5;129;01min\u001b[39;00m \u001b[38;5;28mrange\u001b[39m(\u001b[38;5;28mlen\u001b[39m(local_paths[field])):\n\u001b[0;32m--> 451\u001b[0m         \u001b[43mhandle_request\u001b[49m\u001b[43m(\u001b[49m\u001b[43mcds_name\u001b[49m\u001b[43m,\u001b[49m\u001b[43m \u001b[49m\u001b[43mrequests\u001b[49m\u001b[43m[\u001b[49m\u001b[43mfield\u001b[49m\u001b[43m]\u001b[49m\u001b[43m[\u001b[49m\u001b[43mi\u001b[49m\u001b[43m]\u001b[49m\u001b[43m,\u001b[49m\u001b[43m \u001b[49m\u001b[43mlocal_paths\u001b[49m\u001b[43m[\u001b[49m\u001b[43mfield\u001b[49m\u001b[43m]\u001b[49m\u001b[43m[\u001b[49m\u001b[43mi\u001b[49m\u001b[43m]\u001b[49m\u001b[43m)\u001b[49m\n",
      "File \u001b[0;32m~/Documents/THOR/thor/data/era5.py:447\u001b[0m, in \u001b[0;36missue_cdsapi_requests.<locals>.handle_request\u001b[0;34m(cds_name, request, local_path)\u001b[0m\n\u001b[1;32m    445\u001b[0m         signal\u001b[38;5;241m.\u001b[39malarm(\u001b[38;5;241m0\u001b[39m)\n\u001b[1;32m    446\u001b[0m \u001b[38;5;28;01melse\u001b[39;00m:\n\u001b[0;32m--> 447\u001b[0m     \u001b[43mdownload_data\u001b[49m\u001b[43m(\u001b[49m\u001b[43mcds_name\u001b[49m\u001b[43m,\u001b[49m\u001b[43m \u001b[49m\u001b[43mrequest\u001b[49m\u001b[43m,\u001b[49m\u001b[43m \u001b[49m\u001b[43mlocal_path\u001b[49m\u001b[43m)\u001b[49m\n",
      "File \u001b[0;32m~/Documents/THOR/thor/data/era5.py:425\u001b[0m, in \u001b[0;36missue_cdsapi_requests.<locals>.download_data\u001b[0;34m(cds_name, request, local_path)\u001b[0m\n\u001b[1;32m    423\u001b[0m \u001b[38;5;28;01mdef\u001b[39;00m \u001b[38;5;21mdownload_data\u001b[39m(cds_name, request, local_path):\n\u001b[1;32m    424\u001b[0m     c \u001b[38;5;241m=\u001b[39m cdsapi\u001b[38;5;241m.\u001b[39mClient()\n\u001b[0;32m--> 425\u001b[0m     response \u001b[38;5;241m=\u001b[39m \u001b[43mc\u001b[49m\u001b[38;5;241;43m.\u001b[39;49m\u001b[43mretrieve\u001b[49m\u001b[43m(\u001b[49m\u001b[43mcds_name\u001b[49m\u001b[43m,\u001b[49m\u001b[43m \u001b[49m\u001b[43mrequest\u001b[49m\u001b[43m,\u001b[49m\u001b[43m \u001b[49m\u001b[43mlocal_path\u001b[49m\u001b[43m)\u001b[49m\n\u001b[1;32m    426\u001b[0m     \u001b[38;5;28;01mreturn\u001b[39;00m response\n",
      "File \u001b[0;32m~/miniconda3/envs/THOR/lib/python3.10/site-packages/cads_api_client/legacy_api_client.py:149\u001b[0m, in \u001b[0;36mLegacyApiClient.retrieve\u001b[0;34m(self, name, request, target)\u001b[0m\n\u001b[1;32m    146\u001b[0m \u001b[38;5;28;01mdef\u001b[39;00m \u001b[38;5;21mretrieve\u001b[39m(\n\u001b[1;32m    147\u001b[0m     \u001b[38;5;28mself\u001b[39m, name: \u001b[38;5;28mstr\u001b[39m, request: \u001b[38;5;28mdict\u001b[39m[\u001b[38;5;28mstr\u001b[39m, Any], target: \u001b[38;5;28mstr\u001b[39m \u001b[38;5;241m|\u001b[39m \u001b[38;5;28;01mNone\u001b[39;00m \u001b[38;5;241m=\u001b[39m \u001b[38;5;28;01mNone\u001b[39;00m\n\u001b[1;32m    148\u001b[0m ) \u001b[38;5;241m-\u001b[39m\u001b[38;5;241m>\u001b[39m \u001b[38;5;28mstr\u001b[39m \u001b[38;5;241m|\u001b[39m processing\u001b[38;5;241m.\u001b[39mResults:\n\u001b[0;32m--> 149\u001b[0m     result \u001b[38;5;241m=\u001b[39m \u001b[38;5;28;43mself\u001b[39;49m\u001b[38;5;241;43m.\u001b[39;49m\u001b[43mlogging_decorator\u001b[49m\u001b[43m(\u001b[49m\u001b[38;5;28;43mself\u001b[39;49m\u001b[38;5;241;43m.\u001b[39;49m\u001b[43mclient\u001b[49m\u001b[38;5;241;43m.\u001b[39;49m\u001b[43msubmit_and_wait_on_result\u001b[49m\u001b[43m)\u001b[49m\u001b[43m(\u001b[49m\n\u001b[1;32m    150\u001b[0m \u001b[43m        \u001b[49m\u001b[43mcollection_id\u001b[49m\u001b[38;5;241;43m=\u001b[39;49m\u001b[43mname\u001b[49m\u001b[43m,\u001b[49m\n\u001b[1;32m    151\u001b[0m \u001b[43m        \u001b[49m\u001b[43mretry_options\u001b[49m\u001b[38;5;241;43m=\u001b[39;49m\u001b[38;5;28;43mself\u001b[39;49m\u001b[38;5;241;43m.\u001b[39;49m\u001b[43mretry_options\u001b[49m\u001b[43m,\u001b[49m\n\u001b[1;32m    152\u001b[0m \u001b[43m        \u001b[49m\u001b[38;5;241;43m*\u001b[39;49m\u001b[38;5;241;43m*\u001b[39;49m\u001b[43mrequest\u001b[49m\u001b[43m,\u001b[49m\n\u001b[1;32m    153\u001b[0m \u001b[43m    \u001b[49m\u001b[43m)\u001b[49m\n\u001b[1;32m    154\u001b[0m     partial_download: Callable[\u001b[38;5;241m.\u001b[39m\u001b[38;5;241m.\u001b[39m\u001b[38;5;241m.\u001b[39m, \u001b[38;5;28mstr\u001b[39m] \u001b[38;5;241m=\u001b[39m functools\u001b[38;5;241m.\u001b[39mpartial(\n\u001b[1;32m    155\u001b[0m         result\u001b[38;5;241m.\u001b[39mdownload,\n\u001b[1;32m    156\u001b[0m         timeout\u001b[38;5;241m=\u001b[39m\u001b[38;5;28mself\u001b[39m\u001b[38;5;241m.\u001b[39mtimeout,\n\u001b[1;32m    157\u001b[0m         retry_options\u001b[38;5;241m=\u001b[39m\u001b[38;5;28mself\u001b[39m\u001b[38;5;241m.\u001b[39mretry_options,\n\u001b[1;32m    158\u001b[0m     )\n\u001b[1;32m    159\u001b[0m     result\u001b[38;5;241m.\u001b[39mdownload \u001b[38;5;241m=\u001b[39m \u001b[38;5;28mself\u001b[39m\u001b[38;5;241m.\u001b[39mlogging_decorator(partial_download)  \u001b[38;5;66;03m# type: ignore[method-assign]\u001b[39;00m\n",
      "File \u001b[0;32m~/miniconda3/envs/THOR/lib/python3.10/site-packages/cads_api_client/legacy_api_client.py:134\u001b[0m, in \u001b[0;36mLegacyApiClient.logging_decorator.<locals>.wrapper\u001b[0;34m(*args, **kwargs)\u001b[0m\n\u001b[1;32m    129\u001b[0m \u001b[38;5;129m@functools\u001b[39m\u001b[38;5;241m.\u001b[39mwraps(func)\n\u001b[1;32m    130\u001b[0m \u001b[38;5;28;01mdef\u001b[39;00m \u001b[38;5;21mwrapper\u001b[39m(\u001b[38;5;241m*\u001b[39margs: Any, \u001b[38;5;241m*\u001b[39m\u001b[38;5;241m*\u001b[39mkwargs: Any) \u001b[38;5;241m-\u001b[39m\u001b[38;5;241m>\u001b[39m Any:\n\u001b[1;32m    131\u001b[0m     \u001b[38;5;28;01mwith\u001b[39;00m LoggingContext(\n\u001b[1;32m    132\u001b[0m         logger\u001b[38;5;241m=\u001b[39mprocessing\u001b[38;5;241m.\u001b[39mlogger, quiet\u001b[38;5;241m=\u001b[39m\u001b[38;5;28mself\u001b[39m\u001b[38;5;241m.\u001b[39mquiet, debug\u001b[38;5;241m=\u001b[39m\u001b[38;5;28mself\u001b[39m\u001b[38;5;241m.\u001b[39m_debug\n\u001b[1;32m    133\u001b[0m     ):\n\u001b[0;32m--> 134\u001b[0m         \u001b[38;5;28;01mreturn\u001b[39;00m \u001b[43mfunc\u001b[49m\u001b[43m(\u001b[49m\u001b[38;5;241;43m*\u001b[39;49m\u001b[43margs\u001b[49m\u001b[43m,\u001b[49m\u001b[43m \u001b[49m\u001b[38;5;241;43m*\u001b[39;49m\u001b[38;5;241;43m*\u001b[39;49m\u001b[43mkwargs\u001b[49m\u001b[43m)\u001b[49m\n",
      "File \u001b[0;32m~/miniconda3/envs/THOR/lib/python3.10/site-packages/cads_api_client/api_client.py:77\u001b[0m, in \u001b[0;36mApiClient.submit_and_wait_on_result\u001b[0;34m(self, collection_id, retry_options, **request)\u001b[0m\n\u001b[1;32m     74\u001b[0m \u001b[38;5;28;01mdef\u001b[39;00m \u001b[38;5;21msubmit_and_wait_on_result\u001b[39m(\n\u001b[1;32m     75\u001b[0m     \u001b[38;5;28mself\u001b[39m, collection_id: \u001b[38;5;28mstr\u001b[39m, retry_options: Dict[\u001b[38;5;28mstr\u001b[39m, Any] \u001b[38;5;241m=\u001b[39m {}, \u001b[38;5;241m*\u001b[39m\u001b[38;5;241m*\u001b[39mrequest: Any\n\u001b[1;32m     76\u001b[0m ) \u001b[38;5;241m-\u001b[39m\u001b[38;5;241m>\u001b[39m processing\u001b[38;5;241m.\u001b[39mResults:\n\u001b[0;32m---> 77\u001b[0m     \u001b[38;5;28;01mreturn\u001b[39;00m \u001b[38;5;28;43mself\u001b[39;49m\u001b[38;5;241;43m.\u001b[39;49m\u001b[43mretrieve_api\u001b[49m\u001b[38;5;241;43m.\u001b[39;49m\u001b[43msubmit_and_wait_on_result\u001b[49m\u001b[43m(\u001b[49m\n\u001b[1;32m     78\u001b[0m \u001b[43m        \u001b[49m\u001b[43mcollection_id\u001b[49m\u001b[43m,\u001b[49m\u001b[43m \u001b[49m\u001b[43mretry_options\u001b[49m\u001b[38;5;241;43m=\u001b[39;49m\u001b[43mretry_options\u001b[49m\u001b[43m,\u001b[49m\u001b[43m \u001b[49m\u001b[38;5;241;43m*\u001b[39;49m\u001b[38;5;241;43m*\u001b[39;49m\u001b[43mrequest\u001b[49m\n\u001b[1;32m     79\u001b[0m \u001b[43m    \u001b[49m\u001b[43m)\u001b[49m\n",
      "File \u001b[0;32m~/miniconda3/envs/THOR/lib/python3.10/site-packages/cads_api_client/processing.py:454\u001b[0m, in \u001b[0;36mProcessing.submit_and_wait_on_result\u001b[0;34m(self, collection_id, retry_options, **request)\u001b[0m\n\u001b[1;32m    450\u001b[0m \u001b[38;5;28;01mdef\u001b[39;00m \u001b[38;5;21msubmit_and_wait_on_result\u001b[39m(\n\u001b[1;32m    451\u001b[0m     \u001b[38;5;28mself\u001b[39m, collection_id: \u001b[38;5;28mstr\u001b[39m, retry_options: Dict[\u001b[38;5;28mstr\u001b[39m, Any] \u001b[38;5;241m=\u001b[39m {}, \u001b[38;5;241m*\u001b[39m\u001b[38;5;241m*\u001b[39mrequest: Any\n\u001b[1;32m    452\u001b[0m ) \u001b[38;5;241m-\u001b[39m\u001b[38;5;241m>\u001b[39m Results:\n\u001b[1;32m    453\u001b[0m     remote \u001b[38;5;241m=\u001b[39m \u001b[38;5;28mself\u001b[39m\u001b[38;5;241m.\u001b[39msubmit(collection_id, retry_options\u001b[38;5;241m=\u001b[39mretry_options, \u001b[38;5;241m*\u001b[39m\u001b[38;5;241m*\u001b[39mrequest)\n\u001b[0;32m--> 454\u001b[0m     \u001b[43mremote\u001b[49m\u001b[38;5;241;43m.\u001b[39;49m\u001b[43mwait_on_result\u001b[49m\u001b[43m(\u001b[49m\u001b[43mretry_options\u001b[49m\u001b[38;5;241;43m=\u001b[39;49m\u001b[43mretry_options\u001b[49m\u001b[43m)\u001b[49m\n\u001b[1;32m    455\u001b[0m     \u001b[38;5;28;01mreturn\u001b[39;00m remote\u001b[38;5;241m.\u001b[39mmake_results()\n",
      "File \u001b[0;32m~/miniconda3/envs/THOR/lib/python3.10/site-packages/cads_api_client/processing.py:248\u001b[0m, in \u001b[0;36mRemote.wait_on_result\u001b[0;34m(self, retry_options)\u001b[0m\n\u001b[1;32m    246\u001b[0m     \u001b[38;5;28;01mraise\u001b[39;00m ProcessingFailedError(\u001b[38;5;124mf\u001b[39m\u001b[38;5;124m\"\u001b[39m\u001b[38;5;124mUnknown API state \u001b[39m\u001b[38;5;132;01m{\u001b[39;00mstatus\u001b[38;5;132;01m!r}\u001b[39;00m\u001b[38;5;124m\"\u001b[39m)\n\u001b[1;32m    247\u001b[0m logger\u001b[38;5;241m.\u001b[39mdebug(\u001b[38;5;124mf\u001b[39m\u001b[38;5;124m\"\u001b[39m\u001b[38;5;124mresult not ready, waiting for \u001b[39m\u001b[38;5;132;01m{\u001b[39;00msleep\u001b[38;5;132;01m}\u001b[39;00m\u001b[38;5;124m seconds\u001b[39m\u001b[38;5;124m\"\u001b[39m)\n\u001b[0;32m--> 248\u001b[0m \u001b[43mtime\u001b[49m\u001b[38;5;241;43m.\u001b[39;49m\u001b[43msleep\u001b[49m\u001b[43m(\u001b[49m\u001b[43msleep\u001b[49m\u001b[43m)\u001b[49m\n",
      "\u001b[0;31mKeyboardInterrupt\u001b[0m: "
     ]
    }
   ],
   "source": [
    "output_directory = base_local / \"runs/gridrad_demo\"\n",
    "if output_directory.exists():\n",
    "    shutil.rmtree(output_directory)\n",
    "times = data.utils.generate_times(data_options[\"gridrad\"])\n",
    "tracks = track.simultaneous_track(\n",
    "    times,\n",
    "    data_options,\n",
    "    grid_options,\n",
    "    track_options,\n",
    "    visualize_options,\n",
    "    output_directory=base_local / \"runs/gridrad_demo\",\n",
    ")\n"
   ]
  }
 ],
 "metadata": {
  "kernelspec": {
   "display_name": "THOR",
   "language": "python",
   "name": "python3"
  },
  "language_info": {
   "codemirror_mode": {
    "name": "ipython",
    "version": 3
   },
   "file_extension": ".py",
   "mimetype": "text/x-python",
   "name": "python",
   "nbconvert_exporter": "python",
   "pygments_lexer": "ipython3",
   "version": "3.10.14"
  }
 },
 "nbformat": 4,
 "nbformat_minor": 2
}
