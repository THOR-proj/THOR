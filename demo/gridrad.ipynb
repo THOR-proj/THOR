{
 "cells": [
  {
   "cell_type": "code",
   "execution_count": 1,
   "metadata": {},
   "outputs": [
    {
     "name": "stdout",
     "output_type": "stream",
     "text": [
      "\n",
      "## You are using the Python ARM Radar Toolkit (Py-ART), an open source\n",
      "## library for working with weather radar data. Py-ART is partly\n",
      "## supported by the U.S. Department of Energy as part of the Atmospheric\n",
      "## Radiation Measurement (ARM) Climate Research Facility, an Office of\n",
      "## Science user facility.\n",
      "##\n",
      "## If you use this software to prepare a publication, please cite:\n",
      "##\n",
      "##     JJ Helmus and SM Collis, JORS 2016, doi: 10.5334/jors.119\n",
      "\n"
     ]
    }
   ],
   "source": [
    "%load_ext autoreload\n",
    "%autoreload 2\n",
    "from pathlib import Path\n",
    "import glob\n",
    "import shutil\n",
    "import numpy as np\n",
    "import xarray as xr\n",
    "import matplotlib.pyplot as plt\n",
    "import thor.data as data\n",
    "import thor.data.dispatch as dispatch\n",
    "import thor.grid as grid\n",
    "import thor.track as track\n",
    "import thor.option as option\n",
    "import thor.tag as tag\n",
    "import thor.visualize as visualize\n",
    "\n",
    "notebook_name = \"gridrad_demo.ipynb\"\n",
    "__file__ = \"/home/ewan/Documents/THOR/examples/gridrad_demo.ipynb\""
   ]
  },
  {
   "cell_type": "code",
   "execution_count": 2,
   "metadata": {},
   "outputs": [
    {
     "ename": "NameError",
     "evalue": "name 'filepaths' is not defined",
     "output_type": "error",
     "traceback": [
      "\u001b[0;31m---------------------------------------------------------------------------\u001b[0m",
      "\u001b[0;31mNameError\u001b[0m                                 Traceback (most recent call last)",
      "Cell \u001b[0;32mIn[2], line 9\u001b[0m\n\u001b[1;32m      6\u001b[0m \u001b[38;5;66;03m# Create the data_options dictionary\u001b[39;00m\n\u001b[1;32m      7\u001b[0m converted_options \u001b[38;5;241m=\u001b[39m {\u001b[38;5;124m\"\u001b[39m\u001b[38;5;124msave\u001b[39m\u001b[38;5;124m\"\u001b[39m: \u001b[38;5;28;01mTrue\u001b[39;00m, \u001b[38;5;124m\"\u001b[39m\u001b[38;5;124mload\u001b[39m\u001b[38;5;124m\"\u001b[39m: \u001b[38;5;28;01mFalse\u001b[39;00m, \u001b[38;5;124m\"\u001b[39m\u001b[38;5;124mparent_converted\u001b[39m\u001b[38;5;124m\"\u001b[39m: \u001b[38;5;28;01mNone\u001b[39;00m}\n\u001b[1;32m      8\u001b[0m gridrad_options \u001b[38;5;241m=\u001b[39m data\u001b[38;5;241m.\u001b[39mgridrad\u001b[38;5;241m.\u001b[39mgridrad_data_options(\n\u001b[0;32m----> 9\u001b[0m     start\u001b[38;5;241m=\u001b[39mstart, end\u001b[38;5;241m=\u001b[39mend, converted_options\u001b[38;5;241m=\u001b[39mconverted_options, filepaths\u001b[38;5;241m=\u001b[39m\u001b[43mfilepaths\u001b[49m\n\u001b[1;32m     10\u001b[0m )\n\u001b[1;32m     11\u001b[0m era5_pl_options \u001b[38;5;241m=\u001b[39m data\u001b[38;5;241m.\u001b[39mera5\u001b[38;5;241m.\u001b[39mdata_options(start\u001b[38;5;241m=\u001b[39mstart, end\u001b[38;5;241m=\u001b[39mend)\n\u001b[1;32m     12\u001b[0m era5_sl_options \u001b[38;5;241m=\u001b[39m data\u001b[38;5;241m.\u001b[39mera5\u001b[38;5;241m.\u001b[39mdata_options(\n\u001b[1;32m     13\u001b[0m     start\u001b[38;5;241m=\u001b[39mstart, end\u001b[38;5;241m=\u001b[39mend, data_format\u001b[38;5;241m=\u001b[39m\u001b[38;5;124m\"\u001b[39m\u001b[38;5;124msingle-levels\u001b[39m\u001b[38;5;124m\"\u001b[39m\n\u001b[1;32m     14\u001b[0m )\n",
      "\u001b[0;31mNameError\u001b[0m: name 'filepaths' is not defined"
     ]
    }
   ],
   "source": [
    "# Parent directory for saving outputs\n",
    "base_local = Path(\"/home/ewan/THOR_output\")\n",
    "start = \"2010-01-20T18:00:00\"\n",
    "end = \"2010-01-21T03:30:00\"\n",
    "\n",
    "# Create the data_options dictionary\n",
    "converted_options = {\"save\": True, \"load\": False, \"parent_converted\": None}\n",
    "gridrad_options = data.gridrad.gridrad_data_options(\n",
    "    start=start, end=end, converted_options=converted_options\n",
    ")\n",
    "era5_pl_options = data.era5.data_options(start=start, end=end)\n",
    "era5_sl_options = data.era5.data_options(\n",
    "    start=start, end=end, data_format=\"single-levels\"\n",
    ")\n",
    "data_options = option.consolidate_options(\n",
    "    [gridrad_options, era5_pl_options, era5_sl_options]\n",
    ")\n",
    "\n",
    "dispatch.check_data_options(data_options)\n",
    "data.option.save_data_options(data_options, filename=\"gridrad_era5\")\n",
    "\n",
    "# Create the grid_options dictionary using the first file in the cpol dataset\n",
    "grid_options = grid.create_options(\n",
    "    name=\"geographic\", regrid=False, altitude_spacing=None, geographic_spacing=None\n",
    ")\n",
    "grid.check_options(grid_options)\n",
    "grid.save_grid_options(grid_options, filename=\"gridrad_geographic\")\n",
    "\n",
    "# Create the tag_options dictionary\n",
    "era5_pl_tag_options = data.era5.tag_options()\n",
    "era5_sl_tag_options = data.era5.tag_options(dataset=\"era5_sl\")\n",
    "tag_options = option.consolidate_options([era5_pl_tag_options, era5_sl_tag_options])\n",
    "tag.save_tag_options(tag_options, filename=\"era5\")\n",
    "\n",
    "# Create the track_options dictionary\n",
    "track_options = option.mcs(dataset=\"gridrad\", tags=[\"era5_pl\", \"era5_sl\"], global_flow_margin=150, unique_global_flow=False)\n",
    "option.save_track_options(track_options, filename=\"gridrad_mcs\")\n",
    "\n",
    "# Create the display_options dictionary\n",
    "visualize_options = {\n",
    "    obj: visualize.option.runtime_options(obj, save=True, style=\"presentation\")\n",
    "    for obj in [\"cell\", \"mcs\"]\n",
    "}\n",
    "# visualize_options[\"middle_cloud\"] = visualize.option.runtime_options(\n",
    "#     \"middle_cloud\", save=True, style=\"presentation\", figure_types=[\"mask\"]\n",
    "# )\n",
    "visualize.option.save_display_options(visualize_options, filename=\"runtime_mcs\")"
   ]
  },
  {
   "cell_type": "code",
   "execution_count": 3,
   "metadata": {},
   "outputs": [
    {
     "ename": "NameError",
     "evalue": "name 'data_options' is not defined",
     "output_type": "error",
     "traceback": [
      "\u001b[0;31m---------------------------------------------------------------------------\u001b[0m",
      "\u001b[0;31mNameError\u001b[0m                                 Traceback (most recent call last)",
      "Cell \u001b[0;32mIn[3], line 5\u001b[0m\n\u001b[1;32m      3\u001b[0m \u001b[38;5;28;01mexcept\u001b[39;00m \u001b[38;5;167;01mOSError\u001b[39;00m \u001b[38;5;28;01mas\u001b[39;00m e:\n\u001b[1;32m      4\u001b[0m     \u001b[38;5;28mprint\u001b[39m(\u001b[38;5;124mf\u001b[39m\u001b[38;5;124m\"\u001b[39m\u001b[38;5;124mError: \u001b[39m\u001b[38;5;132;01m{\u001b[39;00me\u001b[38;5;241m.\u001b[39mstrerror\u001b[38;5;132;01m}\u001b[39;00m\u001b[38;5;124m\"\u001b[39m)\n\u001b[0;32m----> 5\u001b[0m times \u001b[38;5;241m=\u001b[39m data\u001b[38;5;241m.\u001b[39mutils\u001b[38;5;241m.\u001b[39mgenerate_times(\u001b[43mdata_options\u001b[49m[\u001b[38;5;124m\"\u001b[39m\u001b[38;5;124mgridrad\u001b[39m\u001b[38;5;124m\"\u001b[39m])\n\u001b[1;32m      6\u001b[0m tracks \u001b[38;5;241m=\u001b[39m track\u001b[38;5;241m.\u001b[39msimultaneous_track(\n\u001b[1;32m      7\u001b[0m     times,\n\u001b[1;32m      8\u001b[0m     data_options,\n\u001b[0;32m   (...)\u001b[0m\n\u001b[1;32m     13\u001b[0m     output_directory\u001b[38;5;241m=\u001b[39mbase_local \u001b[38;5;241m/\u001b[39m \u001b[38;5;124m\"\u001b[39m\u001b[38;5;124mruns/gridrad_demo\u001b[39m\u001b[38;5;124m\"\u001b[39m,\n\u001b[1;32m     14\u001b[0m )\n",
      "\u001b[0;31mNameError\u001b[0m: name 'data_options' is not defined"
     ]
    }
   ],
   "source": [
    "try:\n",
    "    shutil.rmtree(base_local / \"runs/gridrad_demo\")\n",
    "except OSError as e:\n",
    "    print(f\"Error: {e.strerror}\")\n",
    "times = data.utils.generate_times(data_options[\"gridrad\"])\n",
    "tracks = track.simultaneous_track(\n",
    "    times,\n",
    "    data_options,\n",
    "    grid_options,\n",
    "    track_options,\n",
    "    tag_options,\n",
    "    visualize_options,\n",
    "    output_directory=base_local / \"runs/gridrad_demo\",\n",
    ")"
   ]
  },
  {
   "cell_type": "code",
   "execution_count": null,
   "metadata": {},
   "outputs": [],
   "source": []
  }
 ],
 "metadata": {
  "kernelspec": {
   "display_name": "THOR",
   "language": "python",
   "name": "python3"
  },
  "language_info": {
   "codemirror_mode": {
    "name": "ipython",
    "version": 3
   },
   "file_extension": ".py",
   "mimetype": "text/x-python",
   "name": "python",
   "nbconvert_exporter": "python",
   "pygments_lexer": "ipython3",
   "version": "3.10.14"
  }
 },
 "nbformat": 4,
 "nbformat_minor": 2
}
