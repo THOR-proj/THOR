{
 "cells": [
  {
   "cell_type": "code",
   "execution_count": 172,
   "metadata": {},
   "outputs": [
    {
     "name": "stdout",
     "output_type": "stream",
     "text": [
      "The autoreload extension is already loaded. To reload it, use:\n",
      "  %reload_ext autoreload\n"
     ]
    }
   ],
   "source": [
    "%load_ext autoreload\n",
    "%autoreload 2\n",
    "%matplotlib inline\n",
    "from pathlib import Path\n",
    "import numpy as np\n",
    "import pandas as pd\n",
    "import xarray as xr\n",
    "import glob\n",
    "from thor.parallel import get_filepath_dicts, generate_time_intervals, get_tracked_objects, get_match_dicts, stitch_run\n",
    "import thor.visualize as visualize\n",
    "import thor.analyze as analyze\n",
    "import thor.attribute as attribute\n",
    "import thor.write as write\n",
    "\n",
    "notebook_name = \"cpol_demo.ipynb\""
   ]
  },
  {
   "cell_type": "markdown",
   "metadata": {},
   "source": [
    "# Parallel"
   ]
  },
  {
   "cell_type": "code",
   "execution_count": 173,
   "metadata": {},
   "outputs": [],
   "source": [
    "base_local = Path.home() / \"THOR_output\"\n",
    "output_parent = base_local / \"runs/cpol_demo_parallel\"\n",
    "start = \"2005-11-13T13:00\"\n",
    "end = \"2005-11-13T17:00\"\n",
    "\n",
    "pd_start = pd.Timestamp(start)"
   ]
  },
  {
   "cell_type": "code",
   "execution_count": 174,
   "metadata": {},
   "outputs": [
    {
     "data": {
      "text/plain": [
       "PosixPath('/home/ewan/THOR_output/runs/cpol_demo_parallel')"
      ]
     },
     "execution_count": 174,
     "metadata": {},
     "output_type": "execute_result"
    }
   ],
   "source": [
    "output_parent"
   ]
  },
  {
   "cell_type": "code",
   "execution_count": 175,
   "metadata": {},
   "outputs": [],
   "source": [
    "intervals = generate_time_intervals(start, end)"
   ]
  },
  {
   "cell_type": "code",
   "execution_count": 187,
   "metadata": {},
   "outputs": [],
   "source": [
    "options = analyze.utils.read_options(output_parent / \"interval_0\")\n",
    "track_options = options[\"track\"]\n",
    "tracked_objects, all_objects = get_tracked_objects(track_options)"
   ]
  },
  {
   "cell_type": "code",
   "execution_count": 188,
   "metadata": {},
   "outputs": [],
   "source": [
    "csv_file_dict, mask_file_dict = get_filepath_dicts(output_parent, intervals)"
   ]
  },
  {
   "cell_type": "code",
   "execution_count": 189,
   "metadata": {},
   "outputs": [
    {
     "name": "stderr",
     "output_type": "stream",
     "text": [
      "2024-10-04 22:30:54,925 - thor.parallel - INFO - Stitching attribute files.\n"
     ]
    },
    {
     "name": "stderr",
     "output_type": "stream",
     "text": [
      "2024-10-04 22:30:57,036 - thor.write.attribute - DEBUG - Writing attribute dataframe to /home/ewan/THOR_output/runs/cpol_demo_parallel/attributes/anvil/core.csv\n",
      "2024-10-04 22:30:57,043 - thor.write.attribute - DEBUG - Saving attribute metadata to /home/ewan/THOR_output/runs/cpol_demo_parallel/attributes/anvil/core.yml\n",
      "2024-10-04 22:30:57,512 - thor.write.attribute - DEBUG - Writing attribute dataframe to /home/ewan/THOR_output/runs/cpol_demo_parallel/attributes/anvil/era5_pl/profile.csv\n",
      "2024-10-04 22:30:57,533 - thor.write.attribute - DEBUG - Saving attribute metadata to /home/ewan/THOR_output/runs/cpol_demo_parallel/attributes/anvil/era5_pl/profile.yml\n",
      "2024-10-04 22:30:57,886 - thor.write.attribute - DEBUG - Writing attribute dataframe to /home/ewan/THOR_output/runs/cpol_demo_parallel/attributes/anvil/era5_sl/tag.csv\n",
      "2024-10-04 22:30:57,892 - thor.write.attribute - DEBUG - Saving attribute metadata to /home/ewan/THOR_output/runs/cpol_demo_parallel/attributes/anvil/era5_sl/tag.yml\n",
      "2024-10-04 22:30:58,127 - thor.write.attribute - DEBUG - Writing attribute dataframe to /home/ewan/THOR_output/runs/cpol_demo_parallel/attributes/anvil/quality.csv\n",
      "2024-10-04 22:30:58,137 - thor.write.attribute - DEBUG - Saving attribute metadata to /home/ewan/THOR_output/runs/cpol_demo_parallel/attributes/anvil/quality.yml\n",
      "2024-10-04 22:30:58,557 - thor.write.attribute - DEBUG - Writing attribute dataframe to /home/ewan/THOR_output/runs/cpol_demo_parallel/attributes/cell/core.csv\n",
      "2024-10-04 22:30:58,564 - thor.write.attribute - DEBUG - Saving attribute metadata to /home/ewan/THOR_output/runs/cpol_demo_parallel/attributes/cell/core.yml\n",
      "2024-10-04 22:30:59,057 - thor.write.attribute - DEBUG - Writing attribute dataframe to /home/ewan/THOR_output/runs/cpol_demo_parallel/attributes/cell/era5_pl/profile.csv\n",
      "2024-10-04 22:30:59,106 - thor.write.attribute - DEBUG - Saving attribute metadata to /home/ewan/THOR_output/runs/cpol_demo_parallel/attributes/cell/era5_pl/profile.yml\n",
      "2024-10-04 22:30:59,468 - thor.write.attribute - DEBUG - Writing attribute dataframe to /home/ewan/THOR_output/runs/cpol_demo_parallel/attributes/cell/era5_sl/tag.csv\n",
      "2024-10-04 22:30:59,477 - thor.write.attribute - DEBUG - Saving attribute metadata to /home/ewan/THOR_output/runs/cpol_demo_parallel/attributes/cell/era5_sl/tag.yml\n",
      "2024-10-04 22:30:59,735 - thor.write.attribute - DEBUG - Writing attribute dataframe to /home/ewan/THOR_output/runs/cpol_demo_parallel/attributes/cell/quality.csv\n",
      "2024-10-04 22:30:59,741 - thor.write.attribute - DEBUG - Saving attribute metadata to /home/ewan/THOR_output/runs/cpol_demo_parallel/attributes/cell/quality.yml\n",
      "2024-10-04 22:31:00,008 - thor.write.attribute - DEBUG - Writing attribute dataframe to /home/ewan/THOR_output/runs/cpol_demo_parallel/attributes/mcs/anvil/core.csv\n",
      "2024-10-04 22:31:00,014 - thor.write.attribute - DEBUG - Saving attribute metadata to /home/ewan/THOR_output/runs/cpol_demo_parallel/attributes/mcs/anvil/core.yml\n",
      "2024-10-04 22:31:00,241 - thor.write.attribute - DEBUG - Writing attribute dataframe to /home/ewan/THOR_output/runs/cpol_demo_parallel/attributes/mcs/anvil/quality.csv\n",
      "2024-10-04 22:31:00,247 - thor.write.attribute - DEBUG - Saving attribute metadata to /home/ewan/THOR_output/runs/cpol_demo_parallel/attributes/mcs/anvil/quality.yml\n",
      "2024-10-04 22:31:00,641 - thor.write.attribute - DEBUG - Writing attribute dataframe to /home/ewan/THOR_output/runs/cpol_demo_parallel/attributes/mcs/cell/core.csv\n",
      "2024-10-04 22:31:00,648 - thor.write.attribute - DEBUG - Saving attribute metadata to /home/ewan/THOR_output/runs/cpol_demo_parallel/attributes/mcs/cell/core.yml\n",
      "2024-10-04 22:31:00,992 - thor.write.attribute - DEBUG - Writing attribute dataframe to /home/ewan/THOR_output/runs/cpol_demo_parallel/attributes/mcs/cell/ellipse.csv\n",
      "2024-10-04 22:31:00,998 - thor.write.attribute - DEBUG - Saving attribute metadata to /home/ewan/THOR_output/runs/cpol_demo_parallel/attributes/mcs/cell/ellipse.yml\n",
      "2024-10-04 22:31:01,232 - thor.write.attribute - DEBUG - Writing attribute dataframe to /home/ewan/THOR_output/runs/cpol_demo_parallel/attributes/mcs/cell/quality.csv\n",
      "2024-10-04 22:31:01,242 - thor.write.attribute - DEBUG - Saving attribute metadata to /home/ewan/THOR_output/runs/cpol_demo_parallel/attributes/mcs/cell/quality.yml\n",
      "2024-10-04 22:31:01,617 - thor.write.attribute - DEBUG - Writing attribute dataframe to /home/ewan/THOR_output/runs/cpol_demo_parallel/attributes/mcs/core.csv\n",
      "2024-10-04 22:31:01,625 - thor.write.attribute - DEBUG - Saving attribute metadata to /home/ewan/THOR_output/runs/cpol_demo_parallel/attributes/mcs/core.yml\n",
      "2024-10-04 22:31:02,080 - thor.write.attribute - DEBUG - Writing attribute dataframe to /home/ewan/THOR_output/runs/cpol_demo_parallel/attributes/mcs/era5_pl/profile.csv\n",
      "2024-10-04 22:31:02,096 - thor.write.attribute - DEBUG - Saving attribute metadata to /home/ewan/THOR_output/runs/cpol_demo_parallel/attributes/mcs/era5_pl/profile.yml\n",
      "2024-10-04 22:31:02,480 - thor.write.attribute - DEBUG - Writing attribute dataframe to /home/ewan/THOR_output/runs/cpol_demo_parallel/attributes/mcs/era5_sl/tag.csv\n",
      "2024-10-04 22:31:02,489 - thor.write.attribute - DEBUG - Saving attribute metadata to /home/ewan/THOR_output/runs/cpol_demo_parallel/attributes/mcs/era5_sl/tag.yml\n",
      "2024-10-04 22:31:02,826 - thor.write.attribute - DEBUG - Writing attribute dataframe to /home/ewan/THOR_output/runs/cpol_demo_parallel/attributes/mcs/group.csv\n",
      "2024-10-04 22:31:02,833 - thor.write.attribute - DEBUG - Saving attribute metadata to /home/ewan/THOR_output/runs/cpol_demo_parallel/attributes/mcs/group.yml\n",
      "2024-10-04 22:31:03,130 - thor.write.attribute - DEBUG - Writing attribute dataframe to /home/ewan/THOR_output/runs/cpol_demo_parallel/attributes/mcs/middle_echo/core.csv\n",
      "2024-10-04 22:31:03,137 - thor.write.attribute - DEBUG - Saving attribute metadata to /home/ewan/THOR_output/runs/cpol_demo_parallel/attributes/mcs/middle_echo/core.yml\n",
      "2024-10-04 22:31:03,375 - thor.write.attribute - DEBUG - Writing attribute dataframe to /home/ewan/THOR_output/runs/cpol_demo_parallel/attributes/mcs/middle_echo/quality.csv\n",
      "2024-10-04 22:31:03,382 - thor.write.attribute - DEBUG - Saving attribute metadata to /home/ewan/THOR_output/runs/cpol_demo_parallel/attributes/mcs/middle_echo/quality.yml\n",
      "2024-10-04 22:31:03,660 - thor.write.attribute - DEBUG - Writing attribute dataframe to /home/ewan/THOR_output/runs/cpol_demo_parallel/attributes/middle_echo/core.csv\n",
      "2024-10-04 22:31:03,667 - thor.write.attribute - DEBUG - Saving attribute metadata to /home/ewan/THOR_output/runs/cpol_demo_parallel/attributes/middle_echo/core.yml\n",
      "2024-10-04 22:31:03,898 - thor.write.attribute - DEBUG - Writing attribute dataframe to /home/ewan/THOR_output/runs/cpol_demo_parallel/attributes/middle_echo/quality.csv\n",
      "2024-10-04 22:31:03,904 - thor.write.attribute - DEBUG - Saving attribute metadata to /home/ewan/THOR_output/runs/cpol_demo_parallel/attributes/middle_echo/quality.yml\n"
     ]
    }
   ],
   "source": [
    "id_dicts = stitch_run(output_parent, intervals)"
   ]
  },
  {
   "cell_type": "code",
   "execution_count": 182,
   "metadata": {},
   "outputs": [],
   "source": [
    "# Loop over objects\n",
    "for k in range(len(mask_file_dict[0])):\n",
    "    filepaths = [mask_file_dict[j][k] for j in range(len(intervals))]\n",
    "    example_filepath = filepaths[0]\n",
    "    masks = [xr.open_dataset(filepath) for filepath in filepaths]\n",
    "    obj = Path(example_filepath).stem\n",
    "    new_masks = []\n",
    "    for i in range(len(intervals)):\n",
    "        mask = masks[i]\n",
    "        try:\n",
    "            mapping = id_dicts[obj].xs(i, level=\"interval\")\n",
    "            id_type = list(mapping.columns)[0]\n",
    "            mapping = mapping[id_type].to_dict()\n",
    "        except KeyError:\n",
    "            mapping = {}\n",
    "        new_mask = mask.copy()\n",
    "        for key in mapping.keys():\n",
    "            for var in mask.data_vars:\n",
    "                new_mask[var].values[mask[var].values == key] = mapping[key]\n",
    "        if i < len(intervals) - 1:\n",
    "            if masks[i + 1].time[0] != masks[i].time[-1]:\n",
    "                raise ValueError(\"Time intervals have produced non-continuous masks\")\n",
    "            new_mask = new_mask.isel(time=slice(0, -1))\n",
    "        new_masks.append(new_mask)\n",
    "    mask = xr.concat(new_masks, dim=\"time\")\n",
    "    # for var in mask.data_vars:\n",
    "    #     mask[var] = mask[var]\n",
    "    filepath = Path(filepaths[0])\n",
    "    filepath = Path(*[part for part in filepath.parts if part != \"interval_0\"])\n",
    "    filepath.parent.mkdir(parents=True, exist_ok=True)\n",
    "    # mask.to_netcdf(filepath)"
   ]
  },
  {
   "cell_type": "code",
   "execution_count": 186,
   "metadata": {},
   "outputs": [
    {
     "data": {
      "text/plain": [
       "<matplotlib.collections.QuadMesh at 0x70ad78d6cc10>"
      ]
     },
     "execution_count": 186,
     "metadata": {},
     "output_type": "execute_result"
    },
    {
     "data": {
      "image/png": "[encoded data removed]",
      "text/plain": [
       "<Figure size 640x480 with 2 Axes>"
      ]
     },
     "metadata": {},
     "output_type": "display_data"
    }
   ],
   "source": [
    "mask[\"anvil_mask\"].isel(time=-4).plot()"
   ]
  },
  {
   "cell_type": "code",
   "execution_count": 155,
   "metadata": {},
   "outputs": [
    {
     "data": {
      "text/plain": [
       "1.179136"
      ]
     },
     "execution_count": 155,
     "metadata": {},
     "output_type": "execute_result"
    }
   ],
   "source": [
    "mask.nbytes / 1e6"
   ]
  },
  {
   "cell_type": "code",
   "execution_count": 135,
   "metadata": {},
   "outputs": [
    {
     "data": {
      "text/plain": [
       "array([0, 3, 4])"
      ]
     },
     "execution_count": 135,
     "metadata": {},
     "output_type": "execute_result"
    }
   ],
   "source": [
    "np.unique(mask.isel(time=-1).values)"
   ]
  },
  {
   "cell_type": "code",
   "execution_count": 136,
   "metadata": {},
   "outputs": [
    {
     "data": {
      "text/plain": [
       "<matplotlib.collections.QuadMesh at 0x70ad7a421840>"
      ]
     },
     "execution_count": 136,
     "metadata": {},
     "output_type": "execute_result"
    },
    {
     "data": {
      "image/png": "[encoded data removed]",
      "text/plain": [
       "<Figure size 640x480 with 2 Axes>"
      ]
     },
     "metadata": {},
     "output_type": "display_data"
    }
   ],
   "source": [
    "mask.isel(time=-1).plot()"
   ]
  },
  {
   "cell_type": "code",
   "execution_count": 119,
   "metadata": {},
   "outputs": [],
   "source": [
    "new_mask = mask.copy()\n"
   ]
  },
  {
   "cell_type": "code",
   "execution_count": 120,
   "metadata": {},
   "outputs": [
    {
     "name": "stdout",
     "output_type": "stream",
     "text": [
      "1 3\n",
      "2 4\n",
      "3 7\n",
      "4 8\n",
      "5 9\n",
      "6 10\n",
      "7 11\n",
      "8 12\n"
     ]
    }
   ],
   "source": []
  },
  {
   "cell_type": "code",
   "execution_count": 126,
   "metadata": {},
   "outputs": [
    {
     "data": {
      "text/plain": [
       "<matplotlib.collections.QuadMesh at 0x70ad7a9c3280>"
      ]
     },
     "execution_count": 126,
     "metadata": {},
     "output_type": "execute_result"
    },
    {
     "data": {
      "image/png": "[encoded data removed]",
      "text/plain": [
       "<Figure size 640x480 with 2 Axes>"
      ]
     },
     "metadata": {},
     "output_type": "display_data"
    }
   ],
   "source": [
    "new_mask.isel(time=0).plot()"
   ]
  },
  {
   "cell_type": "code",
   "execution_count": 40,
   "metadata": {},
   "outputs": [],
   "source": [
    "def apply_mapping(data_array, mapping):\n",
    "    # Define a function that applies the mapping\n",
    "    def map_func(value):\n",
    "        return mapping.get(value, value)  # Return the mapped value or the original value if not in mapping\n",
    "\n",
    "    # Apply the function to the DataArray using the map method\n",
    "    return data_array.map(map_func)\n"
   ]
  },
  {
   "cell_type": "code",
   "execution_count": 41,
   "metadata": {},
   "outputs": [
    {
     "ename": "AttributeError",
     "evalue": "'DataArray' object has no attribute 'map'",
     "output_type": "error",
     "traceback": [
      "\u001b[0;31m---------------------------------------------------------------------------\u001b[0m",
      "\u001b[0;31mAttributeError\u001b[0m                            Traceback (most recent call last)",
      "Cell \u001b[0;32mIn[41], line 7\u001b[0m\n\u001b[1;32m      3\u001b[0m data_array \u001b[38;5;241m=\u001b[39m xr\u001b[38;5;241m.\u001b[39mDataArray(data, dims\u001b[38;5;241m=\u001b[39m[\u001b[38;5;124m\"\u001b[39m\u001b[38;5;124mx\u001b[39m\u001b[38;5;124m\"\u001b[39m, \u001b[38;5;124m\"\u001b[39m\u001b[38;5;124my\u001b[39m\u001b[38;5;124m\"\u001b[39m])\n\u001b[1;32m      5\u001b[0m mapping \u001b[38;5;241m=\u001b[39m {\u001b[38;5;241m1\u001b[39m: \u001b[38;5;241m10\u001b[39m, \u001b[38;5;241m2\u001b[39m: \u001b[38;5;241m20\u001b[39m, \u001b[38;5;241m3\u001b[39m: \u001b[38;5;241m30\u001b[39m, \u001b[38;5;241m4\u001b[39m: \u001b[38;5;241m40\u001b[39m, \u001b[38;5;241m5\u001b[39m: \u001b[38;5;241m50\u001b[39m, \u001b[38;5;241m6\u001b[39m: \u001b[38;5;241m60\u001b[39m, \u001b[38;5;241m7\u001b[39m: \u001b[38;5;241m70\u001b[39m, \u001b[38;5;241m8\u001b[39m: \u001b[38;5;241m80\u001b[39m, \u001b[38;5;241m9\u001b[39m: \u001b[38;5;241m90\u001b[39m}\n\u001b[0;32m----> 7\u001b[0m transformed_array \u001b[38;5;241m=\u001b[39m \u001b[43mapply_mapping\u001b[49m\u001b[43m(\u001b[49m\u001b[43mdata_array\u001b[49m\u001b[43m,\u001b[49m\u001b[43m \u001b[49m\u001b[43mmapping\u001b[49m\u001b[43m)\u001b[49m\n\u001b[1;32m      8\u001b[0m \u001b[38;5;28mprint\u001b[39m(transformed_array)\n",
      "Cell \u001b[0;32mIn[40], line 7\u001b[0m, in \u001b[0;36mapply_mapping\u001b[0;34m(data_array, mapping)\u001b[0m\n\u001b[1;32m      4\u001b[0m     \u001b[38;5;28;01mreturn\u001b[39;00m mapping\u001b[38;5;241m.\u001b[39mget(value, value)  \u001b[38;5;66;03m# Return the mapped value or the original value if not in mapping\u001b[39;00m\n\u001b[1;32m      6\u001b[0m \u001b[38;5;66;03m# Apply the function to the DataArray using the map method\u001b[39;00m\n\u001b[0;32m----> 7\u001b[0m \u001b[38;5;28;01mreturn\u001b[39;00m \u001b[43mdata_array\u001b[49m\u001b[38;5;241;43m.\u001b[39;49m\u001b[43mmap\u001b[49m(map_func)\n",
      "File \u001b[0;32m~/miniconda3/envs/THOR/lib/python3.10/site-packages/xarray/core/common.py:286\u001b[0m, in \u001b[0;36mAttrAccessMixin.__getattr__\u001b[0;34m(self, name)\u001b[0m\n\u001b[1;32m    284\u001b[0m         \u001b[38;5;28;01mwith\u001b[39;00m suppress(\u001b[38;5;167;01mKeyError\u001b[39;00m):\n\u001b[1;32m    285\u001b[0m             \u001b[38;5;28;01mreturn\u001b[39;00m source[name]\n\u001b[0;32m--> 286\u001b[0m \u001b[38;5;28;01mraise\u001b[39;00m \u001b[38;5;167;01mAttributeError\u001b[39;00m(\n\u001b[1;32m    287\u001b[0m     \u001b[38;5;124mf\u001b[39m\u001b[38;5;124m\"\u001b[39m\u001b[38;5;132;01m{\u001b[39;00m\u001b[38;5;28mtype\u001b[39m(\u001b[38;5;28mself\u001b[39m)\u001b[38;5;241m.\u001b[39m\u001b[38;5;18m__name__\u001b[39m\u001b[38;5;132;01m!r}\u001b[39;00m\u001b[38;5;124m object has no attribute \u001b[39m\u001b[38;5;132;01m{\u001b[39;00mname\u001b[38;5;132;01m!r}\u001b[39;00m\u001b[38;5;124m\"\u001b[39m\n\u001b[1;32m    288\u001b[0m )\n",
      "\u001b[0;31mAttributeError\u001b[0m: 'DataArray' object has no attribute 'map'"
     ]
    }
   ],
   "source": [
    "\n",
    "# Example usage\n",
    "data = np.array([[1, 2, 3], [4, 5, 6], [7, 8, 9]])\n",
    "data_array = xr.DataArray(data, dims=[\"x\", \"y\"])\n",
    "\n",
    "mapping = {1: 10, 2: 20, 3: 30, 4: 40, 5: 50, 6: 60, 7: 70, 8: 80, 9: 90}\n",
    "\n",
    "transformed_array = apply_mapping(data_array, mapping)\n",
    "print(transformed_array)"
   ]
  },
  {
   "cell_type": "code",
   "execution_count": 20,
   "metadata": {},
   "outputs": [
    {
     "data": {
      "text/plain": [
       "{0: {'anvil': {1: 1}, 'cell': {3: 1, 4: 2}, 'mcs': {}, 'middle_echo': None},\n",
       " 1: {'anvil': {1: 1},\n",
       "  'cell': {2: 2, 8: 3, 9: 1},\n",
       "  'mcs': {1: 1},\n",
       "  'middle_echo': None},\n",
       " 2: {'anvil': {1: 1},\n",
       "  'cell': {1: 1, 2: 3, 3: 4, 7: 2},\n",
       "  'mcs': {1: 1},\n",
       "  'middle_echo': None}}"
      ]
     },
     "execution_count": 20,
     "metadata": {},
     "output_type": "execute_result"
    }
   ],
   "source": [
    "match_dicts"
   ]
  },
  {
   "cell_type": "code",
   "execution_count": 359,
   "metadata": {},
   "outputs": [
    {
     "name": "stderr",
     "output_type": "stream",
     "text": [
      "2024-10-04 18:31:26,021 - thor.write.attribute - DEBUG - Writing attribute dataframe to /home/ewan/THOR_output/runs/cpol_demo_parallel/attributes/anvil/quality.csv\n",
      "2024-10-04 18:31:26,028 - thor.write.attribute - DEBUG - Saving attribute metadata to /home/ewan/THOR_output/runs/cpol_demo_parallel/attributes/anvil/quality.yml\n"
     ]
    },
    {
     "data": {
      "text/html": [
       "<div>\n",
       "<style scoped>\n",
       "    .dataframe tbody tr th:only-of-type {\n",
       "        vertical-align: middle;\n",
       "    }\n",
       "\n",
       "    .dataframe tbody tr th {\n",
       "        vertical-align: top;\n",
       "    }\n",
       "\n",
       "    .dataframe thead th {\n",
       "        text-align: right;\n",
       "    }\n",
       "</style>\n",
       "<table border=\"1\" class=\"dataframe\">\n",
       "  <thead>\n",
       "    <tr style=\"text-align: right;\">\n",
       "      <th></th>\n",
       "      <th>universal_id</th>\n",
       "      <th>original_id</th>\n",
       "      <th>interval</th>\n",
       "    </tr>\n",
       "  </thead>\n",
       "  <tbody>\n",
       "    <tr>\n",
       "      <th>0</th>\n",
       "      <td>0</td>\n",
       "      <td>1</td>\n",
       "      <td>0</td>\n",
       "    </tr>\n",
       "    <tr>\n",
       "      <th>4</th>\n",
       "      <td>0</td>\n",
       "      <td>1</td>\n",
       "      <td>1</td>\n",
       "    </tr>\n",
       "    <tr>\n",
       "      <th>10</th>\n",
       "      <td>0</td>\n",
       "      <td>1</td>\n",
       "      <td>2</td>\n",
       "    </tr>\n",
       "    <tr>\n",
       "      <th>16</th>\n",
       "      <td>0</td>\n",
       "      <td>1</td>\n",
       "      <td>3</td>\n",
       "    </tr>\n",
       "    <tr>\n",
       "      <th>20</th>\n",
       "      <td>1</td>\n",
       "      <td>2</td>\n",
       "      <td>3</td>\n",
       "    </tr>\n",
       "    <tr>\n",
       "      <th>23</th>\n",
       "      <td>2</td>\n",
       "      <td>3</td>\n",
       "      <td>3</td>\n",
       "    </tr>\n",
       "  </tbody>\n",
       "</table>\n",
       "</div>"
      ],
      "text/plain": [
       "    universal_id  original_id  interval\n",
       "0              0            1         0\n",
       "4              0            1         1\n",
       "10             0            1         2\n",
       "16             0            1         3\n",
       "20             1            2         3\n",
       "23             2            3         3"
      ]
     },
     "execution_count": 359,
     "metadata": {},
     "output_type": "execute_result"
    }
   ],
   "source": [
    "stitch_attribute(\"quality\", match_dicts, output_parent, intervals, \"anvil\", tracked_objects)"
   ]
  },
  {
   "cell_type": "code",
   "execution_count": 345,
   "metadata": {},
   "outputs": [],
   "source": []
  },
  {
   "cell_type": "code",
   "execution_count": 352,
   "metadata": {},
   "outputs": [
    {
     "name": "stderr",
     "output_type": "stream",
     "text": [
      "2024-10-04 18:08:54,671 - thor.write.attribute - DEBUG - Writing attribute dataframe to /home/ewan/THOR_output/runs/cpol_demo_parallel/attributes/cell/core.csv\n",
      "2024-10-04 18:08:54,692 - thor.write.attribute - DEBUG - Saving attribute metadata to /home/ewan/THOR_output/runs/cpol_demo_parallel/attributes/cell/core.yml\n"
     ]
    },
    {
     "data": {
      "text/html": [
       "<div>\n",
       "<style scoped>\n",
       "    .dataframe tbody tr th:only-of-type {\n",
       "        vertical-align: middle;\n",
       "    }\n",
       "\n",
       "    .dataframe tbody tr th {\n",
       "        vertical-align: top;\n",
       "    }\n",
       "\n",
       "    .dataframe thead th {\n",
       "        text-align: right;\n",
       "    }\n",
       "</style>\n",
       "<table border=\"1\" class=\"dataframe\">\n",
       "  <thead>\n",
       "    <tr style=\"text-align: right;\">\n",
       "      <th></th>\n",
       "      <th></th>\n",
       "      <th>latitude</th>\n",
       "      <th>longitude</th>\n",
       "      <th>area</th>\n",
       "      <th>u_flow</th>\n",
       "      <th>v_flow</th>\n",
       "      <th>u_displacement</th>\n",
       "      <th>v_displacement</th>\n",
       "    </tr>\n",
       "    <tr>\n",
       "      <th>time</th>\n",
       "      <th>universal_id</th>\n",
       "      <th></th>\n",
       "      <th></th>\n",
       "      <th></th>\n",
       "      <th></th>\n",
       "      <th></th>\n",
       "      <th></th>\n",
       "      <th></th>\n",
       "    </tr>\n",
       "  </thead>\n",
       "  <tbody>\n",
       "    <tr>\n",
       "      <th rowspan=\"4\" valign=\"top\">2005-11-13 13:00:09</th>\n",
       "      <th>0</th>\n",
       "      <td>-12.525</td>\n",
       "      <td>132.300</td>\n",
       "      <td>60.1</td>\n",
       "      <td>-8.9</td>\n",
       "      <td>4.5</td>\n",
       "      <td>NaN</td>\n",
       "      <td>NaN</td>\n",
       "    </tr>\n",
       "    <tr>\n",
       "      <th>1</th>\n",
       "      <td>-12.475</td>\n",
       "      <td>132.150</td>\n",
       "      <td>75.2</td>\n",
       "      <td>-8.9</td>\n",
       "      <td>9.0</td>\n",
       "      <td>-8.9</td>\n",
       "      <td>4.5</td>\n",
       "    </tr>\n",
       "    <tr>\n",
       "      <th>2</th>\n",
       "      <td>-12.375</td>\n",
       "      <td>132.200</td>\n",
       "      <td>203.0</td>\n",
       "      <td>-8.9</td>\n",
       "      <td>4.5</td>\n",
       "      <td>-13.3</td>\n",
       "      <td>9.0</td>\n",
       "    </tr>\n",
       "    <tr>\n",
       "      <th>3</th>\n",
       "      <td>-12.075</td>\n",
       "      <td>131.825</td>\n",
       "      <td>37.6</td>\n",
       "      <td>-6.6</td>\n",
       "      <td>4.5</td>\n",
       "      <td>-4.4</td>\n",
       "      <td>-0.0</td>\n",
       "    </tr>\n",
       "    <tr>\n",
       "      <th>2005-11-13 13:10:23</th>\n",
       "      <th>1</th>\n",
       "      <td>-12.450</td>\n",
       "      <td>132.100</td>\n",
       "      <td>37.6</td>\n",
       "      <td>-9.3</td>\n",
       "      <td>4.7</td>\n",
       "      <td>13.9</td>\n",
       "      <td>18.9</td>\n",
       "    </tr>\n",
       "    <tr>\n",
       "      <th>...</th>\n",
       "      <th>...</th>\n",
       "      <td>...</td>\n",
       "      <td>...</td>\n",
       "      <td>...</td>\n",
       "      <td>...</td>\n",
       "      <td>...</td>\n",
       "      <td>...</td>\n",
       "      <td>...</td>\n",
       "    </tr>\n",
       "    <tr>\n",
       "      <th>2005-11-13 16:40:09</th>\n",
       "      <th>26</th>\n",
       "      <td>-11.725</td>\n",
       "      <td>131.275</td>\n",
       "      <td>22.6</td>\n",
       "      <td>-6.8</td>\n",
       "      <td>2.3</td>\n",
       "      <td>NaN</td>\n",
       "      <td>NaN</td>\n",
       "    </tr>\n",
       "    <tr>\n",
       "      <th rowspan=\"4\" valign=\"top\">2005-11-13 16:50:08</th>\n",
       "      <th>3</th>\n",
       "      <td>-12.025</td>\n",
       "      <td>130.700</td>\n",
       "      <td>632.4</td>\n",
       "      <td>-9.1</td>\n",
       "      <td>4.6</td>\n",
       "      <td>-9.1</td>\n",
       "      <td>-13.8</td>\n",
       "    </tr>\n",
       "    <tr>\n",
       "      <th>12</th>\n",
       "      <td>-12.400</td>\n",
       "      <td>130.975</td>\n",
       "      <td>308.2</td>\n",
       "      <td>-13.6</td>\n",
       "      <td>-0.0</td>\n",
       "      <td>-13.6</td>\n",
       "      <td>-0.0</td>\n",
       "    </tr>\n",
       "    <tr>\n",
       "      <th>24</th>\n",
       "      <td>-11.800</td>\n",
       "      <td>130.800</td>\n",
       "      <td>15.1</td>\n",
       "      <td>-9.1</td>\n",
       "      <td>-0.0</td>\n",
       "      <td>NaN</td>\n",
       "      <td>NaN</td>\n",
       "    </tr>\n",
       "    <tr>\n",
       "      <th>27</th>\n",
       "      <td>-12.325</td>\n",
       "      <td>130.700</td>\n",
       "      <td>233.1</td>\n",
       "      <td>-11.3</td>\n",
       "      <td>-0.0</td>\n",
       "      <td>NaN</td>\n",
       "      <td>NaN</td>\n",
       "    </tr>\n",
       "  </tbody>\n",
       "</table>\n",
       "<p>94 rows × 7 columns</p>\n",
       "</div>"
      ],
      "text/plain": [
       "                                  latitude  longitude   area  u_flow  v_flow  \\\n",
       "time                universal_id                                               \n",
       "2005-11-13 13:00:09 0              -12.525    132.300   60.1    -8.9     4.5   \n",
       "                    1              -12.475    132.150   75.2    -8.9     9.0   \n",
       "                    2              -12.375    132.200  203.0    -8.9     4.5   \n",
       "                    3              -12.075    131.825   37.6    -6.6     4.5   \n",
       "2005-11-13 13:10:23 1              -12.450    132.100   37.6    -9.3     4.7   \n",
       "...                                    ...        ...    ...     ...     ...   \n",
       "2005-11-13 16:40:09 26             -11.725    131.275   22.6    -6.8     2.3   \n",
       "2005-11-13 16:50:08 3              -12.025    130.700  632.4    -9.1     4.6   \n",
       "                    12             -12.400    130.975  308.2   -13.6    -0.0   \n",
       "                    24             -11.800    130.800   15.1    -9.1    -0.0   \n",
       "                    27             -12.325    130.700  233.1   -11.3    -0.0   \n",
       "\n",
       "                                  u_displacement  v_displacement  \n",
       "time                universal_id                                  \n",
       "2005-11-13 13:00:09 0                        NaN             NaN  \n",
       "                    1                       -8.9             4.5  \n",
       "                    2                      -13.3             9.0  \n",
       "                    3                       -4.4            -0.0  \n",
       "2005-11-13 13:10:23 1                       13.9            18.9  \n",
       "...                                          ...             ...  \n",
       "2005-11-13 16:40:09 26                       NaN             NaN  \n",
       "2005-11-13 16:50:08 3                       -9.1           -13.8  \n",
       "                    12                     -13.6            -0.0  \n",
       "                    24                       NaN             NaN  \n",
       "                    27                       NaN             NaN  \n",
       "\n",
       "[94 rows x 7 columns]"
      ]
     },
     "execution_count": 352,
     "metadata": {},
     "output_type": "execute_result"
    }
   ],
   "source": []
  },
  {
   "cell_type": "code",
   "execution_count": 344,
   "metadata": {},
   "outputs": [
    {
     "data": {
      "text/html": [
       "<div>\n",
       "<style scoped>\n",
       "    .dataframe tbody tr th:only-of-type {\n",
       "        vertical-align: middle;\n",
       "    }\n",
       "\n",
       "    .dataframe tbody tr th {\n",
       "        vertical-align: top;\n",
       "    }\n",
       "\n",
       "    .dataframe thead th {\n",
       "        text-align: right;\n",
       "    }\n",
       "</style>\n",
       "<table border=\"1\" class=\"dataframe\">\n",
       "  <thead>\n",
       "    <tr style=\"text-align: right;\">\n",
       "      <th></th>\n",
       "      <th></th>\n",
       "      <th>latitude</th>\n",
       "      <th>longitude</th>\n",
       "      <th>area</th>\n",
       "      <th>u_flow</th>\n",
       "      <th>v_flow</th>\n",
       "      <th>u_displacement</th>\n",
       "      <th>v_displacement</th>\n",
       "    </tr>\n",
       "    <tr>\n",
       "      <th>time</th>\n",
       "      <th>universal_id</th>\n",
       "      <th></th>\n",
       "      <th></th>\n",
       "      <th></th>\n",
       "      <th></th>\n",
       "      <th></th>\n",
       "      <th></th>\n",
       "      <th></th>\n",
       "    </tr>\n",
       "  </thead>\n",
       "  <tbody>\n",
       "    <tr>\n",
       "      <th rowspan=\"4\" valign=\"top\">2005-11-13 13:00:09</th>\n",
       "      <th>0</th>\n",
       "      <td>-12.525</td>\n",
       "      <td>132.300</td>\n",
       "      <td>60.1</td>\n",
       "      <td>-8.9</td>\n",
       "      <td>4.5</td>\n",
       "      <td>NaN</td>\n",
       "      <td>NaN</td>\n",
       "    </tr>\n",
       "    <tr>\n",
       "      <th>1</th>\n",
       "      <td>-12.475</td>\n",
       "      <td>132.150</td>\n",
       "      <td>75.2</td>\n",
       "      <td>-8.9</td>\n",
       "      <td>9.0</td>\n",
       "      <td>-8.9</td>\n",
       "      <td>4.5</td>\n",
       "    </tr>\n",
       "    <tr>\n",
       "      <th>2</th>\n",
       "      <td>-12.375</td>\n",
       "      <td>132.200</td>\n",
       "      <td>203.0</td>\n",
       "      <td>-8.9</td>\n",
       "      <td>4.5</td>\n",
       "      <td>-13.3</td>\n",
       "      <td>9.0</td>\n",
       "    </tr>\n",
       "    <tr>\n",
       "      <th>3</th>\n",
       "      <td>-12.075</td>\n",
       "      <td>131.825</td>\n",
       "      <td>37.6</td>\n",
       "      <td>-6.6</td>\n",
       "      <td>4.5</td>\n",
       "      <td>-4.4</td>\n",
       "      <td>-0.0</td>\n",
       "    </tr>\n",
       "    <tr>\n",
       "      <th>2005-11-13 13:10:23</th>\n",
       "      <th>1</th>\n",
       "      <td>-12.450</td>\n",
       "      <td>132.100</td>\n",
       "      <td>37.6</td>\n",
       "      <td>-9.3</td>\n",
       "      <td>4.7</td>\n",
       "      <td>13.9</td>\n",
       "      <td>18.9</td>\n",
       "    </tr>\n",
       "    <tr>\n",
       "      <th>...</th>\n",
       "      <th>...</th>\n",
       "      <td>...</td>\n",
       "      <td>...</td>\n",
       "      <td>...</td>\n",
       "      <td>...</td>\n",
       "      <td>...</td>\n",
       "      <td>...</td>\n",
       "      <td>...</td>\n",
       "    </tr>\n",
       "    <tr>\n",
       "      <th>2005-11-13 16:40:09</th>\n",
       "      <th>26</th>\n",
       "      <td>-11.725</td>\n",
       "      <td>131.275</td>\n",
       "      <td>22.6</td>\n",
       "      <td>-6.8</td>\n",
       "      <td>2.3</td>\n",
       "      <td>NaN</td>\n",
       "      <td>NaN</td>\n",
       "    </tr>\n",
       "    <tr>\n",
       "      <th rowspan=\"4\" valign=\"top\">2005-11-13 16:50:08</th>\n",
       "      <th>3</th>\n",
       "      <td>-12.025</td>\n",
       "      <td>130.700</td>\n",
       "      <td>632.4</td>\n",
       "      <td>-9.1</td>\n",
       "      <td>4.6</td>\n",
       "      <td>-9.1</td>\n",
       "      <td>-13.8</td>\n",
       "    </tr>\n",
       "    <tr>\n",
       "      <th>12</th>\n",
       "      <td>-12.400</td>\n",
       "      <td>130.975</td>\n",
       "      <td>308.2</td>\n",
       "      <td>-13.6</td>\n",
       "      <td>-0.0</td>\n",
       "      <td>-13.6</td>\n",
       "      <td>-0.0</td>\n",
       "    </tr>\n",
       "    <tr>\n",
       "      <th>24</th>\n",
       "      <td>-11.800</td>\n",
       "      <td>130.800</td>\n",
       "      <td>15.1</td>\n",
       "      <td>-9.1</td>\n",
       "      <td>-0.0</td>\n",
       "      <td>NaN</td>\n",
       "      <td>NaN</td>\n",
       "    </tr>\n",
       "    <tr>\n",
       "      <th>27</th>\n",
       "      <td>-12.325</td>\n",
       "      <td>130.700</td>\n",
       "      <td>233.1</td>\n",
       "      <td>-11.3</td>\n",
       "      <td>-0.0</td>\n",
       "      <td>NaN</td>\n",
       "      <td>NaN</td>\n",
       "    </tr>\n",
       "  </tbody>\n",
       "</table>\n",
       "<p>94 rows × 7 columns</p>\n",
       "</div>"
      ],
      "text/plain": [
       "                                  latitude  longitude   area  u_flow  v_flow  \\\n",
       "time                universal_id                                               \n",
       "2005-11-13 13:00:09 0              -12.525    132.300   60.1    -8.9     4.5   \n",
       "                    1              -12.475    132.150   75.2    -8.9     9.0   \n",
       "                    2              -12.375    132.200  203.0    -8.9     4.5   \n",
       "                    3              -12.075    131.825   37.6    -6.6     4.5   \n",
       "2005-11-13 13:10:23 1              -12.450    132.100   37.6    -9.3     4.7   \n",
       "...                                    ...        ...    ...     ...     ...   \n",
       "2005-11-13 16:40:09 26             -11.725    131.275   22.6    -6.8     2.3   \n",
       "2005-11-13 16:50:08 3              -12.025    130.700  632.4    -9.1     4.6   \n",
       "                    12             -12.400    130.975  308.2   -13.6    -0.0   \n",
       "                    24             -11.800    130.800   15.1    -9.1    -0.0   \n",
       "                    27             -12.325    130.700  233.1   -11.3    -0.0   \n",
       "\n",
       "                                  u_displacement  v_displacement  \n",
       "time                universal_id                                  \n",
       "2005-11-13 13:00:09 0                        NaN             NaN  \n",
       "                    1                       -8.9             4.5  \n",
       "                    2                      -13.3             9.0  \n",
       "                    3                       -4.4            -0.0  \n",
       "2005-11-13 13:10:23 1                       13.9            18.9  \n",
       "...                                          ...             ...  \n",
       "2005-11-13 16:40:09 26                       NaN             NaN  \n",
       "2005-11-13 16:50:08 3                       -9.1           -13.8  \n",
       "                    12                     -13.6            -0.0  \n",
       "                    24                       NaN             NaN  \n",
       "                    27                       NaN             NaN  \n",
       "\n",
       "[94 rows x 7 columns]"
      ]
     },
     "execution_count": 344,
     "metadata": {},
     "output_type": "execute_result"
    }
   ],
   "source": [
    "df"
   ]
  },
  {
   "cell_type": "code",
   "execution_count": null,
   "metadata": {},
   "outputs": [],
   "source": [
    "\n",
    "\n",
    "# for j in range(len(dfs)):\n",
    "#     df = attribute.utils.read_attribute_csv(attr_filepath)\n",
    "#     index_columns = list(df.index.names)\n",
    "#     df = df.reset_index()\n",
    "#     df[\"original_id\"] = df[\"universal_id\"]\n",
    "#     ids = df[\"universal_id\"].unique()\n",
    "#     mag_ids = int(np.ceil(np.log10(len(ids)))) + 1\n",
    "#     prefix = f\"{str(j).zfill(mag_intervals)}_\"\n",
    "#     df[\"universal_id\"] = df[\"universal_id\"].astype(str)\n",
    "#     df[\"universal_id\"] = df[\"universal_id\"].apply(lambda x: x.zfill(mag_ids))\n",
    "#     df[\"universal_id\"] = prefix + df[\"universal_id\"]\n",
    "#     df = df.set_index(index_columns)\n",
    "#     dfs.append(df)\n",
    "#     # convert universal id to str and prepend with interval number"
   ]
  },
  {
   "cell_type": "code",
   "execution_count": null,
   "metadata": {},
   "outputs": [],
   "source": []
  },
  {
   "cell_type": "code",
   "execution_count": 302,
   "metadata": {},
   "outputs": [
    {
     "data": {
      "text/plain": [
       "{3: 1, 4: 2}"
      ]
     },
     "execution_count": 302,
     "metadata": {},
     "output_type": "execute_result"
    }
   ],
   "source": [
    "match_dict = match_dicts[0][obj]\n",
    "match_dict"
   ]
  },
  {
   "cell_type": "code",
   "execution_count": 297,
   "metadata": {},
   "outputs": [
    {
     "data": {
      "text/html": [
       "<div>\n",
       "<style scoped>\n",
       "    .dataframe tbody tr th:only-of-type {\n",
       "        vertical-align: middle;\n",
       "    }\n",
       "\n",
       "    .dataframe tbody tr th {\n",
       "        vertical-align: top;\n",
       "    }\n",
       "\n",
       "    .dataframe thead th {\n",
       "        text-align: right;\n",
       "    }\n",
       "</style>\n",
       "<table border=\"1\" class=\"dataframe\">\n",
       "  <thead>\n",
       "    <tr style=\"text-align: right;\">\n",
       "      <th></th>\n",
       "      <th></th>\n",
       "      <th>latitude</th>\n",
       "      <th>longitude</th>\n",
       "      <th>area</th>\n",
       "      <th>u_flow</th>\n",
       "      <th>v_flow</th>\n",
       "      <th>u_displacement</th>\n",
       "      <th>v_displacement</th>\n",
       "    </tr>\n",
       "    <tr>\n",
       "      <th>time</th>\n",
       "      <th>universal_id</th>\n",
       "      <th></th>\n",
       "      <th></th>\n",
       "      <th></th>\n",
       "      <th></th>\n",
       "      <th></th>\n",
       "      <th></th>\n",
       "      <th></th>\n",
       "    </tr>\n",
       "  </thead>\n",
       "  <tbody>\n",
       "    <tr>\n",
       "      <th rowspan=\"4\" valign=\"top\">2005-11-13 13:00:09</th>\n",
       "      <th>00_01</th>\n",
       "      <td>-12.525</td>\n",
       "      <td>132.300</td>\n",
       "      <td>60.1</td>\n",
       "      <td>-8.9</td>\n",
       "      <td>4.5</td>\n",
       "      <td>NaN</td>\n",
       "      <td>NaN</td>\n",
       "    </tr>\n",
       "    <tr>\n",
       "      <th>00_02</th>\n",
       "      <td>-12.475</td>\n",
       "      <td>132.150</td>\n",
       "      <td>75.2</td>\n",
       "      <td>-8.9</td>\n",
       "      <td>9.0</td>\n",
       "      <td>-8.9</td>\n",
       "      <td>4.5</td>\n",
       "    </tr>\n",
       "    <tr>\n",
       "      <th>00_03</th>\n",
       "      <td>-12.375</td>\n",
       "      <td>132.200</td>\n",
       "      <td>203.0</td>\n",
       "      <td>-8.9</td>\n",
       "      <td>4.5</td>\n",
       "      <td>-13.3</td>\n",
       "      <td>9.0</td>\n",
       "    </tr>\n",
       "    <tr>\n",
       "      <th>00_04</th>\n",
       "      <td>-12.075</td>\n",
       "      <td>131.825</td>\n",
       "      <td>37.6</td>\n",
       "      <td>-6.6</td>\n",
       "      <td>4.5</td>\n",
       "      <td>-4.4</td>\n",
       "      <td>-0.0</td>\n",
       "    </tr>\n",
       "    <tr>\n",
       "      <th>2005-11-13 13:10:23</th>\n",
       "      <th>00_02</th>\n",
       "      <td>-12.450</td>\n",
       "      <td>132.100</td>\n",
       "      <td>37.6</td>\n",
       "      <td>-9.3</td>\n",
       "      <td>4.7</td>\n",
       "      <td>13.9</td>\n",
       "      <td>18.9</td>\n",
       "    </tr>\n",
       "    <tr>\n",
       "      <th>...</th>\n",
       "      <th>...</th>\n",
       "      <td>...</td>\n",
       "      <td>...</td>\n",
       "      <td>...</td>\n",
       "      <td>...</td>\n",
       "      <td>...</td>\n",
       "      <td>...</td>\n",
       "      <td>...</td>\n",
       "    </tr>\n",
       "    <tr>\n",
       "      <th>2005-11-13 16:40:09</th>\n",
       "      <th>03_014</th>\n",
       "      <td>-11.725</td>\n",
       "      <td>131.275</td>\n",
       "      <td>22.6</td>\n",
       "      <td>-6.8</td>\n",
       "      <td>2.3</td>\n",
       "      <td>NaN</td>\n",
       "      <td>NaN</td>\n",
       "    </tr>\n",
       "    <tr>\n",
       "      <th rowspan=\"4\" valign=\"top\">2005-11-13 16:50:08</th>\n",
       "      <th>03_001</th>\n",
       "      <td>-12.400</td>\n",
       "      <td>130.975</td>\n",
       "      <td>308.2</td>\n",
       "      <td>-13.6</td>\n",
       "      <td>-0.0</td>\n",
       "      <td>-13.6</td>\n",
       "      <td>-0.0</td>\n",
       "    </tr>\n",
       "    <tr>\n",
       "      <th>03_003</th>\n",
       "      <td>-12.025</td>\n",
       "      <td>130.700</td>\n",
       "      <td>632.4</td>\n",
       "      <td>-9.1</td>\n",
       "      <td>4.6</td>\n",
       "      <td>-9.1</td>\n",
       "      <td>-13.8</td>\n",
       "    </tr>\n",
       "    <tr>\n",
       "      <th>03_012</th>\n",
       "      <td>-11.800</td>\n",
       "      <td>130.800</td>\n",
       "      <td>15.1</td>\n",
       "      <td>-9.1</td>\n",
       "      <td>-0.0</td>\n",
       "      <td>NaN</td>\n",
       "      <td>NaN</td>\n",
       "    </tr>\n",
       "    <tr>\n",
       "      <th>03_015</th>\n",
       "      <td>-12.325</td>\n",
       "      <td>130.700</td>\n",
       "      <td>233.1</td>\n",
       "      <td>-11.3</td>\n",
       "      <td>-0.0</td>\n",
       "      <td>NaN</td>\n",
       "      <td>NaN</td>\n",
       "    </tr>\n",
       "  </tbody>\n",
       "</table>\n",
       "<p>94 rows × 7 columns</p>\n",
       "</div>"
      ],
      "text/plain": [
       "                                  latitude  longitude   area  u_flow  v_flow  \\\n",
       "time                universal_id                                               \n",
       "2005-11-13 13:00:09 00_01          -12.525    132.300   60.1    -8.9     4.5   \n",
       "                    00_02          -12.475    132.150   75.2    -8.9     9.0   \n",
       "                    00_03          -12.375    132.200  203.0    -8.9     4.5   \n",
       "                    00_04          -12.075    131.825   37.6    -6.6     4.5   \n",
       "2005-11-13 13:10:23 00_02          -12.450    132.100   37.6    -9.3     4.7   \n",
       "...                                    ...        ...    ...     ...     ...   \n",
       "2005-11-13 16:40:09 03_014         -11.725    131.275   22.6    -6.8     2.3   \n",
       "2005-11-13 16:50:08 03_001         -12.400    130.975  308.2   -13.6    -0.0   \n",
       "                    03_003         -12.025    130.700  632.4    -9.1     4.6   \n",
       "                    03_012         -11.800    130.800   15.1    -9.1    -0.0   \n",
       "                    03_015         -12.325    130.700  233.1   -11.3    -0.0   \n",
       "\n",
       "                                  u_displacement  v_displacement  \n",
       "time                universal_id                                  \n",
       "2005-11-13 13:00:09 00_01                    NaN             NaN  \n",
       "                    00_02                   -8.9             4.5  \n",
       "                    00_03                  -13.3             9.0  \n",
       "                    00_04                   -4.4            -0.0  \n",
       "2005-11-13 13:10:23 00_02                   13.9            18.9  \n",
       "...                                          ...             ...  \n",
       "2005-11-13 16:40:09 03_014                   NaN             NaN  \n",
       "2005-11-13 16:50:08 03_001                 -13.6            -0.0  \n",
       "                    03_003                  -9.1           -13.8  \n",
       "                    03_012                   NaN             NaN  \n",
       "                    03_015                   NaN             NaN  \n",
       "\n",
       "[94 rows x 7 columns]"
      ]
     },
     "execution_count": 297,
     "metadata": {},
     "output_type": "execute_result"
    }
   ],
   "source": [
    "df"
   ]
  },
  {
   "cell_type": "code",
   "execution_count": 290,
   "metadata": {},
   "outputs": [
    {
     "data": {
      "text/plain": [
       "{0: {'anvil': {1: 1}, 'cell': {3: 1, 4: 2}, 'mcs': {}, 'middle_echo': None},\n",
       " 1: {'anvil': {1: 1},\n",
       "  'cell': {2: 2, 8: 3, 9: 1},\n",
       "  'mcs': {1: 1},\n",
       "  'middle_echo': None},\n",
       " 2: {'anvil': {1: 1},\n",
       "  'cell': {1: 1, 2: 3, 3: 4, 7: 2},\n",
       "  'mcs': {1: 1},\n",
       "  'middle_echo': None}}"
      ]
     },
     "execution_count": 290,
     "metadata": {},
     "output_type": "execute_result"
    }
   ],
   "source": [
    "match_dict_i = match_dicts[]"
   ]
  },
  {
   "cell_type": "code",
   "execution_count": 239,
   "metadata": {},
   "outputs": [],
   "source": [
    "filepaths_1, filepaths_2 = mask_file_dict[0], mask_file_dict[1]\n",
    "objects_1 = [Path(filepath).stem for filepath in filepaths_1]\n",
    "objects_2 = [Path(filepath).stem for filepath in filepaths_1]\n",
    "\n",
    "tracked_objects = get_tracked_objects(track_options)"
   ]
  },
  {
   "cell_type": "code",
   "execution_count": 243,
   "metadata": {},
   "outputs": [
    {
     "data": {
      "text/plain": [
       "['cell', 'anvil', 'mcs']"
      ]
     },
     "execution_count": 243,
     "metadata": {},
     "output_type": "execute_result"
    }
   ],
   "source": [
    "tracked_objects"
   ]
  },
  {
   "cell_type": "code",
   "execution_count": 209,
   "metadata": {},
   "outputs": [],
   "source": [
    "def match_all_objects(filepaths_1, filepaths_2):\n",
    "    \"\"\"Match all objects in two sets of files corresponding to two intervals.\"\"\"\n",
    "    match_dicts = {}\n",
    "    objects_1 = [Path(filepath).stem for filepath in filepaths_1]\n",
    "    objects_2 = [Path(filepath).stem for filepath in filepaths_1]"
   ]
  },
  {
   "cell_type": "markdown",
   "metadata": {},
   "source": [
    "# Analysis"
   ]
  },
  {
   "cell_type": "code",
   "execution_count": 4,
   "metadata": {},
   "outputs": [
    {
     "name": "stderr",
     "output_type": "stream",
     "text": [
      "2024-10-03 16:11:10,765 - thor.write.attribute - DEBUG - Writing attribute dataframe to /home/ewan/THOR_output/runs/cpol_demo_geographic/analysis/velocities.csv\n",
      "2024-10-03 16:11:10,768 - thor.write.attribute - DEBUG - Saving attribute metadata to /home/ewan/THOR_output/runs/cpol_demo_geographic/analysis/velocities.yml\n",
      "2024-10-03 16:11:10,900 - thor.write.attribute - DEBUG - Writing attribute dataframe to /home/ewan/THOR_output/runs/cpol_demo_geographic/analysis/quality.csv\n",
      "2024-10-03 16:11:10,903 - thor.write.attribute - DEBUG - Saving attribute metadata to /home/ewan/THOR_output/runs/cpol_demo_geographic/analysis/quality.yml\n",
      "2024-10-03 16:11:10,962 - thor.write.attribute - DEBUG - Writing attribute dataframe to /home/ewan/THOR_output/runs/cpol_demo_geographic/analysis/classification.csv\n",
      "2024-10-03 16:11:10,964 - thor.write.attribute - DEBUG - Saving attribute metadata to /home/ewan/THOR_output/runs/cpol_demo_geographic/analysis/classification.yml\n"
     ]
    },
    {
     "data": {
      "text/html": [
       "<div>\n",
       "<style scoped>\n",
       "    .dataframe tbody tr th:only-of-type {\n",
       "        vertical-align: middle;\n",
       "    }\n",
       "\n",
       "    .dataframe tbody tr th {\n",
       "        vertical-align: top;\n",
       "    }\n",
       "\n",
       "    .dataframe thead th {\n",
       "        text-align: right;\n",
       "    }\n",
       "</style>\n",
       "<table border=\"1\" class=\"dataframe\">\n",
       "  <thead>\n",
       "    <tr style=\"text-align: right;\">\n",
       "      <th></th>\n",
       "      <th></th>\n",
       "      <th>stratiform_offset</th>\n",
       "      <th>inflow</th>\n",
       "      <th>relative_stratiform_offset</th>\n",
       "      <th>tilt</th>\n",
       "      <th>propagation</th>\n",
       "    </tr>\n",
       "    <tr>\n",
       "      <th>time</th>\n",
       "      <th>universal_id</th>\n",
       "      <th></th>\n",
       "      <th></th>\n",
       "      <th></th>\n",
       "      <th></th>\n",
       "      <th></th>\n",
       "    </tr>\n",
       "  </thead>\n",
       "  <tbody>\n",
       "    <tr>\n",
       "      <th>2005-11-13 16:00:08</th>\n",
       "      <th>1</th>\n",
       "      <td>trailing</td>\n",
       "      <td>front</td>\n",
       "      <td>trailing</td>\n",
       "      <td>up-shear</td>\n",
       "      <td>down-shear</td>\n",
       "    </tr>\n",
       "    <tr>\n",
       "      <th>2005-11-13 16:10:23</th>\n",
       "      <th>1</th>\n",
       "      <td>trailing</td>\n",
       "      <td>front</td>\n",
       "      <td>trailing</td>\n",
       "      <td>up-shear</td>\n",
       "      <td>down-shear</td>\n",
       "    </tr>\n",
       "    <tr>\n",
       "      <th>2005-11-13 16:20:09</th>\n",
       "      <th>1</th>\n",
       "      <td>trailing</td>\n",
       "      <td>front</td>\n",
       "      <td>trailing</td>\n",
       "      <td>up-shear</td>\n",
       "      <td>down-shear</td>\n",
       "    </tr>\n",
       "    <tr>\n",
       "      <th>2005-11-13 16:30:09</th>\n",
       "      <th>1</th>\n",
       "      <td>trailing</td>\n",
       "      <td>front</td>\n",
       "      <td>trailing</td>\n",
       "      <td>up-shear</td>\n",
       "      <td>down-shear</td>\n",
       "    </tr>\n",
       "    <tr>\n",
       "      <th>2005-11-13 16:40:09</th>\n",
       "      <th>1</th>\n",
       "      <td>trailing</td>\n",
       "      <td>front</td>\n",
       "      <td>trailing</td>\n",
       "      <td>up-shear</td>\n",
       "      <td>down-shear</td>\n",
       "    </tr>\n",
       "    <tr>\n",
       "      <th>2005-11-13 16:50:08</th>\n",
       "      <th>1</th>\n",
       "      <td>trailing</td>\n",
       "      <td>front</td>\n",
       "      <td>trailing</td>\n",
       "      <td>up-shear</td>\n",
       "      <td>down-shear</td>\n",
       "    </tr>\n",
       "    <tr>\n",
       "      <th>2005-11-13 17:00:08</th>\n",
       "      <th>1</th>\n",
       "      <td>trailing</td>\n",
       "      <td>front</td>\n",
       "      <td>trailing</td>\n",
       "      <td>up-shear</td>\n",
       "      <td>down-shear</td>\n",
       "    </tr>\n",
       "    <tr>\n",
       "      <th>2005-11-13 17:10:23</th>\n",
       "      <th>1</th>\n",
       "      <td>trailing</td>\n",
       "      <td>front</td>\n",
       "      <td>trailing</td>\n",
       "      <td>up-shear</td>\n",
       "      <td>down-shear</td>\n",
       "    </tr>\n",
       "    <tr>\n",
       "      <th>2005-11-13 17:20:09</th>\n",
       "      <th>1</th>\n",
       "      <td>trailing</td>\n",
       "      <td>front</td>\n",
       "      <td>trailing</td>\n",
       "      <td>up-shear</td>\n",
       "      <td>down-shear</td>\n",
       "    </tr>\n",
       "    <tr>\n",
       "      <th>2005-11-13 17:30:09</th>\n",
       "      <th>1</th>\n",
       "      <td>trailing</td>\n",
       "      <td>front</td>\n",
       "      <td>trailing</td>\n",
       "      <td>up-shear</td>\n",
       "      <td>down-shear</td>\n",
       "    </tr>\n",
       "    <tr>\n",
       "      <th>2005-11-13 17:40:09</th>\n",
       "      <th>1</th>\n",
       "      <td>trailing</td>\n",
       "      <td>front</td>\n",
       "      <td>trailing</td>\n",
       "      <td>up-shear</td>\n",
       "      <td>down-shear</td>\n",
       "    </tr>\n",
       "    <tr>\n",
       "      <th>2005-11-13 17:50:08</th>\n",
       "      <th>1</th>\n",
       "      <td>trailing</td>\n",
       "      <td>left</td>\n",
       "      <td>trailing</td>\n",
       "      <td>up-shear</td>\n",
       "      <td>shear-perpendicular</td>\n",
       "    </tr>\n",
       "  </tbody>\n",
       "</table>\n",
       "</div>"
      ],
      "text/plain": [
       "                                 stratiform_offset inflow  \\\n",
       "time                universal_id                            \n",
       "2005-11-13 16:00:08 1                     trailing  front   \n",
       "2005-11-13 16:10:23 1                     trailing  front   \n",
       "2005-11-13 16:20:09 1                     trailing  front   \n",
       "2005-11-13 16:30:09 1                     trailing  front   \n",
       "2005-11-13 16:40:09 1                     trailing  front   \n",
       "2005-11-13 16:50:08 1                     trailing  front   \n",
       "2005-11-13 17:00:08 1                     trailing  front   \n",
       "2005-11-13 17:10:23 1                     trailing  front   \n",
       "2005-11-13 17:20:09 1                     trailing  front   \n",
       "2005-11-13 17:30:09 1                     trailing  front   \n",
       "2005-11-13 17:40:09 1                     trailing  front   \n",
       "2005-11-13 17:50:08 1                     trailing   left   \n",
       "\n",
       "                                 relative_stratiform_offset      tilt  \\\n",
       "time                universal_id                                        \n",
       "2005-11-13 16:00:08 1                              trailing  up-shear   \n",
       "2005-11-13 16:10:23 1                              trailing  up-shear   \n",
       "2005-11-13 16:20:09 1                              trailing  up-shear   \n",
       "2005-11-13 16:30:09 1                              trailing  up-shear   \n",
       "2005-11-13 16:40:09 1                              trailing  up-shear   \n",
       "2005-11-13 16:50:08 1                              trailing  up-shear   \n",
       "2005-11-13 17:00:08 1                              trailing  up-shear   \n",
       "2005-11-13 17:10:23 1                              trailing  up-shear   \n",
       "2005-11-13 17:20:09 1                              trailing  up-shear   \n",
       "2005-11-13 17:30:09 1                              trailing  up-shear   \n",
       "2005-11-13 17:40:09 1                              trailing  up-shear   \n",
       "2005-11-13 17:50:08 1                              trailing  up-shear   \n",
       "\n",
       "                                          propagation  \n",
       "time                universal_id                       \n",
       "2005-11-13 16:00:08 1                      down-shear  \n",
       "2005-11-13 16:10:23 1                      down-shear  \n",
       "2005-11-13 16:20:09 1                      down-shear  \n",
       "2005-11-13 16:30:09 1                      down-shear  \n",
       "2005-11-13 16:40:09 1                      down-shear  \n",
       "2005-11-13 16:50:08 1                      down-shear  \n",
       "2005-11-13 17:00:08 1                      down-shear  \n",
       "2005-11-13 17:10:23 1                      down-shear  \n",
       "2005-11-13 17:20:09 1                      down-shear  \n",
       "2005-11-13 17:30:09 1                      down-shear  \n",
       "2005-11-13 17:40:09 1                      down-shear  \n",
       "2005-11-13 17:50:08 1             shear-perpendicular  "
      ]
     },
     "execution_count": 4,
     "metadata": {},
     "output_type": "execute_result"
    }
   ],
   "source": [
    "analysis_options = analyze.mcs.analysis_options()\n",
    "analyze.mcs.process_velocities(output_directory)\n",
    "analyze.mcs.quality_control(output_directory, analysis_options)\n",
    "analyze.mcs.classify_all(output_directory)"
   ]
  },
  {
   "cell_type": "code",
   "execution_count": 7,
   "metadata": {},
   "outputs": [
    {
     "name": "stderr",
     "output_type": "stream",
     "text": [
      "2024-10-03 16:20:09,966 - thor.data.aura - INFO - Converting cpol data from twp10cpolgrid150.b2.20051113.160000.nc\n",
      "2024-10-03 16:20:10,011 - thor.data.aura - INFO - Creating new geographic grid with spacing 0.025 m, 0.025 m.\n",
      "2024-10-03 16:20:10,463 - thor.visualize.horizontal - INFO - No figsize provided. Using default.\n",
      "2024-10-03 16:20:10,565 - thor.visualize.horizontal - DEBUG - Plotting boundary.\n",
      "2024-10-03 16:20:10,583 - thor.visualize.horizontal - DEBUG - Plotting boundary.\n",
      "2024-10-03 16:20:10,677 - thor.visualize.attribute - DEBUG - Saving mcs_velocity_analysis figure for 2005-11-13T16:00:08.000000000.\n",
      "2024-10-03 16:20:12,125 - thor.data.aura - INFO - Converting cpol data from twp10cpolgrid150.b2.20051113.161000.nc\n",
      "2024-10-03 16:20:12,903 - thor.visualize.horizontal - INFO - No figsize provided. Using default.\n",
      "2024-10-03 16:20:13,001 - thor.visualize.horizontal - DEBUG - Plotting boundary.\n",
      "2024-10-03 16:20:13,056 - thor.visualize.horizontal - DEBUG - Plotting boundary.\n",
      "2024-10-03 16:20:13,252 - thor.visualize.attribute - DEBUG - Saving mcs_velocity_analysis figure for 2005-11-13T16:10:23.000000000.\n",
      "2024-10-03 16:20:15,671 - thor.data.aura - INFO - Converting cpol data from twp10cpolgrid150.b2.20051113.162000.nc\n",
      "2024-10-03 16:20:16,175 - thor.visualize.horizontal - INFO - No figsize provided. Using default.\n",
      "2024-10-03 16:20:16,237 - thor.visualize.horizontal - DEBUG - Plotting boundary.\n",
      "2024-10-03 16:20:16,262 - thor.visualize.horizontal - DEBUG - Plotting boundary.\n",
      "2024-10-03 16:20:16,356 - thor.visualize.attribute - DEBUG - Saving mcs_velocity_analysis figure for 2005-11-13T16:20:09.000000000.\n",
      "2024-10-03 16:20:18,658 - thor.data.aura - INFO - Converting cpol data from twp10cpolgrid150.b2.20051113.163000.nc\n",
      "2024-10-03 16:20:19,193 - thor.visualize.horizontal - INFO - No figsize provided. Using default.\n",
      "2024-10-03 16:20:19,258 - thor.visualize.horizontal - DEBUG - Plotting boundary.\n",
      "2024-10-03 16:20:19,285 - thor.visualize.horizontal - DEBUG - Plotting boundary.\n",
      "2024-10-03 16:20:19,386 - thor.visualize.attribute - DEBUG - Saving mcs_velocity_analysis figure for 2005-11-13T16:30:09.000000000.\n",
      "2024-10-03 16:20:20,991 - thor.data.aura - INFO - Converting cpol data from twp10cpolgrid150.b2.20051113.164000.nc\n",
      "2024-10-03 16:20:21,477 - thor.visualize.horizontal - INFO - No figsize provided. Using default.\n",
      "2024-10-03 16:20:21,539 - thor.visualize.horizontal - DEBUG - Plotting boundary.\n",
      "2024-10-03 16:20:21,564 - thor.visualize.horizontal - DEBUG - Plotting boundary.\n",
      "2024-10-03 16:20:21,654 - thor.visualize.attribute - DEBUG - Saving mcs_velocity_analysis figure for 2005-11-13T16:40:09.000000000.\n",
      "2024-10-03 16:20:23,297 - thor.data.aura - INFO - Converting cpol data from twp10cpolgrid150.b2.20051113.165000.nc\n",
      "2024-10-03 16:20:23,797 - thor.visualize.horizontal - INFO - No figsize provided. Using default.\n",
      "2024-10-03 16:20:23,857 - thor.visualize.horizontal - DEBUG - Plotting boundary.\n",
      "2024-10-03 16:20:23,880 - thor.visualize.horizontal - DEBUG - Plotting boundary.\n",
      "2024-10-03 16:20:23,971 - thor.visualize.attribute - DEBUG - Saving mcs_velocity_analysis figure for 2005-11-13T16:50:08.000000000.\n",
      "2024-10-03 16:20:25,590 - thor.data.aura - INFO - Converting cpol data from twp10cpolgrid150.b2.20051113.170000.nc\n",
      "2024-10-03 16:20:26,107 - thor.visualize.horizontal - INFO - No figsize provided. Using default.\n",
      "2024-10-03 16:20:26,173 - thor.visualize.horizontal - DEBUG - Plotting boundary.\n",
      "2024-10-03 16:20:26,198 - thor.visualize.horizontal - DEBUG - Plotting boundary.\n",
      "2024-10-03 16:20:26,312 - thor.visualize.attribute - DEBUG - Saving mcs_velocity_analysis figure for 2005-11-13T17:00:08.000000000.\n",
      "2024-10-03 16:20:27,927 - thor.data.aura - INFO - Converting cpol data from twp10cpolgrid150.b2.20051113.171000.nc\n",
      "2024-10-03 16:20:28,449 - thor.visualize.horizontal - INFO - No figsize provided. Using default.\n",
      "2024-10-03 16:20:28,514 - thor.visualize.horizontal - DEBUG - Plotting boundary.\n",
      "2024-10-03 16:20:28,537 - thor.visualize.horizontal - DEBUG - Plotting boundary.\n",
      "2024-10-03 16:20:28,654 - thor.visualize.attribute - DEBUG - Saving mcs_velocity_analysis figure for 2005-11-13T17:10:23.000000000.\n",
      "2024-10-03 16:20:30,292 - thor.data.aura - INFO - Converting cpol data from twp10cpolgrid150.b2.20051113.172000.nc\n",
      "2024-10-03 16:20:30,811 - thor.visualize.horizontal - INFO - No figsize provided. Using default.\n",
      "2024-10-03 16:20:30,883 - thor.visualize.horizontal - DEBUG - Plotting boundary.\n",
      "2024-10-03 16:20:30,909 - thor.visualize.horizontal - DEBUG - Plotting boundary.\n",
      "2024-10-03 16:20:31,033 - thor.visualize.attribute - DEBUG - Saving mcs_velocity_analysis figure for 2005-11-13T17:20:09.000000000.\n",
      "2024-10-03 16:20:32,667 - thor.data.aura - INFO - Converting cpol data from twp10cpolgrid150.b2.20051113.173000.nc\n",
      "2024-10-03 16:20:33,187 - thor.visualize.horizontal - INFO - No figsize provided. Using default.\n",
      "2024-10-03 16:20:33,816 - thor.visualize.horizontal - DEBUG - Plotting boundary.\n",
      "2024-10-03 16:20:33,844 - thor.visualize.horizontal - DEBUG - Plotting boundary.\n",
      "2024-10-03 16:20:33,968 - thor.visualize.attribute - DEBUG - Saving mcs_velocity_analysis figure for 2005-11-13T17:30:09.000000000.\n",
      "2024-10-03 16:20:35,646 - thor.data.aura - INFO - Converting cpol data from twp10cpolgrid150.b2.20051113.174000.nc\n",
      "2024-10-03 16:20:36,161 - thor.visualize.horizontal - INFO - No figsize provided. Using default.\n",
      "2024-10-03 16:20:36,233 - thor.visualize.horizontal - DEBUG - Plotting boundary.\n",
      "2024-10-03 16:20:36,259 - thor.visualize.horizontal - DEBUG - Plotting boundary.\n",
      "2024-10-03 16:20:36,377 - thor.visualize.attribute - DEBUG - Saving mcs_velocity_analysis figure for 2005-11-13T17:40:09.000000000.\n",
      "2024-10-03 16:20:38,002 - thor.data.aura - INFO - Converting cpol data from twp10cpolgrid150.b2.20051113.175000.nc\n",
      "2024-10-03 16:20:38,548 - thor.visualize.horizontal - INFO - No figsize provided. Using default.\n",
      "2024-10-03 16:20:38,617 - thor.visualize.horizontal - DEBUG - Plotting boundary.\n",
      "2024-10-03 16:20:38,643 - thor.visualize.horizontal - DEBUG - Plotting boundary.\n",
      "2024-10-03 16:20:38,761 - thor.visualize.attribute - DEBUG - Saving mcs_velocity_analysis figure for 2005-11-13T17:50:08.000000000.\n",
      "2024-10-03 16:20:40,394 - thor.data.aura - INFO - Converting cpol data from twp10cpolgrid150.b2.20051113.180000.nc\n",
      "2024-10-03 16:20:40,915 - thor.visualize.horizontal - INFO - No figsize provided. Using default.\n",
      "2024-10-03 16:20:40,983 - thor.visualize.horizontal - DEBUG - Plotting boundary.\n",
      "2024-10-03 16:20:41,014 - thor.visualize.horizontal - DEBUG - Plotting boundary.\n",
      "2024-10-03 16:20:41,058 - thor.visualize.attribute - DEBUG - Saving mcs_velocity_analysis figure for 2005-11-13T18:00:08.000000000.\n",
      "2024-10-03 16:20:42,744 - thor.visualize.visualize - INFO - Animating mcs_velocity_analysis figures for mcs objects.\n",
      "2024-10-03 16:20:42,746 - thor.visualize.visualize - INFO - Animating mcs_velocity_analysis figures for mcs objects on 2005-11-13.\n",
      "2024-10-03 16:20:43,946 - thor.visualize.visualize - INFO - Saving 20051113 animation to /home/ewan/THOR_output/runs/cpol_demo_geographic/visualize/mcs_velocity_analysis_20051113.gif.\n"
     ]
    }
   ],
   "source": [
    "figure_options = visualize.option.horizontal_attribute_options(\n",
    "    \"mcs_velocity_analysis\", style=\"paper\"\n",
    ")\n",
    "start_time = np.datetime64(\"2005-11-13T16:00\")\n",
    "end_time = np.datetime64(\"2005-11-13T19:00\")\n",
    "visualize.attribute.mcs_series(output_directory, start_time, end_time, figure_options)"
   ]
  },
  {
   "cell_type": "code",
   "execution_count": null,
   "metadata": {},
   "outputs": [],
   "source": []
  }
 ],
 "metadata": {
  "kernelspec": {
   "display_name": "THOR",
   "language": "python",
   "name": "python3"
  },
  "language_info": {
   "codemirror_mode": {
    "name": "ipython",
    "version": 3
   },
   "file_extension": ".py",
   "mimetype": "text/x-python",
   "name": "python",
   "nbconvert_exporter": "python",
   "pygments_lexer": "ipython3",
   "version": "3.10.14"
  }
 },
 "nbformat": 4,
 "nbformat_minor": 2
}
