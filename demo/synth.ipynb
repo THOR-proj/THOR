{
 "cells": [
  {
   "cell_type": "code",
   "execution_count": 1,
   "metadata": {},
   "outputs": [
    {
     "name": "stdout",
     "output_type": "stream",
     "text": [
      "\n",
      "## You are using the Python ARM Radar Toolkit (Py-ART), an open source\n",
      "## library for working with weather radar data. Py-ART is partly\n",
      "## supported by the U.S. Department of Energy as part of the Atmospheric\n",
      "## Radiation Measurement (ARM) Climate Research Facility, an Office of\n",
      "## Science user facility.\n",
      "##\n",
      "## If you use this software to prepare a publication, please cite:\n",
      "##\n",
      "##     JJ Helmus and SM Collis, JORS 2016, doi: 10.5334/jors.119\n",
      "\n"
     ]
    }
   ],
   "source": [
    "%load_ext autoreload\n",
    "%autoreload 2\n",
    "from pathlib import Path\n",
    "import shutil\n",
    "import glob\n",
    "import numpy as np\n",
    "import xarray as xr\n",
    "import pandas as pd\n",
    "import matplotlib.pyplot as plt\n",
    "import thor.data as data\n",
    "import thor.data.dispatch as dispatch\n",
    "import thor.grid as grid\n",
    "import thor.track as track\n",
    "import thor.option as option\n",
    "import thor.tag as tag\n",
    "import thor.visualize as visualize\n",
    "import thor.data.synthetic as synthetic\n",
    "\n",
    "notebook_name = \"cpol_demo.ipynb\""
   ]
  },
  {
   "cell_type": "code",
   "execution_count": 10,
   "metadata": {},
   "outputs": [
    {
     "name": "stderr",
     "output_type": "stream",
     "text": [
      "2024-08-28 11:30:49,714 - thor.option - DEBUG - Saving options to /home/ewan/THOR_output/options/grid_options/synth_geographic.yaml\n"
     ]
    }
   ],
   "source": [
    "# Parent directory for saving outputs\n",
    "base_local = Path.home() / \"THOR_output\"\n",
    "start = \"2005-11-13T00:00:00\"\n",
    "end = \"2005-11-14T00:00:00\"\n",
    "\n",
    "lat = np.arange(0, 5+0.025, 0.025).tolist()\n",
    "lon = np.arange(0, 5+0.025, 0.025).tolist()\n",
    "grid_options = grid.create_options(name=\"geographic\", latitude=lat, longitude=lon)\n",
    "grid.check_options(grid_options)\n",
    "grid.save_grid_options(grid_options, filename=\"synth_geographic\")"
   ]
  },
  {
   "cell_type": "code",
   "execution_count": 27,
   "metadata": {},
   "outputs": [
    {
     "data": {
      "text/plain": [
       "{'start': '2005-11-13T00:00:00',\n",
       " 'center_latitude': np.float64(2.5),\n",
       " 'center_longitude': np.float64(2.5),\n",
       " 'radius': 0.1,\n",
       " 'alt_center': 3000.0,\n",
       " 'alt_radius': 1000.0,\n",
       " 'intensity': 50,\n",
       " 'eccentricity': 0.4,\n",
       " 'orientation': 0.7853981633974483,\n",
       " 'direction': 0,\n",
       " 'speed': 10}"
      ]
     },
     "execution_count": 27,
     "metadata": {},
     "output_type": "execute_result"
    }
   ],
   "source": [
    "synthetic_object = synthetic.create_object_dictionary(\n",
    "    start=start, center_latitude=np.mean(lat), center_longitude=np.mean(lon), direction=0, speed=10\n",
    ")\n",
    "starting_objects = [synthetic_object]"
   ]
  },
  {
   "cell_type": "code",
   "execution_count": null,
   "metadata": {},
   "outputs": [],
   "source": [
    "synthetic_options = synthetic.synthetic_data_options()"
   ]
  },
  {
   "cell_type": "code",
   "execution_count": 19,
   "metadata": {},
   "outputs": [],
   "source": [
    "ds = synthetic.create_dataset(grid_options)"
   ]
  },
  {
   "cell_type": "code",
   "execution_count": 22,
   "metadata": {},
   "outputs": [],
   "source": [
    "ds = synthetic.add_reflectivity(ds, 4, 2, 10, 1e3, 1e3, 40, .4, np.pi/4)"
   ]
  },
  {
   "cell_type": "code",
   "execution_count": 23,
   "metadata": {},
   "outputs": [
    {
     "data": {
      "text/plain": [
       "<matplotlib.collections.QuadMesh at 0x77651b1ecfa0>"
      ]
     },
     "execution_count": 23,
     "metadata": {},
     "output_type": "execute_result"
    },
    {
     "data": {
      "image/png": "[encoded data removed]",
      "text/plain": [
       "<Figure size 640x480 with 2 Axes>"
      ]
     },
     "metadata": {},
     "output_type": "display_data"
    }
   ],
   "source": [
    "ds[\"reflectivity\"].sel(altitude=1e3, method=\"nearest\").plot()"
   ]
  },
  {
   "cell_type": "code",
   "execution_count": null,
   "metadata": {},
   "outputs": [],
   "source": [
    "synthetic.create_object_dictionary()"
   ]
  },
  {
   "cell_type": "code",
   "execution_count": null,
   "metadata": {},
   "outputs": [],
   "source": [
    "\n",
    "# Create the tag_options dictionary\n",
    "era5_pl_tag_options = data.era5.tag_options()\n",
    "era5_sl_tag_options = data.era5.tag_options(dataset=\"era5_sl\")\n",
    "tag_options = option.consolidate_options([era5_pl_tag_options, era5_sl_tag_options])\n",
    "tag.save_tag_options(tag_options, filename=\"era5\")\n",
    "\n",
    "# Create the track_options dictionary\n",
    "track_options = option.mcs(dataset=\"cpol\", tags=[\"era5_pl\", \"era5_sl\"])\n",
    "option.save_track_options(track_options, filename=\"cpol_mcs\")\n",
    "\n",
    "# Create the display_options dictionary\n",
    "visualize_options = {\n",
    "    obj: visualize.option.runtime_options(obj, save=True, style=\"presentation\")\n",
    "    for obj in [\"cell\", \"anvil\", \"mcs\"]\n",
    "}\n",
    "visualize_options[\"middle_cloud\"] = visualize.option.runtime_options(\n",
    "    \"middle_cloud\", save=True, style=\"presentation\", figure_types=[\"mask\"]\n",
    ")\n",
    "visualize.option.save_display_options(visualize_options, filename=\"runtime_mcs\")\n",
    "visualize_options = None"
   ]
  },
  {
   "cell_type": "code",
   "execution_count": 5,
   "metadata": {},
   "outputs": [
    {
     "name": "stderr",
     "output_type": "stream",
     "text": [
      "2024-08-27 16:34:30,474 - thor.track - DEBUG - Beginning simultaneous tracking.\n",
      "2024-08-27 16:34:30,580 - thor.track - INFO - Processing 2005-11-13T14:00:09.\n",
      "2024-08-27 16:34:30,581 - thor.data.aura - DEBUG - Updating cpol dataset for 2005-11-13T14:00:09.\n",
      "2024-08-27 16:34:30,582 - thor.data.aura - DEBUG - Converting cpol data from twp10cpolgrid150.b2.20051113.140000.nc\n",
      "2024-08-27 16:34:30,613 - thor.data.aura - DEBUG - Creating new geographic grid with spacing 0.025 m, 0.025 m.\n",
      "2024-08-27 16:34:33,215 - thor.track - DEBUG - Processing hierarchy level 0.\n",
      "2024-08-27 16:34:33,216 - thor.track - DEBUG - Tracking cell.\n",
      "2024-08-27 16:34:42,249 - thor.match.match - DEBUG - Matching cell objects.\n",
      "2024-08-27 16:34:42,250 - thor.match.match - DEBUG - No previous mask, or no objects in previous mask.\n",
      "2024-08-27 16:34:42,255 - thor.visualize.runtime - DEBUG - Generating runtime visualizations.\n",
      "2024-08-27 16:34:42,256 - thor.track - DEBUG - Tracking middle_cloud.\n",
      "2024-08-27 16:34:42,260 - thor.visualize.runtime - DEBUG - Generating runtime visualizations.\n",
      "2024-08-27 16:34:42,261 - thor.track - DEBUG - Tracking anvil.\n",
      "2024-08-27 16:34:42,266 - thor.match.match - DEBUG - Matching anvil objects.\n",
      "2024-08-27 16:34:42,267 - thor.match.match - DEBUG - No previous mask, or no objects in previous mask.\n",
      "2024-08-27 16:34:42,273 - thor.visualize.runtime - DEBUG - Generating runtime visualizations.\n",
      "2024-08-27 16:34:42,274 - thor.track - DEBUG - Processing hierarchy level 1.\n",
      "2024-08-27 16:34:42,276 - thor.track - DEBUG - Tracking mcs.\n",
      "2024-08-27 16:34:42,297 - thor.match.match - DEBUG - Matching mcs objects.\n",
      "2024-08-27 16:34:42,299 - thor.match.match - DEBUG - No previous mask, or no objects in previous mask.\n",
      "2024-08-27 16:34:42,306 - thor.visualize.runtime - DEBUG - Generating runtime visualizations.\n",
      "2024-08-27 16:34:42,308 - thor.data.era5 - DEBUG - Updating era5_pl dataset for 2005-11-13T14:00:09.\n",
      "2024-08-27 16:34:42,310 - thor.data.era5 - DEBUG - Subsetting u_era5_oper_pl_20051101-20051130.nc\n",
      "2024-08-27 16:34:42,367 - thor.data.era5 - DEBUG - Subsetting v_era5_oper_pl_20051101-20051130.nc\n",
      "2024-08-27 16:34:42,422 - thor.data.era5 - DEBUG - Subsetting z_era5_oper_pl_20051101-20051130.nc\n",
      "2024-08-27 16:34:42,475 - thor.data.era5 - DEBUG - Subsetting r_era5_oper_pl_20051101-20051130.nc\n",
      "2024-08-27 16:34:42,523 - thor.data.era5 - DEBUG - Subsetting t_era5_oper_pl_20051101-20051130.nc\n",
      "2024-08-27 16:34:42,623 - thor.data.era5 - DEBUG - Updating era5_sl dataset for 2005-11-13T14:00:09.\n",
      "2024-08-27 16:34:42,625 - thor.data.era5 - DEBUG - Subsetting cape_era5_oper_sfc_20051101-20051130.nc\n",
      "2024-08-27 16:34:42,674 - thor.data.era5 - DEBUG - Subsetting cin_era5_oper_sfc_20051101-20051130.nc\n",
      "2024-08-27 16:34:42,778 - thor.track - INFO - Processing 2005-11-13T14:10:23.\n",
      "2024-08-27 16:34:42,779 - thor.data.aura - DEBUG - Updating cpol dataset for 2005-11-13T14:10:23.\n",
      "2024-08-27 16:34:42,780 - thor.data.aura - DEBUG - Converting cpol data from twp10cpolgrid150.b2.20051113.141000.nc\n",
      "2024-08-27 16:34:43,250 - thor.track - DEBUG - Processing hierarchy level 0.\n",
      "2024-08-27 16:34:43,251 - thor.track - DEBUG - Tracking cell.\n",
      "2024-08-27 16:34:43,261 - thor.match.match - DEBUG - Matching cell objects.\n",
      "2024-08-27 16:34:43,308 - thor.match.match - DEBUG - New matchable objects. Initializing object record.\n",
      "2024-08-27 16:34:43,312 - thor.visualize.runtime - DEBUG - Generating runtime visualizations.\n",
      "2024-08-27 16:34:43,312 - thor.track - DEBUG - Tracking middle_cloud.\n",
      "2024-08-27 16:34:43,316 - thor.visualize.runtime - DEBUG - Generating runtime visualizations.\n",
      "2024-08-27 16:34:43,317 - thor.track - DEBUG - Tracking anvil.\n",
      "2024-08-27 16:34:43,323 - thor.match.match - DEBUG - Matching anvil objects.\n",
      "2024-08-27 16:34:43,344 - thor.match.match - DEBUG - New matchable objects. Initializing object record.\n",
      "2024-08-27 16:34:43,348 - thor.visualize.runtime - DEBUG - Generating runtime visualizations.\n",
      "2024-08-27 16:34:43,349 - thor.track - DEBUG - Processing hierarchy level 1.\n",
      "2024-08-27 16:34:43,350 - thor.track - DEBUG - Tracking mcs.\n",
      "2024-08-27 16:34:43,369 - thor.match.match - DEBUG - Matching mcs objects.\n",
      "2024-08-27 16:34:43,372 - thor.match.match - DEBUG - No previous mask, or no objects in previous mask.\n",
      "2024-08-27 16:34:43,377 - thor.visualize.runtime - DEBUG - Generating runtime visualizations.\n",
      "2024-08-27 16:34:43,437 - thor.track - INFO - Processing 2005-11-13T14:20:09.\n",
      "2024-08-27 16:34:43,438 - thor.data.aura - DEBUG - Updating cpol dataset for 2005-11-13T14:20:09.\n",
      "2024-08-27 16:34:43,439 - thor.data.aura - DEBUG - Converting cpol data from twp10cpolgrid150.b2.20051113.142000.nc\n",
      "2024-08-27 16:34:43,995 - thor.track - DEBUG - Processing hierarchy level 0.\n",
      "2024-08-27 16:34:43,995 - thor.track - DEBUG - Tracking cell.\n",
      "2024-08-27 16:34:44,005 - thor.match.match - DEBUG - Matching cell objects.\n",
      "2024-08-27 16:34:44,049 - thor.match.match - DEBUG - Updating object record.\n",
      "2024-08-27 16:34:44,054 - thor.visualize.runtime - DEBUG - Generating runtime visualizations.\n",
      "2024-08-27 16:34:44,055 - thor.track - DEBUG - Tracking middle_cloud.\n",
      "2024-08-27 16:34:44,059 - thor.visualize.runtime - DEBUG - Generating runtime visualizations.\n",
      "2024-08-27 16:34:44,060 - thor.track - DEBUG - Tracking anvil.\n",
      "2024-08-27 16:34:44,064 - thor.match.match - DEBUG - Matching anvil objects.\n",
      "2024-08-27 16:34:44,085 - thor.match.match - DEBUG - Updating object record.\n",
      "2024-08-27 16:34:44,090 - thor.visualize.runtime - DEBUG - Generating runtime visualizations.\n",
      "2024-08-27 16:34:44,091 - thor.track - DEBUG - Processing hierarchy level 1.\n",
      "2024-08-27 16:34:44,092 - thor.track - DEBUG - Tracking mcs.\n",
      "2024-08-27 16:34:44,114 - thor.match.match - DEBUG - Matching mcs objects.\n",
      "2024-08-27 16:34:44,137 - thor.match.match - DEBUG - New matchable objects. Initializing object record.\n",
      "2024-08-27 16:34:44,143 - thor.visualize.runtime - DEBUG - Generating runtime visualizations.\n",
      "2024-08-27 16:34:44,206 - thor.track - INFO - Processing 2005-11-13T14:30:09.\n",
      "2024-08-27 16:34:44,207 - thor.data.aura - DEBUG - Updating cpol dataset for 2005-11-13T14:30:09.\n",
      "2024-08-27 16:34:44,208 - thor.data.aura - DEBUG - Converting cpol data from twp10cpolgrid150.b2.20051113.143000.nc\n",
      "2024-08-27 16:34:44,762 - thor.track - DEBUG - Processing hierarchy level 0.\n",
      "2024-08-27 16:34:44,763 - thor.track - DEBUG - Tracking cell.\n",
      "2024-08-27 16:34:44,778 - thor.match.match - DEBUG - Matching cell objects.\n",
      "2024-08-27 16:34:44,806 - thor.match.match - DEBUG - Updating object record.\n",
      "2024-08-27 16:34:44,810 - thor.visualize.runtime - DEBUG - Generating runtime visualizations.\n",
      "2024-08-27 16:34:44,811 - thor.track - DEBUG - Tracking middle_cloud.\n",
      "2024-08-27 16:34:44,815 - thor.visualize.runtime - DEBUG - Generating runtime visualizations.\n",
      "2024-08-27 16:34:44,816 - thor.track - DEBUG - Tracking anvil.\n",
      "2024-08-27 16:34:44,824 - thor.match.match - DEBUG - Matching anvil objects.\n",
      "2024-08-27 16:34:44,846 - thor.match.match - DEBUG - Updating object record.\n",
      "2024-08-27 16:34:44,850 - thor.visualize.runtime - DEBUG - Generating runtime visualizations.\n",
      "2024-08-27 16:34:44,852 - thor.track - DEBUG - Processing hierarchy level 1.\n",
      "2024-08-27 16:34:44,853 - thor.track - DEBUG - Tracking mcs.\n",
      "2024-08-27 16:34:44,872 - thor.match.match - DEBUG - Matching mcs objects.\n",
      "2024-08-27 16:34:44,896 - thor.match.match - DEBUG - Updating object record.\n",
      "2024-08-27 16:34:44,904 - thor.visualize.runtime - DEBUG - Generating runtime visualizations.\n",
      "2024-08-27 16:34:44,955 - thor.track - INFO - Processing 2005-11-13T14:40:09.\n",
      "2024-08-27 16:34:44,956 - thor.data.aura - DEBUG - Updating cpol dataset for 2005-11-13T14:40:09.\n",
      "2024-08-27 16:34:44,957 - thor.data.aura - DEBUG - Converting cpol data from twp10cpolgrid150.b2.20051113.144000.nc\n",
      "2024-08-27 16:34:45,447 - thor.track - DEBUG - Processing hierarchy level 0.\n",
      "2024-08-27 16:34:45,448 - thor.track - DEBUG - Tracking cell.\n",
      "2024-08-27 16:34:45,462 - thor.match.match - DEBUG - Matching cell objects.\n",
      "2024-08-27 16:34:45,504 - thor.match.match - DEBUG - Updating object record.\n",
      "2024-08-27 16:34:45,508 - thor.visualize.runtime - DEBUG - Generating runtime visualizations.\n",
      "2024-08-27 16:34:45,509 - thor.track - DEBUG - Tracking middle_cloud.\n",
      "2024-08-27 16:34:45,514 - thor.visualize.runtime - DEBUG - Generating runtime visualizations.\n",
      "2024-08-27 16:34:45,515 - thor.track - DEBUG - Tracking anvil.\n",
      "2024-08-27 16:34:45,523 - thor.match.match - DEBUG - Matching anvil objects.\n",
      "2024-08-27 16:34:45,542 - thor.match.match - DEBUG - Updating object record.\n",
      "2024-08-27 16:34:45,546 - thor.visualize.runtime - DEBUG - Generating runtime visualizations.\n",
      "2024-08-27 16:34:45,547 - thor.track - DEBUG - Processing hierarchy level 1.\n",
      "2024-08-27 16:34:45,547 - thor.track - DEBUG - Tracking mcs.\n",
      "2024-08-27 16:34:45,566 - thor.match.match - DEBUG - Matching mcs objects.\n",
      "2024-08-27 16:34:45,588 - thor.match.match - DEBUG - Updating object record.\n",
      "2024-08-27 16:34:45,594 - thor.visualize.runtime - DEBUG - Generating runtime visualizations.\n",
      "2024-08-27 16:34:45,651 - thor.track - INFO - Processing 2005-11-13T14:50:09.\n",
      "2024-08-27 16:34:45,652 - thor.data.aura - DEBUG - Updating cpol dataset for 2005-11-13T14:50:09.\n",
      "2024-08-27 16:34:45,653 - thor.data.aura - DEBUG - Converting cpol data from twp10cpolgrid150.b2.20051113.145000.nc\n",
      "2024-08-27 16:34:46,145 - thor.track - DEBUG - Processing hierarchy level 0.\n",
      "2024-08-27 16:34:46,145 - thor.track - DEBUG - Tracking cell.\n",
      "2024-08-27 16:34:46,159 - thor.match.match - DEBUG - Matching cell objects.\n",
      "2024-08-27 16:34:46,216 - thor.match.match - DEBUG - Updating object record.\n",
      "2024-08-27 16:34:46,221 - thor.visualize.runtime - DEBUG - Generating runtime visualizations.\n",
      "2024-08-27 16:34:46,222 - thor.track - DEBUG - Tracking middle_cloud.\n",
      "2024-08-27 16:34:46,226 - thor.visualize.runtime - DEBUG - Generating runtime visualizations.\n",
      "2024-08-27 16:34:46,227 - thor.track - DEBUG - Tracking anvil.\n",
      "2024-08-27 16:34:46,231 - thor.match.match - DEBUG - Matching anvil objects.\n",
      "2024-08-27 16:34:46,256 - thor.match.match - DEBUG - Updating object record.\n",
      "2024-08-27 16:34:46,260 - thor.visualize.runtime - DEBUG - Generating runtime visualizations.\n",
      "2024-08-27 16:34:46,260 - thor.track - DEBUG - Processing hierarchy level 1.\n",
      "2024-08-27 16:34:46,261 - thor.track - DEBUG - Tracking mcs.\n",
      "2024-08-27 16:34:46,281 - thor.match.match - DEBUG - Matching mcs objects.\n",
      "2024-08-27 16:34:46,309 - thor.match.match - DEBUG - Updating object record.\n",
      "2024-08-27 16:34:46,316 - thor.visualize.runtime - DEBUG - Generating runtime visualizations.\n",
      "2024-08-27 16:34:46,378 - thor.track - INFO - Processing 2005-11-13T15:00:08.\n",
      "2024-08-27 16:34:46,379 - thor.data.aura - DEBUG - Updating cpol dataset for 2005-11-13T15:00:08.\n",
      "2024-08-27 16:34:46,380 - thor.data.aura - DEBUG - Converting cpol data from twp10cpolgrid150.b2.20051113.150000.nc\n",
      "2024-08-27 16:34:46,880 - thor.track - DEBUG - Processing hierarchy level 0.\n",
      "2024-08-27 16:34:46,880 - thor.track - DEBUG - Tracking cell.\n",
      "2024-08-27 16:34:46,901 - thor.match.match - DEBUG - Matching cell objects.\n",
      "2024-08-27 16:34:46,949 - thor.match.match - DEBUG - Updating object record.\n",
      "2024-08-27 16:34:46,954 - thor.visualize.runtime - DEBUG - Generating runtime visualizations.\n",
      "2024-08-27 16:34:46,955 - thor.track - DEBUG - Tracking middle_cloud.\n",
      "2024-08-27 16:34:46,960 - thor.visualize.runtime - DEBUG - Generating runtime visualizations.\n",
      "2024-08-27 16:34:46,961 - thor.track - DEBUG - Tracking anvil.\n",
      "2024-08-27 16:34:46,965 - thor.match.match - DEBUG - Matching anvil objects.\n",
      "2024-08-27 16:34:46,988 - thor.match.match - DEBUG - Updating object record.\n",
      "2024-08-27 16:34:46,993 - thor.visualize.runtime - DEBUG - Generating runtime visualizations.\n",
      "2024-08-27 16:34:46,994 - thor.track - DEBUG - Processing hierarchy level 1.\n",
      "2024-08-27 16:34:46,995 - thor.track - DEBUG - Tracking mcs.\n",
      "2024-08-27 16:34:47,019 - thor.match.match - DEBUG - Matching mcs objects.\n",
      "2024-08-27 16:34:47,043 - thor.match.match - DEBUG - Updating object record.\n",
      "2024-08-27 16:34:47,051 - thor.visualize.runtime - DEBUG - Generating runtime visualizations.\n",
      "2024-08-27 16:34:47,056 - thor.write.mask - DEBUG - Writing cell masks for 2005-11-13.\n",
      "2024-08-27 16:34:47,092 - thor.write.mask - DEBUG - Writing middle_cloud masks for 2005-11-13.\n",
      "2024-08-27 16:34:47,124 - thor.write.mask - DEBUG - Writing anvil masks for 2005-11-13.\n",
      "2024-08-27 16:34:47,155 - thor.write.mask - DEBUG - Writing mcs masks for 2005-11-13.\n"
     ]
    }
   ],
   "source": [
    "tag_options = None\n",
    "\n",
    "output_directory = base_local / \"runs/cpol_demo_geographic\"\n",
    "if output_directory.exists():\n",
    "    shutil.rmtree(output_directory)\n",
    "times = data.utils.generate_times(data_options[\"cpol\"])\n",
    "tracks = track.simultaneous_track(\n",
    "    times,\n",
    "    data_options,\n",
    "    grid_options,\n",
    "    track_options,\n",
    "    tag_options,\n",
    "    visualize_options,\n",
    "    output_directory=output_directory\n",
    ")"
   ]
  },
  {
   "cell_type": "code",
   "execution_count": null,
   "metadata": {},
   "outputs": [],
   "source": []
  }
 ],
 "metadata": {
  "kernelspec": {
   "display_name": "THOR",
   "language": "python",
   "name": "python3"
  },
  "language_info": {
   "codemirror_mode": {
    "name": "ipython",
    "version": 3
   },
   "file_extension": ".py",
   "mimetype": "text/x-python",
   "name": "python",
   "nbconvert_exporter": "python",
   "pygments_lexer": "ipython3",
   "version": "3.10.14"
  }
 },
 "nbformat": 4,
 "nbformat_minor": 2
}
