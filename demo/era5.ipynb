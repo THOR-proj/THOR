{
 "cells": [
  {
   "cell_type": "code",
   "execution_count": 2,
   "metadata": {},
   "outputs": [
    {
     "name": "stdout",
     "output_type": "stream",
     "text": [
      "The autoreload extension is already loaded. To reload it, use:\n",
      "  %reload_ext autoreload\n"
     ]
    }
   ],
   "source": [
    "%load_ext autoreload\n",
    "%autoreload 2\n",
    "import numpy as np\n",
    "import thor.data.era5 as era5\n",
    "import thor.grid as grid\n",
    "\n",
    "notebook_name = \"cpol_demo.ipynb\""
   ]
  },
  {
   "cell_type": "code",
   "execution_count": 3,
   "metadata": {},
   "outputs": [
    {
     "name": "stderr",
     "output_type": "stream",
     "text": [
      "2024-10-11 16:29:02,162 - thor.grid - WARNING - Shape not specified. Will attempt to infer from input.\n",
      "2024-10-11 16:29:02,164 - thor.data.era5 - WARNING - No longitude range provided. Setting to [-90, 90].\n",
      "2024-10-11 16:29:02,165 - thor.data.era5 - WARNING - No longitude range provided. Setting to [-180, 180].\n"
     ]
    },
    {
     "ename": "TypeError",
     "evalue": "generate_cdsapi_requests() takes 1 positional argument but 2 were given",
     "output_type": "error",
     "traceback": [
      "\u001b[0;31m---------------------------------------------------------------------------\u001b[0m",
      "\u001b[0;31mTypeError\u001b[0m                                 Traceback (most recent call last)",
      "Cell \u001b[0;32mIn[3], line 9\u001b[0m\n\u001b[1;32m      7\u001b[0m era5\u001b[38;5;241m.\u001b[39mcheck_data_options(data_options)\n\u001b[1;32m      8\u001b[0m filepaths \u001b[38;5;241m=\u001b[39m era5\u001b[38;5;241m.\u001b[39mget_era5_filepaths(data_options, grid_options)\n\u001b[0;32m----> 9\u001b[0m cds_name, requests, local_paths \u001b[38;5;241m=\u001b[39m \u001b[43mera5\u001b[49m\u001b[38;5;241;43m.\u001b[39;49m\u001b[43mgenerate_cdsapi_requests\u001b[49m\u001b[43m(\u001b[49m\n\u001b[1;32m     10\u001b[0m \u001b[43m    \u001b[49m\u001b[43mdata_options\u001b[49m\u001b[43m,\u001b[49m\u001b[43m \u001b[49m\u001b[43mgrid_options\u001b[49m\n\u001b[1;32m     11\u001b[0m \u001b[43m)\u001b[49m\n\u001b[1;32m     12\u001b[0m era5\u001b[38;5;241m.\u001b[39missue_cdsapi_requests(cds_name, requests, local_paths, enforce_timeout\u001b[38;5;241m=\u001b[39m\u001b[38;5;28;01mTrue\u001b[39;00m)\n",
      "\u001b[0;31mTypeError\u001b[0m: generate_cdsapi_requests() takes 1 positional argument but 2 were given"
     ]
    }
   ],
   "source": [
    "data_options = era5.data_options(start=\"2002-01-14\", end=\"2002-01-15\", fields=[\"u\"])\n",
    "\n",
    "lats = np.arange(-14, -10 + 0.025, 0.025).tolist()\n",
    "lons = np.arange(129, 133 + 0.025, 0.025).tolist()\n",
    "\n",
    "grid_options = grid.create_options(name=\"geographic\", latitude=lats, longitude=lons)\n",
    "era5.check_data_options(data_options)\n",
    "filepaths = era5.get_era5_filepaths(data_options, grid_options)\n",
    "cds_name, requests, local_paths = era5.generate_cdsapi_requests(data_options)\n",
    "era5.issue_cdsapi_requests(cds_name, requests, local_paths, enforce_timeout=True)"
   ]
  },
  {
   "cell_type": "code",
   "execution_count": 21,
   "metadata": {},
   "outputs": [
    {
     "data": {
      "text/plain": [
       "{'u': ['/home/ewan/THOR_output/input_data/raw/era5_monthly_9S_129E_14S_134E/era5/pressure-levels/reanalysis/u/2002/u_era5_oper_pl_20020101.nc']}"
      ]
     },
     "execution_count": 21,
     "metadata": {},
     "output_type": "execute_result"
    }
   ],
   "source": [
    "filepaths"
   ]
  },
  {
   "cell_type": "code",
   "execution_count": 23,
   "metadata": {},
   "outputs": [
    {
     "data": {
      "text/plain": [
       "True"
      ]
     },
     "execution_count": 23,
     "metadata": {},
     "output_type": "execute_result"
    }
   ],
   "source": [
    "local_paths == filepaths"
   ]
  }
 ],
 "metadata": {
  "kernelspec": {
   "display_name": "THOR",
   "language": "python",
   "name": "python3"
  },
  "language_info": {
   "codemirror_mode": {
    "name": "ipython",
    "version": 3
   },
   "file_extension": ".py",
   "mimetype": "text/x-python",
   "name": "python",
   "nbconvert_exporter": "python",
   "pygments_lexer": "ipython3",
   "version": "3.10.14"
  }
 },
 "nbformat": 4,
 "nbformat_minor": 2
}
