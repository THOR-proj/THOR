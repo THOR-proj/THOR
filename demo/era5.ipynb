{
 "cells": [
  {
   "cell_type": "code",
   "execution_count": 17,
   "metadata": {},
   "outputs": [
    {
     "name": "stdout",
     "output_type": "stream",
     "text": [
      "The autoreload extension is already loaded. To reload it, use:\n",
      "  %reload_ext autoreload\n"
     ]
    }
   ],
   "source": [
    "%load_ext autoreload\n",
    "%autoreload 2\n",
    "import numpy as np\n",
    "import pandas as pd\n",
    "import xarray as xr\n",
    "import tempfile\n",
    "import thor.data.era5 as era5\n",
    "import thor.data.aura as aura\n",
    "import thor.data.utils as utils\n",
    "import thor.grid as grid\n",
    "import cdsapi\n",
    "import pathlib\n",
    "import xesmf as xe\n",
    "\n",
    "notebook_name = \"cpol_demo.ipynb\""
   ]
  },
  {
   "cell_type": "code",
   "execution_count": 18,
   "metadata": {},
   "outputs": [],
   "source": [
    "data_options = era5.data_options(start=\"2002-01-14\", end=\"2002-01-15\", fields=[\"u\"])\n",
    "\n",
    "lats = np.arange(-14, -10 + 0.025, 0.025).tolist()\n",
    "lons = np.arange(129, 133 + 0.025, 0.025).tolist()\n",
    "\n",
    "grid_options = grid.create_options(name=\"geographic\", latitude=lats, longitude=lons)\n",
    "era5.check_data_options(data_options)\n",
    "filepaths = era5.get_era5_filepaths(data_options, grid_options)\n",
    "cds_name, requests, local_paths = era5.generate_cdsapi_requests(\n",
    "    data_options, grid_options\n",
    ")\n",
    "era5.issue_cdsapi_requests(cds_name, requests, local_paths, enforce_timeout=True)"
   ]
  },
  {
   "cell_type": "code",
   "execution_count": 21,
   "metadata": {},
   "outputs": [
    {
     "data": {
      "text/plain": [
       "{'u': ['/home/ewan/THOR_output/input_data/raw/era5_monthly_9S_129E_14S_134E/era5/pressure-levels/reanalysis/u/2002/u_era5_oper_pl_20020101.nc']}"
      ]
     },
     "execution_count": 21,
     "metadata": {},
     "output_type": "execute_result"
    }
   ],
   "source": [
    "filepaths"
   ]
  },
  {
   "cell_type": "code",
   "execution_count": 23,
   "metadata": {},
   "outputs": [
    {
     "data": {
      "text/plain": [
       "True"
      ]
     },
     "execution_count": 23,
     "metadata": {},
     "output_type": "execute_result"
    }
   ],
   "source": [
    "local_paths == filepaths"
   ]
  }
 ],
 "metadata": {
  "kernelspec": {
   "display_name": "THOR",
   "language": "python",
   "name": "python3"
  },
  "language_info": {
   "codemirror_mode": {
    "name": "ipython",
    "version": 3
   },
   "file_extension": ".py",
   "mimetype": "text/x-python",
   "name": "python",
   "nbconvert_exporter": "python",
   "pygments_lexer": "ipython3",
   "version": "3.10.14"
  }
 },
 "nbformat": 4,
 "nbformat_minor": 2
}
