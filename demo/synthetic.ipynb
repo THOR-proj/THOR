{
 "cells": [
  {
   "cell_type": "code",
   "execution_count": 39,
   "metadata": {},
   "outputs": [
    {
     "name": "stdout",
     "output_type": "stream",
     "text": [
      "The autoreload extension is already loaded. To reload it, use:\n",
      "  %reload_ext autoreload\n"
     ]
    }
   ],
   "source": [
    "%load_ext autoreload\n",
    "%autoreload 2\n",
    "from pathlib import Path\n",
    "import shutil\n",
    "import numpy as np\n",
    "import thor.data as data\n",
    "import thor.data.dispatch as dispatch\n",
    "import thor.grid as grid\n",
    "import thor.track as track\n",
    "import thor.option as option\n",
    "import thor.tag as tag\n",
    "import thor.visualize as visualize\n",
    "import thor.data.synthetic as synthetic\n",
    "\n",
    "notebook_name = \"synthetic_demo.ipynb\""
   ]
  },
  {
   "cell_type": "code",
   "execution_count": 40,
   "metadata": {},
   "outputs": [
    {
     "name": "stderr",
     "output_type": "stream",
     "text": [
      "2024-08-29 23:01:35,343 - thor.grid - WARNING - Shape not specified. Will attempt to infer from input.\n"
     ]
    },
    {
     "name": "stderr",
     "output_type": "stream",
     "text": [
      "2024-08-29 23:01:35,368 - thor.option - DEBUG - Saving options to /home/ewan/THOR_output/options/grid_options/synth_geographic.yaml\n",
      "2024-08-29 23:01:35,533 - thor.option - DEBUG - Saving options to /home/ewan/THOR_output/options/data_options/synthetic.yaml\n",
      "2024-08-29 23:01:35,543 - thor.option - DEBUG - Saving options to /home/ewan/THOR_output/options/track_options/synthetic_cell.yaml\n",
      "2024-08-29 23:01:35,552 - thor.option - DEBUG - Saving options to /home/ewan/THOR_output/options/visualize_options/runtime_synthetic.yaml\n"
     ]
    }
   ],
   "source": [
    "# Parent directory for saving outputs\n",
    "base_local = Path.home() / \"THOR_output\"\n",
    "start = \"2005-11-13T00:00:00\"\n",
    "end = \"2005-11-13T01:00:00\"\n",
    "\n",
    "# Create a grid\n",
    "lat = np.arange(-14, -6 + 0.025, 0.025).tolist()\n",
    "lon = np.arange(128, 136 + 0.025, 0.025).tolist()\n",
    "grid_options = grid.create_options(name=\"geographic\", latitude=lat, longitude=lon)\n",
    "grid.check_options(grid_options)\n",
    "grid.save_grid_options(grid_options, filename=\"synth_geographic\")\n",
    "\n",
    "# Initialize synthetic objects\n",
    "synthetic_object = synthetic.create_object_dictionary(\n",
    "    time=start,\n",
    "    center_latitude=np.mean(lat),\n",
    "    center_longitude=np.mean(lon),\n",
    "    direction=np.pi / 2,\n",
    "    speed=10,\n",
    ")\n",
    "starting_objects = [synthetic_object]\n",
    "# Create data options dictionary\n",
    "synthetic_options = synthetic.synthetic_data_options(starting_objects=starting_objects)\n",
    "data_options = option.consolidate_options([synthetic_options])\n",
    "dispatch.check_data_options(data_options)\n",
    "data.option.save_data_options(data_options, filename=\"synthetic\")\n",
    "\n",
    "# Create the track_options dictionary\n",
    "track_options = option.cell(\n",
    "    dataset=\"synthetic\",\n",
    "    tracking_method=\"mint\",\n",
    "    global_flow_margin=70,\n",
    "    unique_global_flow=False,\n",
    ")\n",
    "option.save_track_options(track_options, filename=\"synthetic_cell\")\n",
    "\n",
    "# Create the display_options dictionary\n",
    "visualize_options = {\n",
    "    \"cell\": visualize.option.runtime_options(\"cell\", save=True, style=\"presentation\")\n",
    "}\n",
    "visualize.option.save_display_options(visualize_options, filename=\"runtime_synthetic\")\n",
    "tag_options = None"
   ]
  },
  {
   "cell_type": "code",
   "execution_count": 41,
   "metadata": {},
   "outputs": [
    {
     "name": "stderr",
     "output_type": "stream",
     "text": [
      "2024-08-29 23:01:38,631 - thor.track - INFO - Beginning simultaneous tracking.\n",
      "2024-08-29 23:01:38,634 - thor.track - INFO - Processing 2005-11-13T00:00:00.\n"
     ]
    },
    {
     "name": "stderr",
     "output_type": "stream",
     "text": [
      "2024-08-29 23:01:38,640 - thor.data.synthetic - INFO - Updating synthetic dataset for 2005-11-13T00:00:00.\n",
      "2024-08-29 23:01:39,559 - thor.track - INFO - Processing hierarchy level 0.\n",
      "2024-08-29 23:01:39,560 - thor.track - INFO - Tracking cell.\n",
      "2024-08-29 23:01:39,606 - thor.match.match - INFO - Matching cell objects.\n",
      "2024-08-29 23:01:39,609 - thor.match.match - INFO - No previous mask, or no objects in previous mask.\n",
      "2024-08-29 23:01:39,618 - thor.visualize.runtime - INFO - Generating runtime visualizations.\n",
      "2024-08-29 23:01:39,944 - thor.visualize.runtime - DEBUG - Saving mask figure for cell.\n",
      "2024-08-29 23:01:42,167 - thor.visualize.runtime - DEBUG - Saving match figure for cell.\n",
      "2024-08-29 23:01:46,816 - thor.track - INFO - Processing 2005-11-13T00:10:00.\n",
      "2024-08-29 23:01:46,818 - thor.data.synthetic - INFO - Updating synthetic dataset for 2005-11-13T00:10:00.\n",
      "2024-08-29 23:01:47,650 - thor.track - INFO - Processing hierarchy level 0.\n",
      "2024-08-29 23:01:47,651 - thor.track - INFO - Tracking cell.\n",
      "2024-08-29 23:01:47,716 - thor.match.match - INFO - Matching cell objects.\n",
      "2024-08-29 23:01:47,770 - thor.match.match - INFO - New matchable objects. Initializing object record.\n",
      "2024-08-29 23:01:47,787 - thor.visualize.runtime - INFO - Generating runtime visualizations.\n",
      "2024-08-29 23:01:48,003 - thor.visualize.runtime - DEBUG - Saving mask figure for cell.\n",
      "2024-08-29 23:01:50,273 - thor.visualize.runtime - DEBUG - Saving match figure for cell.\n",
      "2024-08-29 23:01:54,649 - thor.track - INFO - Processing 2005-11-13T00:20:00.\n",
      "2024-08-29 23:01:54,651 - thor.data.synthetic - INFO - Updating synthetic dataset for 2005-11-13T00:20:00.\n",
      "2024-08-29 23:01:55,452 - thor.track - INFO - Processing hierarchy level 0.\n",
      "2024-08-29 23:01:55,454 - thor.track - INFO - Tracking cell.\n",
      "2024-08-29 23:01:55,503 - thor.match.match - INFO - Matching cell objects.\n",
      "2024-08-29 23:01:55,538 - thor.match.match - INFO - Updating object record.\n",
      "2024-08-29 23:01:55,549 - thor.visualize.runtime - INFO - Generating runtime visualizations.\n",
      "2024-08-29 23:01:55,782 - thor.visualize.runtime - DEBUG - Saving mask figure for cell.\n",
      "2024-08-29 23:01:58,018 - thor.visualize.runtime - DEBUG - Saving match figure for cell.\n",
      "2024-08-29 23:02:03,658 - thor.track - INFO - Processing 2005-11-13T00:30:00.\n",
      "2024-08-29 23:02:03,661 - thor.data.synthetic - INFO - Updating synthetic dataset for 2005-11-13T00:30:00.\n",
      "2024-08-29 23:02:04,460 - thor.track - INFO - Processing hierarchy level 0.\n",
      "2024-08-29 23:02:04,461 - thor.track - INFO - Tracking cell.\n",
      "2024-08-29 23:02:04,515 - thor.match.match - INFO - Matching cell objects.\n",
      "2024-08-29 23:02:04,555 - thor.match.match - INFO - Updating object record.\n",
      "2024-08-29 23:02:04,565 - thor.visualize.runtime - INFO - Generating runtime visualizations.\n",
      "2024-08-29 23:02:04,791 - thor.visualize.runtime - DEBUG - Saving mask figure for cell.\n",
      "2024-08-29 23:02:08,458 - thor.visualize.runtime - DEBUG - Saving match figure for cell.\n",
      "2024-08-29 23:02:12,922 - thor.track - INFO - Processing 2005-11-13T00:40:00.\n",
      "2024-08-29 23:02:12,925 - thor.data.synthetic - INFO - Updating synthetic dataset for 2005-11-13T00:40:00.\n",
      "2024-08-29 23:02:13,766 - thor.track - INFO - Processing hierarchy level 0.\n",
      "2024-08-29 23:02:13,768 - thor.track - INFO - Tracking cell.\n",
      "2024-08-29 23:02:13,816 - thor.match.match - INFO - Matching cell objects.\n",
      "2024-08-29 23:02:13,863 - thor.match.match - INFO - Updating object record.\n",
      "2024-08-29 23:02:13,871 - thor.visualize.runtime - INFO - Generating runtime visualizations.\n",
      "2024-08-29 23:02:14,093 - thor.visualize.runtime - DEBUG - Saving mask figure for cell.\n",
      "2024-08-29 23:02:16,125 - thor.visualize.runtime - DEBUG - Saving match figure for cell.\n",
      "2024-08-29 23:02:20,937 - thor.track - INFO - Processing 2005-11-13T00:50:00.\n",
      "2024-08-29 23:02:20,940 - thor.data.synthetic - INFO - Updating synthetic dataset for 2005-11-13T00:50:00.\n",
      "2024-08-29 23:02:21,844 - thor.track - INFO - Processing hierarchy level 0.\n",
      "2024-08-29 23:02:21,846 - thor.track - INFO - Tracking cell.\n",
      "2024-08-29 23:02:21,891 - thor.match.match - INFO - Matching cell objects.\n",
      "2024-08-29 23:02:21,936 - thor.match.match - INFO - Updating object record.\n",
      "2024-08-29 23:02:21,945 - thor.visualize.runtime - INFO - Generating runtime visualizations.\n",
      "2024-08-29 23:02:22,213 - thor.visualize.runtime - DEBUG - Saving mask figure for cell.\n",
      "2024-08-29 23:02:24,704 - thor.visualize.runtime - DEBUG - Saving match figure for cell.\n",
      "2024-08-29 23:02:29,785 - thor.track - INFO - Processing 2005-11-13T01:00:00.\n",
      "2024-08-29 23:02:29,787 - thor.data.synthetic - INFO - Updating synthetic dataset for 2005-11-13T01:00:00.\n",
      "2024-08-29 23:02:30,534 - thor.track - INFO - Processing hierarchy level 0.\n",
      "2024-08-29 23:02:30,536 - thor.track - INFO - Tracking cell.\n",
      "2024-08-29 23:02:30,586 - thor.match.match - INFO - Matching cell objects.\n",
      "2024-08-29 23:02:30,621 - thor.match.match - INFO - Updating object record.\n",
      "2024-08-29 23:02:30,631 - thor.visualize.runtime - INFO - Generating runtime visualizations.\n",
      "2024-08-29 23:02:30,857 - thor.visualize.runtime - DEBUG - Saving mask figure for cell.\n",
      "2024-08-29 23:02:33,173 - thor.visualize.runtime - DEBUG - Saving match figure for cell.\n",
      "2024-08-29 23:02:37,568 - thor.write.mask - DEBUG - Writing cell masks for 2005-11-13.\n",
      "2024-08-29 23:02:37,676 - thor.visualize.visualize - INFO - Animating mask figures for cell objects on 2005-11-13.\n",
      "2024-08-29 23:02:38,017 - thor.visualize.visualize - INFO - Animating match figures for cell objects on 2005-11-13.\n"
     ]
    }
   ],
   "source": [
    "output_directory = base_local / \"runs/synthetic_demo_geographic\"\n",
    "if output_directory.exists():\n",
    "    shutil.rmtree(output_directory)\n",
    "times = np.arange(\n",
    "    np.datetime64(start),\n",
    "    np.datetime64(end) + np.timedelta64(10, \"m\"),\n",
    "    +np.timedelta64(10, \"m\"),\n",
    ")\n",
    "tracks = track.simultaneous_track(\n",
    "    times,\n",
    "    data_options,\n",
    "    grid_options,\n",
    "    track_options,\n",
    "    visualize_options,\n",
    "    output_directory=output_directory,\n",
    ")"
   ]
  },
  {
   "cell_type": "code",
   "execution_count": 42,
   "metadata": {},
   "outputs": [
    {
     "name": "stderr",
     "output_type": "stream",
     "text": [
      "2024-08-29 23:02:38,912 - thor.option - DEBUG - Saving options to /home/ewan/THOR_output/options/grid_options/synthetic_cartesian.yaml\n"
     ]
    }
   ],
   "source": [
    "central_latitude = -10\n",
    "central_longitude = 132\n",
    "\n",
    "y = np.arange(-400e3, 400e3 + 2.5e3, 2.5e3).tolist()\n",
    "x = np.arange(-400e3, 400e3 + 2.5e3, 2.5e3).tolist()\n",
    "\n",
    "grid_options = grid.create_options(\n",
    "    name=\"cartesian\",\n",
    "    x=x,\n",
    "    y=y,\n",
    "    central_latitude=central_latitude,\n",
    "    central_longitude=central_longitude,\n",
    ")\n",
    "grid.check_options(grid_options)\n",
    "grid.save_grid_options(grid_options, filename=\"synthetic_cartesian\")"
   ]
  },
  {
   "cell_type": "code",
   "execution_count": 43,
   "metadata": {},
   "outputs": [
    {
     "name": "stderr",
     "output_type": "stream",
     "text": [
      "2024-08-29 23:02:39,115 - thor.track - INFO - Beginning simultaneous tracking.\n",
      "2024-08-29 23:02:39,118 - thor.track - INFO - Processing 2005-11-13T00:00:00.\n",
      "2024-08-29 23:02:39,120 - thor.data.synthetic - INFO - Updating synthetic dataset for 2005-11-13T00:00:00.\n",
      "2024-08-29 23:02:39,841 - thor.track - INFO - Processing hierarchy level 0.\n",
      "2024-08-29 23:02:39,843 - thor.track - INFO - Tracking cell.\n",
      "2024-08-29 23:02:39,872 - thor.match.match - INFO - Matching cell objects.\n",
      "2024-08-29 23:02:39,875 - thor.match.match - INFO - No previous mask, or no objects in previous mask.\n",
      "2024-08-29 23:02:39,880 - thor.visualize.runtime - INFO - Generating runtime visualizations.\n",
      "2024-08-29 23:02:40,090 - thor.visualize.runtime - DEBUG - Saving mask figure for cell.\n",
      "2024-08-29 23:02:42,027 - thor.visualize.runtime - DEBUG - Saving match figure for cell.\n",
      "2024-08-29 23:02:46,177 - thor.track - INFO - Processing 2005-11-13T00:10:00.\n",
      "2024-08-29 23:02:46,179 - thor.data.synthetic - INFO - Updating synthetic dataset for 2005-11-13T00:10:00.\n",
      "2024-08-29 23:02:46,867 - thor.track - INFO - Processing hierarchy level 0.\n",
      "2024-08-29 23:02:46,869 - thor.track - INFO - Tracking cell.\n",
      "2024-08-29 23:02:46,908 - thor.match.match - INFO - Matching cell objects.\n",
      "2024-08-29 23:02:46,947 - thor.match.match - INFO - New matchable objects. Initializing object record.\n",
      "2024-08-29 23:02:46,959 - thor.visualize.runtime - INFO - Generating runtime visualizations.\n",
      "2024-08-29 23:02:47,164 - thor.visualize.runtime - DEBUG - Saving mask figure for cell.\n",
      "2024-08-29 23:02:49,315 - thor.visualize.runtime - DEBUG - Saving match figure for cell.\n",
      "2024-08-29 23:02:53,482 - thor.track - INFO - Processing 2005-11-13T00:20:00.\n",
      "2024-08-29 23:02:53,484 - thor.data.synthetic - INFO - Updating synthetic dataset for 2005-11-13T00:20:00.\n",
      "2024-08-29 23:02:54,256 - thor.track - INFO - Processing hierarchy level 0.\n",
      "2024-08-29 23:02:54,257 - thor.track - INFO - Tracking cell.\n",
      "2024-08-29 23:02:54,285 - thor.match.match - INFO - Matching cell objects.\n",
      "2024-08-29 23:02:54,329 - thor.match.match - INFO - Updating object record.\n",
      "2024-08-29 23:02:54,338 - thor.visualize.runtime - INFO - Generating runtime visualizations.\n",
      "2024-08-29 23:02:54,588 - thor.visualize.runtime - DEBUG - Saving mask figure for cell.\n",
      "2024-08-29 23:02:57,027 - thor.visualize.runtime - DEBUG - Saving match figure for cell.\n",
      "2024-08-29 23:03:01,668 - thor.track - INFO - Processing 2005-11-13T00:30:00.\n",
      "2024-08-29 23:03:01,670 - thor.data.synthetic - INFO - Updating synthetic dataset for 2005-11-13T00:30:00.\n",
      "2024-08-29 23:03:02,323 - thor.track - INFO - Processing hierarchy level 0.\n",
      "2024-08-29 23:03:02,325 - thor.track - INFO - Tracking cell.\n",
      "2024-08-29 23:03:02,358 - thor.match.match - INFO - Matching cell objects.\n",
      "2024-08-29 23:03:02,393 - thor.match.match - INFO - Updating object record.\n",
      "2024-08-29 23:03:02,404 - thor.visualize.runtime - INFO - Generating runtime visualizations.\n",
      "2024-08-29 23:03:02,612 - thor.visualize.runtime - DEBUG - Saving mask figure for cell.\n",
      "2024-08-29 23:03:05,511 - thor.visualize.runtime - DEBUG - Saving match figure for cell.\n",
      "2024-08-29 23:03:10,057 - thor.track - INFO - Processing 2005-11-13T00:40:00.\n",
      "2024-08-29 23:03:10,058 - thor.data.synthetic - INFO - Updating synthetic dataset for 2005-11-13T00:40:00.\n",
      "2024-08-29 23:03:10,762 - thor.track - INFO - Processing hierarchy level 0.\n",
      "2024-08-29 23:03:10,764 - thor.track - INFO - Tracking cell.\n",
      "2024-08-29 23:03:10,802 - thor.match.match - INFO - Matching cell objects.\n",
      "2024-08-29 23:03:10,844 - thor.match.match - INFO - Updating object record.\n",
      "2024-08-29 23:03:10,854 - thor.visualize.runtime - INFO - Generating runtime visualizations.\n",
      "2024-08-29 23:03:11,064 - thor.visualize.runtime - DEBUG - Saving mask figure for cell.\n",
      "2024-08-29 23:03:13,235 - thor.visualize.runtime - DEBUG - Saving match figure for cell.\n",
      "2024-08-29 23:03:17,816 - thor.track - INFO - Processing 2005-11-13T00:50:00.\n",
      "2024-08-29 23:03:17,818 - thor.data.synthetic - INFO - Updating synthetic dataset for 2005-11-13T00:50:00.\n",
      "2024-08-29 23:03:18,500 - thor.track - INFO - Processing hierarchy level 0.\n",
      "2024-08-29 23:03:18,503 - thor.track - INFO - Tracking cell.\n",
      "2024-08-29 23:03:18,540 - thor.match.match - INFO - Matching cell objects.\n",
      "2024-08-29 23:03:18,573 - thor.match.match - INFO - Updating object record.\n",
      "2024-08-29 23:03:18,583 - thor.visualize.runtime - INFO - Generating runtime visualizations.\n",
      "2024-08-29 23:03:18,805 - thor.visualize.runtime - DEBUG - Saving mask figure for cell.\n",
      "2024-08-29 23:03:20,973 - thor.visualize.runtime - DEBUG - Saving match figure for cell.\n",
      "2024-08-29 23:03:25,416 - thor.track - INFO - Processing 2005-11-13T01:00:00.\n",
      "2024-08-29 23:03:25,418 - thor.data.synthetic - INFO - Updating synthetic dataset for 2005-11-13T01:00:00.\n",
      "2024-08-29 23:03:26,088 - thor.track - INFO - Processing hierarchy level 0.\n",
      "2024-08-29 23:03:26,089 - thor.track - INFO - Tracking cell.\n",
      "2024-08-29 23:03:26,133 - thor.match.match - INFO - Matching cell objects.\n",
      "2024-08-29 23:03:26,175 - thor.match.match - INFO - Updating object record.\n",
      "2024-08-29 23:03:26,185 - thor.visualize.runtime - INFO - Generating runtime visualizations.\n",
      "2024-08-29 23:03:26,402 - thor.visualize.runtime - DEBUG - Saving mask figure for cell.\n",
      "2024-08-29 23:03:28,618 - thor.visualize.runtime - DEBUG - Saving match figure for cell.\n",
      "2024-08-29 23:03:33,243 - thor.write.mask - DEBUG - Writing cell masks for 2005-11-13.\n",
      "2024-08-29 23:03:33,371 - thor.visualize.visualize - INFO - Animating mask figures for cell objects on 2005-11-13.\n",
      "2024-08-29 23:03:33,733 - thor.visualize.visualize - INFO - Animating match figures for cell objects on 2005-11-13.\n"
     ]
    }
   ],
   "source": [
    "output_directory = base_local / \"runs/synthetic_demo_cartesian\"\n",
    "if output_directory.exists():\n",
    "    shutil.rmtree(output_directory)\n",
    "times = np.arange(\n",
    "    np.datetime64(start),\n",
    "    np.datetime64(end) + np.timedelta64(10, \"m\"),\n",
    "    +np.timedelta64(10, \"m\"),\n",
    ")\n",
    "tracks = track.simultaneous_track(\n",
    "    times,\n",
    "    data_options,\n",
    "    grid_options,\n",
    "    track_options,\n",
    "    tag_options,\n",
    "    visualize_options,\n",
    "    output_directory=output_directory,\n",
    ")"
   ]
  }
 ],
 "metadata": {
  "kernelspec": {
   "display_name": "THOR",
   "language": "python",
   "name": "python3"
  },
  "language_info": {
   "codemirror_mode": {
    "name": "ipython",
    "version": 3
   },
   "file_extension": ".py",
   "mimetype": "text/x-python",
   "name": "python",
   "nbconvert_exporter": "python",
   "pygments_lexer": "ipython3",
   "version": "3.10.14"
  }
 },
 "nbformat": 4,
 "nbformat_minor": 2
}
