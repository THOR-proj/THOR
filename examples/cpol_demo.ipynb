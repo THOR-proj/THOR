{
 "cells": [
  {
   "cell_type": "code",
   "execution_count": 1,
   "metadata": {},
   "outputs": [
    {
     "name": "stdout",
     "output_type": "stream",
     "text": [
      "\n",
      "## You are using the Python ARM Radar Toolkit (Py-ART), an open source\n",
      "## library for working with weather radar data. Py-ART is partly\n",
      "## supported by the U.S. Department of Energy as part of the Atmospheric\n",
      "## Radiation Measurement (ARM) Climate Research Facility, an Office of\n",
      "## Science user facility.\n",
      "##\n",
      "## If you use this software to prepare a publication, please cite:\n",
      "##\n",
      "##     JJ Helmus and SM Collis, JORS 2016, doi: 10.5334/jors.119\n",
      "\n"
     ]
    }
   ],
   "source": [
    "%load_ext autoreload\n",
    "%autoreload 2\n",
    "import numpy as np\n",
    "import xarray as xr\n",
    "import matplotlib.pyplot as plt\n",
    "import thor.data as data\n",
    "import thor.data.dispatch as dispatch\n",
    "import thor.grid as grid\n",
    "import thor.track as track\n",
    "import thor.option as option\n",
    "import thor.tag as tag\n",
    "import thor.visualize as visualize\n",
    "\n",
    "notebook_name = \"cpol_demo.ipynb\"\n",
    "__file__ = \"/home/ewan/Documents/THOR/examples/cpol_demo.ipynb\""
   ]
  },
  {
   "cell_type": "code",
   "execution_count": 6,
   "metadata": {},
   "outputs": [
    {
     "name": "stderr",
     "output_type": "stream",
     "text": [
      "2024-06-25 18:17:14,573 - thor.option - DEBUG - Saving options to /home/ewan/Documents/THOR/thor/options/data_options/cpol_era5.yaml\n",
      "2024-06-25 18:17:14,629 - thor.option - DEBUG - Saving options to /home/ewan/Documents/THOR/thor/options/grid_options/cpol_geographic.yaml\n",
      "2024-06-25 18:17:14,644 - thor.option - DEBUG - Saving options to /home/ewan/Documents/THOR/thor/options/tag_options/era5.yaml\n",
      "2024-06-25 18:17:14,647 - thor.option - DEBUG - Saving options to /home/ewan/Documents/THOR/thor/options/track_options/cpol_mcs.yaml\n",
      "2024-06-25 18:17:14,658 - thor.option - DEBUG - Saving options to /home/ewan/Documents/THOR/thor/options/visualize_options/runtime_mcs.yaml\n"
     ]
    }
   ],
   "source": [
    "# Parent directory for saving outputs\n",
    "base_local = \"/home/ewan/Documents/THOR/thor\"\n",
    "\n",
    "# Create the data_options dictionary\n",
    "converted_options = {\n",
    "    \"save\": False, \"load\": True, \"parent_converted\": None}\n",
    "cpol_options = data.aura.cpol_data_options(\n",
    "    start=\"2005-11-13T14:00:00\",\n",
    "    converted_options=converted_options,\n",
    "    parent_local=f\"{base_local}/test/data/raw\")\n",
    "era5_pl_options = data.era5.data_options(parent_local=f\"{base_local}/test/data/raw\")\n",
    "era5_sl_options = data.era5.data_options(data_format=\"single-levels\", parent_local=f\"{base_local}/test/data/raw\")\n",
    "data_options = option.consolidate_options([cpol_options, era5_pl_options, era5_sl_options])\n",
    "dispatch.check_data_options(data_options)\n",
    "data.option.save_data_options(data_options, filename=\"cpol_era5\")\n",
    "\n",
    "# Create the grid_options dictionary using the first file in the cpol dataset\n",
    "filepath = data_options[\"cpol\"][\"filepaths\"][0]\n",
    "with xr.open_dataset(filepath) as cpol:\n",
    "    if converted_options[\"load\"]:\n",
    "        latitude, longitude = [cpol.latitude.values, cpol.longitude.values]\n",
    "    else:\n",
    "        lats = cpol[\"point_latitude\"].isel(z=0).values\n",
    "        lons = cpol[\"point_longitude\"].isel(z=0).values\n",
    "        latitude, longitude = grid.new_geographic_grid(lats, lons, .025, .025)\n",
    "grid_options = grid.create_options(name=\"geographic\", latitude=latitude, longitude=longitude)\n",
    "grid.check_options(grid_options)\n",
    "grid.save_grid_options(grid_options, filename=\"cpol_geographic\")\n",
    "\n",
    "# Create the tag_options dictionary\n",
    "era5_pl_tag_options = data.era5.tag_options()\n",
    "era5_sl_tag_options = data.era5.tag_options(dataset=\"era5_sl\")\n",
    "tag_options = option.consolidate_options([era5_pl_tag_options, era5_sl_tag_options])\n",
    "tag.save_tag_options(tag_options, filename=\"era5\")\n",
    "\n",
    "# Create the track_options dictionary\n",
    "track_options = option.mcs(dataset=\"cpol\", tags=[\"era5_pl\", \"era5_sl\"])\n",
    "option.save_track_options(track_options, filename=\"cpol_mcs\")\n",
    "\n",
    "# Create the display_options dictionary\n",
    "visualize_options = {\n",
    "    obj: visualize.option.runtime_options(\n",
    "        obj,\n",
    "        save=True,\n",
    "        style=\"paper\",\n",
    "        parent_local=f\"{base_local}/test/runtime_visualization\",\n",
    "    )\n",
    "    for obj in [\"cell\", \"middle_cloud\", \"anvil\"]\n",
    "}\n",
    "visualize.option.save_display_options(visualize_options, filename=\"runtime_mcs\")\n"
   ]
  },
  {
   "cell_type": "code",
   "execution_count": 10,
   "metadata": {},
   "outputs": [
    {
     "name": "stderr",
     "output_type": "stream",
     "text": [
      "2024-06-25 18:23:03,358 - thor.track - INFO - Processing 2005-11-13T14:00:09.000000000.\n",
      "2024-06-25 18:23:03,359 - thor.data.aura - DEBUG - Updating cpol dataset for 2005-11-13T14:00:09.000000000\n",
      "2024-06-25 18:23:03,385 - thor.track - DEBUG - Processing hierarchy level 0.\n",
      "2024-06-25 18:23:03,386 - thor.track - DEBUG - Tracking cell.\n",
      "2024-06-25 18:23:04,881 - thor.track - DEBUG - Tracking middle_cloud.\n",
      "2024-06-25 18:23:06,300 - thor.track - DEBUG - Tracking anvil.\n",
      "2024-06-25 18:23:07,703 - thor.track - DEBUG - Processing hierarchy level 1.\n",
      "2024-06-25 18:23:07,704 - thor.track - DEBUG - Tracking mcs.\n",
      "2024-06-25 18:23:07,705 - thor.data.era5 - DEBUG - Updating era5_pl dataset for 2005-11-13T14:00:09.000000000\n",
      "2024-06-25 18:23:07,707 - thor.data.era5 - DEBUG - Subsetting u_era5_oper_pl_20051101-20051130.nc\n",
      "2024-06-25 18:23:07,750 - thor.data.era5 - DEBUG - Subsetting v_era5_oper_pl_20051101-20051130.nc\n",
      "2024-06-25 18:23:07,793 - thor.data.era5 - DEBUG - Subsetting z_era5_oper_pl_20051101-20051130.nc\n",
      "2024-06-25 18:23:07,839 - thor.data.era5 - DEBUG - Subsetting r_era5_oper_pl_20051101-20051130.nc\n",
      "2024-06-25 18:23:07,887 - thor.data.era5 - DEBUG - Subsetting t_era5_oper_pl_20051101-20051130.nc\n",
      "2024-06-25 18:23:08,008 - thor.data.era5 - DEBUG - Updating era5_sl dataset for 2005-11-13T14:00:09.000000000\n",
      "2024-06-25 18:23:08,010 - thor.data.era5 - DEBUG - Subsetting cape_era5_oper_sfc_20051101-20051130.nc\n",
      "2024-06-25 18:23:08,056 - thor.data.era5 - DEBUG - Subsetting cin_era5_oper_sfc_20051101-20051130.nc\n",
      "2024-06-25 18:23:08,157 - thor.track - INFO - Processing 2005-11-13T14:10:23.000000000.\n",
      "2024-06-25 18:23:08,158 - thor.data.aura - DEBUG - Updating cpol dataset for 2005-11-13T14:10:23.000000000\n",
      "2024-06-25 18:23:08,184 - thor.track - DEBUG - Processing hierarchy level 0.\n",
      "2024-06-25 18:23:08,185 - thor.track - DEBUG - Tracking cell.\n",
      "2024-06-25 18:23:09,715 - thor.track - DEBUG - Tracking middle_cloud.\n"
     ]
    }
   ],
   "source": [
    "times = data.aura.generate_cpol_times(data_options[\"cpol\"][\"filepaths\"])\n",
    "tracks = track.simultaneous_track(times, data_options, grid_options, track_options, tag_options, visualize_options)"
   ]
  },
  {
   "cell_type": "code",
   "execution_count": null,
   "metadata": {},
   "outputs": [],
   "source": []
  }
 ],
 "metadata": {
  "kernelspec": {
   "display_name": "THOR",
   "language": "python",
   "name": "python3"
  },
  "language_info": {
   "codemirror_mode": {
    "name": "ipython",
    "version": 3
   },
   "file_extension": ".py",
   "mimetype": "text/x-python",
   "name": "python",
   "nbconvert_exporter": "python",
   "pygments_lexer": "ipython3",
   "version": "3.10.14"
  }
 },
 "nbformat": 4,
 "nbformat_minor": 2
}
