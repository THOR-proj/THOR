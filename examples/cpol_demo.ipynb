{
 "cells": [
  {
   "cell_type": "code",
   "execution_count": 1,
   "metadata": {},
   "outputs": [
    {
     "name": "stdout",
     "output_type": "stream",
     "text": [
      "\n",
      "## You are using the Python ARM Radar Toolkit (Py-ART), an open source\n",
      "## library for working with weather radar data. Py-ART is partly\n",
      "## supported by the U.S. Department of Energy as part of the Atmospheric\n",
      "## Radiation Measurement (ARM) Climate Research Facility, an Office of\n",
      "## Science user facility.\n",
      "##\n",
      "## If you use this software to prepare a publication, please cite:\n",
      "##\n",
      "##     JJ Helmus and SM Collis, JORS 2016, doi: 10.5334/jors.119\n",
      "\n"
     ]
    }
   ],
   "source": [
    "%load_ext autoreload\n",
    "%autoreload 2\n",
    "from pathlib import Path\n",
    "import numpy as np\n",
    "import xarray as xr\n",
    "import matplotlib.pyplot as plt\n",
    "import thor.data as data\n",
    "import thor.data.dispatch as dispatch\n",
    "import thor.grid as grid\n",
    "import thor.track as track\n",
    "import thor.option as option\n",
    "import thor.tag as tag\n",
    "import thor.visualize as visualize\n",
    "\n",
    "notebook_name = \"cpol_demo.ipynb\"\n",
    "__file__ = \"/home/ewan/Documents/THOR/examples/cpol_demo.ipynb\""
   ]
  },
  {
   "cell_type": "code",
   "execution_count": 2,
   "metadata": {},
   "outputs": [
    {
     "name": "stderr",
     "output_type": "stream",
     "text": [
      "2024-06-30 10:21:41,432 - thor.option - DEBUG - Saving options to /home/ewan/THOR_output/options/data_options/cpol_era5.yaml\n"
     ]
    },
    {
     "name": "stderr",
     "output_type": "stream",
     "text": [
      "2024-06-30 10:21:41,561 - thor.option - DEBUG - Saving options to /home/ewan/THOR_output/options/grid_options/cpol_geographic.yaml\n",
      "2024-06-30 10:21:41,606 - thor.option - DEBUG - Saving options to /home/ewan/THOR_output/options/tag_options/era5.yaml\n",
      "2024-06-30 10:21:41,609 - thor.option - DEBUG - Saving options to /home/ewan/THOR_output/options/track_options/cpol_mcs.yaml\n",
      "2024-06-30 10:21:41,619 - thor.option - DEBUG - Saving options to /home/ewan/THOR_output/options/visualize_options/runtime_mcs.yaml\n"
     ]
    }
   ],
   "source": [
    "# Parent directory for saving outputs\n",
    "base_local = Path(\"/home/ewan/THOR_output\")\n",
    "start = \"2005-11-13T19:00:00\"\n",
    "end = \"2005-11-13T20:00:00\"\n",
    "\n",
    "# Create the data_options dictionary\n",
    "converted_options = {\"save\": True, \"load\": False, \"parent_converted\": None}\n",
    "cpol_options = data.aura.cpol_data_options(\n",
    "    start=start, end=end, converted_options=converted_options\n",
    ")\n",
    "era5_pl_options = data.era5.data_options(start=start, end=end)\n",
    "era5_sl_options = data.era5.data_options(\n",
    "    start=start, end=end, data_format=\"single-levels\"\n",
    ")\n",
    "data_options = option.consolidate_options(\n",
    "    [cpol_options, era5_pl_options, era5_sl_options]\n",
    ")\n",
    "\n",
    "dispatch.check_data_options(data_options)\n",
    "data.option.save_data_options(data_options, filename=\"cpol_era5\")\n",
    "\n",
    "# Create the grid_options dictionary using the first file in the cpol dataset\n",
    "filepath = data_options[\"cpol\"][\"filepaths\"][0]\n",
    "with xr.open_dataset(filepath) as cpol:\n",
    "    if converted_options[\"load\"]:\n",
    "        latitude, longitude = [\n",
    "            cpol.latitude.values.tolist(),\n",
    "            cpol.longitude.values.tolist(),\n",
    "        ]\n",
    "    else:\n",
    "        lats = cpol[\"point_latitude\"].isel(z=0).values\n",
    "        lons = cpol[\"point_longitude\"].isel(z=0).values\n",
    "        latitude, longitude = grid.new_geographic_grid(lats, lons, 0.025, 0.025)\n",
    "grid_options = grid.create_options(\n",
    "    name=\"geographic\", latitude=latitude, longitude=longitude\n",
    ")\n",
    "grid.check_options(grid_options)\n",
    "grid.save_grid_options(grid_options, filename=\"cpol_geographic\")\n",
    "\n",
    "# Create the tag_options dictionary\n",
    "era5_pl_tag_options = data.era5.tag_options()\n",
    "era5_sl_tag_options = data.era5.tag_options(dataset=\"era5_sl\")\n",
    "tag_options = option.consolidate_options([era5_pl_tag_options, era5_sl_tag_options])\n",
    "tag.save_tag_options(tag_options, filename=\"era5\")\n",
    "\n",
    "# Create the track_options dictionary\n",
    "track_options = option.mcs(dataset=\"cpol\", tags=[\"era5_pl\", \"era5_sl\"])\n",
    "option.save_track_options(track_options, filename=\"cpol_mcs\")\n",
    "\n",
    "# Create the display_options dictionary\n",
    "visualize_options = {\n",
    "    obj: visualize.option.runtime_options(\n",
    "        obj,\n",
    "        save=True,\n",
    "        style=\"presentation\",\n",
    "    )\n",
    "    for obj in [\"cell\", \"middle_cloud\", \"anvil\", \"mcs\"]\n",
    "}\n",
    "visualize.option.save_display_options(visualize_options, filename=\"runtime_mcs\")"
   ]
  },
  {
   "cell_type": "code",
   "execution_count": 3,
   "metadata": {},
   "outputs": [],
   "source": [
    "# visualize_options['mcs'][\"figures\"][\"mask\"][\"member_objects\"] = [\"cell\", \"anvil\"]\n",
    "# visualize_options['mcs'][\"figures\"][\"mask\"][\"member_levels\"] = [0, 0]\n",
    "visualize_options['mcs'][\"figures\"][\"mask\"][\"figsize\"] = (12, 3.5)\n",
    "visualize_options['mcs'][\"figures\"][\"mask\"][\"wspace\"] = 0.05"
   ]
  },
  {
   "cell_type": "code",
   "execution_count": 4,
   "metadata": {},
   "outputs": [
    {
     "data": {
      "text/plain": [
       "{'style': 'presentation', 'figsize': (12, 3.5), 'wspace': 0.05}"
      ]
     },
     "execution_count": 4,
     "metadata": {},
     "output_type": "execute_result"
    }
   ],
   "source": [
    "visualize_options['mcs'][\"figures\"][\"mask\"]"
   ]
  },
  {
   "cell_type": "code",
   "execution_count": 15,
   "metadata": {},
   "outputs": [
    {
     "name": "stderr",
     "output_type": "stream",
     "text": [
      "2024-06-30 10:41:38,103 - thor.track - INFO - Processing 2005-11-13T19:00:08.\n",
      "2024-06-30 10:41:38,105 - thor.data.aura - DEBUG - Updating cpol dataset for 2005-11-13T19:00:08.\n",
      "2024-06-30 10:41:38,106 - thor.data.aura - DEBUG - Converting cpol data from twp10cpolgrid150.b2.20051113.190000.nc\n",
      "2024-06-30 10:41:38,842 - thor.track - DEBUG - Processing hierarchy level 0.\n",
      "2024-06-30 10:41:38,843 - thor.track - DEBUG - Tracking cell.\n",
      "2024-06-30 10:41:40,385 - thor.track - DEBUG - Tracking middle_cloud.\n",
      "2024-06-30 10:41:41,714 - thor.track - DEBUG - Tracking anvil.\n",
      "2024-06-30 10:41:43,046 - thor.track - DEBUG - Processing hierarchy level 1.\n",
      "2024-06-30 10:41:43,047 - thor.track - DEBUG - Tracking mcs.\n",
      "2024-06-30 10:41:46,703 - thor.data.era5 - DEBUG - Updating era5_pl dataset for 2005-11-13T19:00:08.\n",
      "2024-06-30 10:41:46,705 - thor.data.era5 - DEBUG - Subsetting u_era5_oper_pl_20051101-20051130.nc\n",
      "2024-06-30 10:41:46,765 - thor.data.era5 - DEBUG - Subsetting v_era5_oper_pl_20051101-20051130.nc\n",
      "2024-06-30 10:41:46,820 - thor.data.era5 - DEBUG - Subsetting z_era5_oper_pl_20051101-20051130.nc\n",
      "2024-06-30 10:41:46,876 - thor.data.era5 - DEBUG - Subsetting r_era5_oper_pl_20051101-20051130.nc\n",
      "2024-06-30 10:41:46,935 - thor.data.era5 - DEBUG - Subsetting t_era5_oper_pl_20051101-20051130.nc\n",
      "2024-06-30 10:41:47,051 - thor.data.era5 - DEBUG - Updating era5_sl dataset for 2005-11-13T19:00:08.\n",
      "2024-06-30 10:41:47,053 - thor.data.era5 - DEBUG - Subsetting cape_era5_oper_sfc_20051101-20051130.nc\n",
      "2024-06-30 10:41:47,107 - thor.data.era5 - DEBUG - Subsetting cin_era5_oper_sfc_20051101-20051130.nc\n",
      "2024-06-30 10:41:47,246 - thor.track - INFO - Processing 2005-11-13T19:10:23.\n",
      "2024-06-30 10:41:47,248 - thor.data.aura - DEBUG - Updating cpol dataset for 2005-11-13T19:10:23.\n",
      "2024-06-30 10:41:47,249 - thor.data.aura - DEBUG - Converting cpol data from twp10cpolgrid150.b2.20051113.191000.nc\n",
      "2024-06-30 10:41:47,947 - thor.track - DEBUG - Processing hierarchy level 0.\n",
      "2024-06-30 10:41:47,948 - thor.track - DEBUG - Tracking cell.\n",
      "2024-06-30 10:41:49,537 - thor.track - DEBUG - Tracking middle_cloud.\n",
      "2024-06-30 10:41:51,021 - thor.track - DEBUG - Tracking anvil.\n",
      "2024-06-30 10:41:52,424 - thor.track - DEBUG - Processing hierarchy level 1.\n",
      "2024-06-30 10:41:52,425 - thor.track - DEBUG - Tracking mcs.\n",
      "2024-06-30 10:41:56,326 - thor.track - INFO - Processing 2005-11-13T19:20:09.\n",
      "2024-06-30 10:41:56,328 - thor.data.aura - DEBUG - Updating cpol dataset for 2005-11-13T19:20:09.\n",
      "2024-06-30 10:41:56,329 - thor.data.aura - DEBUG - Converting cpol data from twp10cpolgrid150.b2.20051113.192000.nc\n",
      "2024-06-30 10:41:57,049 - thor.track - DEBUG - Processing hierarchy level 0.\n",
      "2024-06-30 10:41:57,051 - thor.track - DEBUG - Tracking cell.\n",
      "2024-06-30 10:41:58,683 - thor.track - DEBUG - Tracking middle_cloud.\n",
      "2024-06-30 10:42:00,095 - thor.track - DEBUG - Tracking anvil.\n",
      "2024-06-30 10:42:01,539 - thor.track - DEBUG - Processing hierarchy level 1.\n",
      "2024-06-30 10:42:01,540 - thor.track - DEBUG - Tracking mcs.\n",
      "2024-06-30 10:42:05,516 - thor.track - INFO - Processing 2005-11-13T19:30:09.\n",
      "2024-06-30 10:42:05,518 - thor.data.aura - DEBUG - Updating cpol dataset for 2005-11-13T19:30:09.\n",
      "2024-06-30 10:42:05,519 - thor.data.aura - DEBUG - Converting cpol data from twp10cpolgrid150.b2.20051113.193000.nc\n",
      "2024-06-30 10:42:06,218 - thor.track - DEBUG - Processing hierarchy level 0.\n",
      "2024-06-30 10:42:06,219 - thor.track - DEBUG - Tracking cell.\n",
      "2024-06-30 10:42:08,307 - thor.track - DEBUG - Tracking middle_cloud.\n",
      "2024-06-30 10:42:09,720 - thor.track - DEBUG - Tracking anvil.\n",
      "2024-06-30 10:42:11,152 - thor.track - DEBUG - Processing hierarchy level 1.\n",
      "2024-06-30 10:42:11,154 - thor.track - DEBUG - Tracking mcs.\n",
      "2024-06-30 10:42:14,937 - thor.track - INFO - Processing 2005-11-13T19:40:08.\n",
      "2024-06-30 10:42:14,939 - thor.data.aura - DEBUG - Updating cpol dataset for 2005-11-13T19:40:08.\n",
      "2024-06-30 10:42:14,941 - thor.data.aura - DEBUG - Converting cpol data from twp10cpolgrid150.b2.20051113.194000.nc\n",
      "2024-06-30 10:42:15,652 - thor.track - DEBUG - Processing hierarchy level 0.\n",
      "2024-06-30 10:42:15,653 - thor.track - DEBUG - Tracking cell.\n",
      "2024-06-30 10:42:17,203 - thor.track - DEBUG - Tracking middle_cloud.\n",
      "2024-06-30 10:42:18,553 - thor.track - DEBUG - Tracking anvil.\n",
      "2024-06-30 10:42:19,962 - thor.track - DEBUG - Processing hierarchy level 1.\n",
      "2024-06-30 10:42:19,963 - thor.track - DEBUG - Tracking mcs.\n",
      "2024-06-30 10:42:23,737 - thor.track - INFO - Processing 2005-11-13T19:50:08.\n",
      "2024-06-30 10:42:23,739 - thor.data.aura - DEBUG - Updating cpol dataset for 2005-11-13T19:50:08.\n",
      "2024-06-30 10:42:23,739 - thor.data.aura - DEBUG - Converting cpol data from twp10cpolgrid150.b2.20051113.195000.nc\n",
      "2024-06-30 10:42:24,421 - thor.track - DEBUG - Processing hierarchy level 0.\n",
      "2024-06-30 10:42:24,423 - thor.track - DEBUG - Tracking cell.\n",
      "2024-06-30 10:42:25,926 - thor.track - DEBUG - Tracking middle_cloud.\n",
      "2024-06-30 10:42:27,339 - thor.track - DEBUG - Tracking anvil.\n",
      "2024-06-30 10:42:28,749 - thor.track - DEBUG - Processing hierarchy level 1.\n",
      "2024-06-30 10:42:28,750 - thor.track - DEBUG - Tracking mcs.\n",
      "2024-06-30 10:42:32,548 - thor.track - INFO - Processing 2005-11-13T20:00:08.\n",
      "2024-06-30 10:42:32,550 - thor.data.aura - DEBUG - Updating cpol dataset for 2005-11-13T20:00:08.\n",
      "2024-06-30 10:42:32,551 - thor.data.aura - DEBUG - Converting cpol data from twp10cpolgrid150.b2.20051113.200000.nc\n",
      "2024-06-30 10:42:33,227 - thor.track - DEBUG - Processing hierarchy level 0.\n",
      "2024-06-30 10:42:33,228 - thor.track - DEBUG - Tracking cell.\n",
      "2024-06-30 10:42:34,717 - thor.track - DEBUG - Tracking middle_cloud.\n",
      "2024-06-30 10:42:36,132 - thor.track - DEBUG - Tracking anvil.\n",
      "2024-06-30 10:42:37,922 - thor.track - DEBUG - Processing hierarchy level 1.\n",
      "2024-06-30 10:42:37,924 - thor.track - DEBUG - Tracking mcs.\n",
      "2024-06-30 10:42:41,632 - thor.write.mask - DEBUG - Writing cell masks for 2005-11-13.\n",
      "2024-06-30 10:42:41,669 - thor.write.mask - DEBUG - Writing middle_cloud masks for 2005-11-13.\n",
      "2024-06-30 10:42:41,709 - thor.write.mask - DEBUG - Writing anvil masks for 2005-11-13.\n"
     ]
    }
   ],
   "source": [
    "times = data.aura.generate_cpol_times(data_options[\"cpol\"])\n",
    "tracks = track.simultaneous_track(\n",
    "    times,\n",
    "    data_options,\n",
    "    grid_options,\n",
    "    track_options,\n",
    "    tag_options,\n",
    "    visualize_options,\n",
    "    output_directory=base_local / \"runs/cpol_demo\",\n",
    ")"
   ]
  },
  {
   "cell_type": "code",
   "execution_count": 13,
   "metadata": {},
   "outputs": [
    {
     "data": {
      "text/plain": [
       "{'name': 'cpol',\n",
       " 'start': '2005-11-13T19:00:00',\n",
       " 'end': '2005-11-13T20:00:00',\n",
       " 'parent_remote': 'https://dapds00.nci.org.au/thredds/fileServer/hj10',\n",
       " 'save_local': False,\n",
       " 'parent_local': '/home/ewan/THOR_output/input_data/raw',\n",
       " 'converted_options': {'save': True, 'load': False, 'parent_converted': None},\n",
       " 'filepaths': ['/home/ewan/THOR_output/input_data/raw/cpol/cpol_level_1b/v2020/gridded/grid_150km_2500m/2005/20051113/twp10cpolgrid150.b2.20051113.190000.nc',\n",
       "  '/home/ewan/THOR_output/input_data/raw/cpol/cpol_level_1b/v2020/gridded/grid_150km_2500m/2005/20051113/twp10cpolgrid150.b2.20051113.191000.nc',\n",
       "  '/home/ewan/THOR_output/input_data/raw/cpol/cpol_level_1b/v2020/gridded/grid_150km_2500m/2005/20051113/twp10cpolgrid150.b2.20051113.192000.nc',\n",
       "  '/home/ewan/THOR_output/input_data/raw/cpol/cpol_level_1b/v2020/gridded/grid_150km_2500m/2005/20051113/twp10cpolgrid150.b2.20051113.193000.nc',\n",
       "  '/home/ewan/THOR_output/input_data/raw/cpol/cpol_level_1b/v2020/gridded/grid_150km_2500m/2005/20051113/twp10cpolgrid150.b2.20051113.194000.nc',\n",
       "  '/home/ewan/THOR_output/input_data/raw/cpol/cpol_level_1b/v2020/gridded/grid_150km_2500m/2005/20051113/twp10cpolgrid150.b2.20051113.195000.nc',\n",
       "  '/home/ewan/THOR_output/input_data/raw/cpol/cpol_level_1b/v2020/gridded/grid_150km_2500m/2005/20051113/twp10cpolgrid150.b2.20051113.200000.nc'],\n",
       " 'attempt_download': True,\n",
       " 'deque_length': 2,\n",
       " 'use': 'track',\n",
       " 'level': '1b',\n",
       " 'data_format': 'grid_150km_2500m',\n",
       " 'fields': ['reflectivity'],\n",
       " 'version': 'v2020',\n",
       " 'range': 145,\n",
       " 'range_units': 'km'}"
      ]
     },
     "execution_count": 13,
     "metadata": {},
     "output_type": "execute_result"
    }
   ],
   "source": [
    "data_options[\"cpol\"]"
   ]
  },
  {
   "cell_type": "code",
   "execution_count": null,
   "metadata": {},
   "outputs": [],
   "source": []
  }
 ],
 "metadata": {
  "kernelspec": {
   "display_name": "THOR",
   "language": "python",
   "name": "python3"
  },
  "language_info": {
   "codemirror_mode": {
    "name": "ipython",
    "version": 3
   },
   "file_extension": ".py",
   "mimetype": "text/x-python",
   "name": "python",
   "nbconvert_exporter": "python",
   "pygments_lexer": "ipython3",
   "version": "3.10.14"
  }
 },
 "nbformat": 4,
 "nbformat_minor": 2
}
