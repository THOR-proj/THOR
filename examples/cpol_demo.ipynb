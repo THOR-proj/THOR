{
 "cells": [
  {
   "cell_type": "code",
   "execution_count": 21,
   "metadata": {},
   "outputs": [
    {
     "name": "stdout",
     "output_type": "stream",
     "text": [
      "The autoreload extension is already loaded. To reload it, use:\n",
      "  %reload_ext autoreload\n"
     ]
    }
   ],
   "source": [
    "%load_ext autoreload\n",
    "%autoreload 2\n",
    "import numpy as np\n",
    "import xarray as xr\n",
    "import matplotlib.pyplot as plt\n",
    "import thor.data as data\n",
    "import thor.data.dispatch as dispatch\n",
    "import thor.grid as grid\n",
    "import thor.track as track\n",
    "import thor.option as option\n",
    "import thor.tag as tag\n",
    "import thor.visualize as visualize\n",
    "import thor.utils as utils\n",
    "\n",
    "notebook_name = \"cpol_demo.ipynb\"\n",
    "__file__ = \"/home/ewan/Documents/THOR/examples/cpol_demo.ipynb\""
   ]
  },
  {
   "cell_type": "code",
   "execution_count": 24,
   "metadata": {},
   "outputs": [
    {
     "name": "stderr",
     "output_type": "stream",
     "text": [
      "2024-06-27 19:40:29,639 - thor.option - DEBUG - Saving options to /home/ewan/THOR_output/options/data_options/cpol_era5.yaml\n",
      "2024-06-27 19:40:29,689 - thor.option - DEBUG - Saving options to /home/ewan/THOR_output/options/grid_options/cpol_geographic.yaml\n",
      "2024-06-27 19:40:29,706 - thor.option - DEBUG - Saving options to /home/ewan/THOR_output/options/tag_options/era5.yaml\n",
      "2024-06-27 19:40:29,713 - thor.option - DEBUG - Saving options to /home/ewan/THOR_output/options/track_options/cpol_mcs.yaml\n",
      "2024-06-27 19:40:29,727 - thor.option - DEBUG - Saving options to /home/ewan/THOR_output/options/visualize_options/runtime_mcs.yaml\n"
     ]
    }
   ],
   "source": [
    "# Parent directory for saving outputs\n",
    "base_local = \"/home/ewan/Documents/THOR/thor\"\n",
    "\n",
    "# Create the data_options dictionary\n",
    "converted_options = {\"save\": False, \"load\": True, \"parent_converted\": None}\n",
    "cpol_options = data.aura.cpol_data_options(\n",
    "    start=\"2005-11-13T14:00:00\",\n",
    "    end=\"2005-11-13T16:00:00\",\n",
    "    converted_options=converted_options,\n",
    ")\n",
    "era5_pl_options = data.era5.data_options()\n",
    "era5_sl_options = data.era5.data_options(data_format=\"single-levels\")\n",
    "data_options = option.consolidate_options(\n",
    "    [cpol_options, era5_pl_options, era5_sl_options]\n",
    ")\n",
    "\n",
    "dispatch.check_data_options(data_options)\n",
    "data.option.save_data_options(data_options, filename=\"cpol_era5\")\n",
    "\n",
    "# Create the grid_options dictionary using the first file in the cpol dataset\n",
    "filepath = data_options[\"cpol\"][\"filepaths\"][0]\n",
    "with xr.open_dataset(filepath) as cpol:\n",
    "    if converted_options[\"load\"]:\n",
    "        latitude, longitude = [cpol.latitude.values, cpol.longitude.values]\n",
    "    else:\n",
    "        lats = cpol[\"point_latitude\"].isel(z=0).values\n",
    "        lons = cpol[\"point_longitude\"].isel(z=0).values\n",
    "        latitude, longitude = grid.new_geographic_grid(lats, lons, 0.025, 0.025)\n",
    "grid_options = grid.create_options(\n",
    "    name=\"geographic\", latitude=latitude, longitude=longitude\n",
    ")\n",
    "grid.check_options(grid_options)\n",
    "grid.save_grid_options(grid_options, filename=\"cpol_geographic\")\n",
    "\n",
    "# Create the tag_options dictionary\n",
    "era5_pl_tag_options = data.era5.tag_options()\n",
    "era5_sl_tag_options = data.era5.tag_options(dataset=\"era5_sl\")\n",
    "tag_options = option.consolidate_options([era5_pl_tag_options, era5_sl_tag_options])\n",
    "tag.save_tag_options(tag_options, filename=\"era5\")\n",
    "\n",
    "# Create the track_options dictionary\n",
    "track_options = option.mcs(dataset=\"cpol\", tags=[\"era5_pl\", \"era5_sl\"])\n",
    "option.save_track_options(track_options, filename=\"cpol_mcs\")\n",
    "\n",
    "# Create the display_options dictionary\n",
    "visualize_options = {\n",
    "    obj: visualize.option.runtime_options(\n",
    "        obj,\n",
    "        save=True,\n",
    "        style=\"paper\",\n",
    "    )\n",
    "    for obj in [\"cell\", \"middle_cloud\", \"anvil\"]\n",
    "}\n",
    "visualize.option.save_display_options(visualize_options, filename=\"runtime_mcs\")"
   ]
  },
  {
   "cell_type": "code",
   "execution_count": 25,
   "metadata": {},
   "outputs": [
    {
     "name": "stderr",
     "output_type": "stream",
     "text": [
      "2024-06-27 19:40:44,450 - thor.track - INFO - Processing 2005-11-13T14:00:09.000000000.\n",
      "2024-06-27 19:40:44,451 - thor.data.aura - DEBUG - Updating cpol dataset for 2005-11-13T14:00:09.000000000\n",
      "2024-06-27 19:40:44,476 - thor.track - DEBUG - Processing hierarchy level 0.\n",
      "2024-06-27 19:40:44,477 - thor.track - DEBUG - Tracking cell.\n",
      "2024-06-27 19:40:45,831 - thor.track - DEBUG - Tracking middle_cloud.\n",
      "2024-06-27 19:40:46,841 - thor.track - DEBUG - Tracking anvil.\n",
      "2024-06-27 19:40:47,773 - thor.track - DEBUG - Processing hierarchy level 1.\n",
      "2024-06-27 19:40:47,774 - thor.track - DEBUG - Tracking mcs.\n",
      "2024-06-27 19:40:47,774 - thor.data.era5 - DEBUG - Updating era5_pl dataset for 2005-11-13T14:00:09.000000000\n",
      "2024-06-27 19:40:47,776 - thor.data.era5 - DEBUG - Subsetting u_era5_oper_pl_20051101-20051130.nc\n",
      "2024-06-27 19:40:47,818 - thor.data.era5 - DEBUG - Subsetting v_era5_oper_pl_20051101-20051130.nc\n",
      "2024-06-27 19:40:47,856 - thor.data.era5 - DEBUG - Subsetting z_era5_oper_pl_20051101-20051130.nc\n",
      "2024-06-27 19:40:47,894 - thor.data.era5 - DEBUG - Subsetting r_era5_oper_pl_20051101-20051130.nc\n",
      "2024-06-27 19:40:47,935 - thor.data.era5 - DEBUG - Subsetting t_era5_oper_pl_20051101-20051130.nc\n",
      "2024-06-27 19:40:48,210 - thor.data.era5 - DEBUG - Updating era5_sl dataset for 2005-11-13T14:00:09.000000000\n",
      "2024-06-27 19:40:48,212 - thor.data.era5 - DEBUG - Subsetting cape_era5_oper_sfc_20051101-20051130.nc\n",
      "2024-06-27 19:40:48,249 - thor.data.era5 - DEBUG - Subsetting cin_era5_oper_sfc_20051101-20051130.nc\n",
      "2024-06-27 19:40:48,318 - thor.track - INFO - Processing 2005-11-13T14:10:23.000000000.\n",
      "2024-06-27 19:40:48,319 - thor.data.aura - DEBUG - Updating cpol dataset for 2005-11-13T14:10:23.000000000\n",
      "2024-06-27 19:40:48,331 - thor.track - DEBUG - Processing hierarchy level 0.\n",
      "2024-06-27 19:40:48,332 - thor.track - DEBUG - Tracking cell.\n",
      "2024-06-27 19:40:49,275 - thor.track - DEBUG - Tracking middle_cloud.\n",
      "2024-06-27 19:40:50,142 - thor.track - DEBUG - Tracking anvil.\n",
      "2024-06-27 19:40:51,005 - thor.track - DEBUG - Processing hierarchy level 1.\n",
      "2024-06-27 19:40:51,006 - thor.track - DEBUG - Tracking mcs.\n",
      "2024-06-27 19:40:51,031 - thor.track - INFO - Processing 2005-11-13T14:20:09.000000000.\n",
      "2024-06-27 19:40:51,032 - thor.data.aura - DEBUG - Updating cpol dataset for 2005-11-13T14:20:09.000000000\n",
      "2024-06-27 19:40:51,045 - thor.track - DEBUG - Processing hierarchy level 0.\n",
      "2024-06-27 19:40:51,046 - thor.track - DEBUG - Tracking cell.\n",
      "2024-06-27 19:40:51,991 - thor.track - DEBUG - Tracking middle_cloud.\n",
      "2024-06-27 19:40:52,876 - thor.track - DEBUG - Tracking anvil.\n",
      "2024-06-27 19:40:53,754 - thor.track - DEBUG - Processing hierarchy level 1.\n",
      "2024-06-27 19:40:53,754 - thor.track - DEBUG - Tracking mcs.\n",
      "2024-06-27 19:40:53,826 - thor.track - INFO - Processing 2005-11-13T14:30:09.000000000.\n",
      "2024-06-27 19:40:53,827 - thor.data.aura - DEBUG - Updating cpol dataset for 2005-11-13T14:30:09.000000000\n",
      "2024-06-27 19:40:53,844 - thor.track - DEBUG - Processing hierarchy level 0.\n",
      "2024-06-27 19:40:53,845 - thor.track - DEBUG - Tracking cell.\n",
      "2024-06-27 19:40:54,863 - thor.track - DEBUG - Tracking middle_cloud.\n",
      "2024-06-27 19:40:56,096 - thor.track - DEBUG - Tracking anvil.\n",
      "2024-06-27 19:40:57,279 - thor.track - DEBUG - Processing hierarchy level 1.\n",
      "2024-06-27 19:40:57,281 - thor.track - DEBUG - Tracking mcs.\n",
      "2024-06-27 19:40:57,323 - thor.track - INFO - Processing 2005-11-13T14:40:09.000000000.\n",
      "2024-06-27 19:40:57,324 - thor.data.aura - DEBUG - Updating cpol dataset for 2005-11-13T14:40:09.000000000\n",
      "2024-06-27 19:40:57,348 - thor.track - DEBUG - Processing hierarchy level 0.\n",
      "2024-06-27 19:40:57,349 - thor.track - DEBUG - Tracking cell.\n",
      "2024-06-27 19:40:58,703 - thor.track - DEBUG - Tracking middle_cloud.\n",
      "2024-06-27 19:40:59,710 - thor.track - DEBUG - Tracking anvil.\n",
      "2024-06-27 19:41:00,649 - thor.track - DEBUG - Processing hierarchy level 1.\n",
      "2024-06-27 19:41:00,650 - thor.track - DEBUG - Tracking mcs.\n",
      "2024-06-27 19:41:00,675 - thor.track - INFO - Processing 2005-11-13T14:50:09.000000000.\n",
      "2024-06-27 19:41:00,676 - thor.data.aura - DEBUG - Updating cpol dataset for 2005-11-13T14:50:09.000000000\n",
      "2024-06-27 19:41:00,690 - thor.track - DEBUG - Processing hierarchy level 0.\n",
      "2024-06-27 19:41:00,691 - thor.track - DEBUG - Tracking cell.\n",
      "2024-06-27 19:41:01,726 - thor.track - DEBUG - Tracking middle_cloud.\n",
      "2024-06-27 19:41:02,578 - thor.track - DEBUG - Tracking anvil.\n",
      "2024-06-27 19:41:03,447 - thor.track - DEBUG - Processing hierarchy level 1.\n",
      "2024-06-27 19:41:03,447 - thor.track - DEBUG - Tracking mcs.\n",
      "2024-06-27 19:41:03,464 - thor.track - INFO - Processing 2005-11-13T15:00:08.000000000.\n",
      "2024-06-27 19:41:03,466 - thor.data.aura - DEBUG - Updating cpol dataset for 2005-11-13T15:00:08.000000000\n",
      "2024-06-27 19:41:03,478 - thor.track - DEBUG - Processing hierarchy level 0.\n",
      "2024-06-27 19:41:03,479 - thor.track - DEBUG - Tracking cell.\n",
      "2024-06-27 19:41:04,529 - thor.track - DEBUG - Tracking middle_cloud.\n",
      "2024-06-27 19:41:05,367 - thor.track - DEBUG - Tracking anvil.\n",
      "2024-06-27 19:41:06,192 - thor.track - DEBUG - Processing hierarchy level 1.\n",
      "2024-06-27 19:41:06,192 - thor.track - DEBUG - Tracking mcs.\n",
      "2024-06-27 19:41:06,218 - thor.track - INFO - Processing 2005-11-13T15:10:23.000000000.\n",
      "2024-06-27 19:41:06,219 - thor.data.aura - DEBUG - Updating cpol dataset for 2005-11-13T15:10:23.000000000\n",
      "2024-06-27 19:41:06,234 - thor.track - DEBUG - Processing hierarchy level 0.\n",
      "2024-06-27 19:41:06,235 - thor.track - DEBUG - Tracking cell.\n",
      "2024-06-27 19:41:07,268 - thor.track - DEBUG - Tracking middle_cloud.\n",
      "2024-06-27 19:41:08,128 - thor.track - DEBUG - Tracking anvil.\n",
      "2024-06-27 19:41:08,972 - thor.track - DEBUG - Processing hierarchy level 1.\n",
      "2024-06-27 19:41:08,973 - thor.track - DEBUG - Tracking mcs.\n",
      "2024-06-27 19:41:08,997 - thor.track - INFO - Processing 2005-11-13T15:20:09.000000000.\n",
      "2024-06-27 19:41:08,998 - thor.data.aura - DEBUG - Updating cpol dataset for 2005-11-13T15:20:09.000000000\n",
      "2024-06-27 19:41:09,011 - thor.track - DEBUG - Processing hierarchy level 0.\n",
      "2024-06-27 19:41:09,013 - thor.track - DEBUG - Tracking cell.\n",
      "2024-06-27 19:41:10,054 - thor.track - DEBUG - Tracking middle_cloud.\n",
      "2024-06-27 19:41:10,950 - thor.track - DEBUG - Tracking anvil.\n",
      "2024-06-27 19:41:11,815 - thor.track - DEBUG - Processing hierarchy level 1.\n",
      "2024-06-27 19:41:11,815 - thor.track - DEBUG - Tracking mcs.\n",
      "2024-06-27 19:41:11,839 - thor.track - INFO - Processing 2005-11-13T15:30:09.000000000.\n",
      "2024-06-27 19:41:11,840 - thor.data.aura - DEBUG - Updating cpol dataset for 2005-11-13T15:30:09.000000000\n",
      "2024-06-27 19:41:11,859 - thor.track - DEBUG - Processing hierarchy level 0.\n",
      "2024-06-27 19:41:11,861 - thor.track - DEBUG - Tracking cell.\n",
      "2024-06-27 19:41:12,931 - thor.track - DEBUG - Tracking middle_cloud.\n",
      "2024-06-27 19:41:13,867 - thor.track - DEBUG - Tracking anvil.\n",
      "2024-06-27 19:41:14,701 - thor.track - DEBUG - Processing hierarchy level 1.\n",
      "2024-06-27 19:41:14,702 - thor.track - DEBUG - Tracking mcs.\n",
      "2024-06-27 19:41:14,718 - thor.track - INFO - Processing 2005-11-13T15:40:09.000000000.\n",
      "2024-06-27 19:41:14,719 - thor.data.aura - DEBUG - Updating cpol dataset for 2005-11-13T15:40:09.000000000\n",
      "2024-06-27 19:41:14,732 - thor.track - DEBUG - Processing hierarchy level 0.\n",
      "2024-06-27 19:41:14,733 - thor.track - DEBUG - Tracking cell.\n",
      "2024-06-27 19:41:15,788 - thor.track - DEBUG - Tracking middle_cloud.\n",
      "2024-06-27 19:41:16,665 - thor.track - DEBUG - Tracking anvil.\n",
      "2024-06-27 19:41:17,516 - thor.track - DEBUG - Processing hierarchy level 1.\n",
      "2024-06-27 19:41:17,516 - thor.track - DEBUG - Tracking mcs.\n",
      "2024-06-27 19:41:17,546 - thor.track - INFO - Processing 2005-11-13T15:50:09.000000000.\n",
      "2024-06-27 19:41:17,547 - thor.data.aura - DEBUG - Updating cpol dataset for 2005-11-13T15:50:09.000000000\n",
      "2024-06-27 19:41:17,568 - thor.track - DEBUG - Processing hierarchy level 0.\n",
      "2024-06-27 19:41:17,569 - thor.track - DEBUG - Tracking cell.\n",
      "2024-06-27 19:41:18,626 - thor.track - DEBUG - Tracking middle_cloud.\n",
      "2024-06-27 19:41:19,464 - thor.track - DEBUG - Tracking anvil.\n",
      "2024-06-27 19:41:20,340 - thor.track - DEBUG - Processing hierarchy level 1.\n",
      "2024-06-27 19:41:20,340 - thor.track - DEBUG - Tracking mcs.\n",
      "2024-06-27 19:41:20,357 - thor.track - INFO - Processing 2005-11-13T16:00:08.000000000.\n",
      "2024-06-27 19:41:20,358 - thor.data.aura - DEBUG - Updating cpol dataset for 2005-11-13T16:00:08.000000000\n",
      "2024-06-27 19:41:20,373 - thor.track - DEBUG - Processing hierarchy level 0.\n",
      "2024-06-27 19:41:20,374 - thor.track - DEBUG - Tracking cell.\n",
      "2024-06-27 19:41:21,446 - thor.track - DEBUG - Tracking middle_cloud.\n",
      "2024-06-27 19:41:22,294 - thor.track - DEBUG - Tracking anvil.\n",
      "2024-06-27 19:41:23,115 - thor.track - DEBUG - Processing hierarchy level 1.\n",
      "2024-06-27 19:41:23,115 - thor.track - DEBUG - Tracking mcs.\n"
     ]
    }
   ],
   "source": [
    "times = data.aura.generate_cpol_times(data_options[\"cpol\"][\"filepaths\"])\n",
    "tracks = track.simultaneous_track(times, data_options, grid_options, track_options, tag_options, visualize_options)"
   ]
  },
  {
   "cell_type": "code",
   "execution_count": 17,
   "metadata": {},
   "outputs": [],
   "source": [
    "cpol_demo = xr.open_dataset('/home/ewan/Documents/THOR/thor/test/data/converted/cpol/cpol_level_1b/v2020/gridded/grid_150km_2500m/2005/20051113/twp10cpolgrid150.b2.20051113.184000.nc')\n",
    "# x = cpol_demo.x.values\n",
    "# y = cpol_demo.y.values\n",
    "x = cpol_demo.longitude.values\n",
    "y = cpol_demo.latitude.values\n",
    "reflectivity = cpol_demo.reflectivity.values[0, 7]\n",
    "background_radius = 11e3\n",
    "radius_option = 1\n",
    "delta_Z_option = 0\n",
    "dBZ_threshold = 42\n",
    "\n",
    "use_dBZ_threshold = True"
   ]
  },
  {
   "cell_type": "code",
   "execution_count": 30,
   "metadata": {},
   "outputs": [],
   "source": [
    "from thor.detect.steiner import steiner_scheme, haversine"
   ]
  },
  {
   "cell_type": "code",
   "execution_count": 29,
   "metadata": {},
   "outputs": [
    {
     "data": {
      "text/plain": [
       "True"
      ]
     },
     "execution_count": 29,
     "metadata": {},
     "output_type": "execute_result"
    }
   ],
   "source": [
    "'latitude' in cpol_demo.dims"
   ]
  },
  {
   "cell_type": "code",
   "execution_count": 31,
   "metadata": {},
   "outputs": [],
   "source": [
    "classification = steiner_scheme(reflectivity, x, y, coordinates=\"geographic\")"
   ]
  },
  {
   "cell_type": "code",
   "execution_count": 32,
   "metadata": {},
   "outputs": [
    {
     "data": {
      "text/plain": [
       "<matplotlib.colorbar.Colorbar at 0x7df0d26a9de0>"
      ]
     },
     "execution_count": 32,
     "metadata": {},
     "output_type": "execute_result"
    },
    {
     "data": {
      "image/png": "[encoded data removed]",
      "text/plain": [
       "<Figure size 640x480 with 2 Axes>"
      ]
     },
     "metadata": {},
     "output_type": "display_data"
    }
   ],
   "source": [
    "plt.imshow(classification)\n",
    "plt.colorbar()"
   ]
  },
  {
   "cell_type": "code",
   "execution_count": null,
   "metadata": {},
   "outputs": [],
   "source": []
  }
 ],
 "metadata": {
  "kernelspec": {
   "display_name": "THOR",
   "language": "python",
   "name": "python3"
  },
  "language_info": {
   "codemirror_mode": {
    "name": "ipython",
    "version": 3
   },
   "file_extension": ".py",
   "mimetype": "text/x-python",
   "name": "python",
   "nbconvert_exporter": "python",
   "pygments_lexer": "ipython3",
   "version": "3.10.14"
  }
 },
 "nbformat": 4,
 "nbformat_minor": 2
}
